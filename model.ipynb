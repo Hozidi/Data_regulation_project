{
 "cells": [
  {
   "cell_type": "code",
   "execution_count": 1,
   "metadata": {},
   "outputs": [],
   "source": [
    "import pandas as pd\n",
    "import numpy as np"
   ]
  },
  {
   "cell_type": "code",
   "execution_count": 3,
   "metadata": {},
   "outputs": [
    {
     "data": {
      "text/html": [
       "<div>\n",
       "<style scoped>\n",
       "    .dataframe tbody tr th:only-of-type {\n",
       "        vertical-align: middle;\n",
       "    }\n",
       "\n",
       "    .dataframe tbody tr th {\n",
       "        vertical-align: top;\n",
       "    }\n",
       "\n",
       "    .dataframe thead th {\n",
       "        text-align: right;\n",
       "    }\n",
       "</style>\n",
       "<table border=\"1\" class=\"dataframe\">\n",
       "  <thead>\n",
       "    <tr style=\"text-align: right;\">\n",
       "      <th></th>\n",
       "      <th>Company Name</th>\n",
       "      <th>ISO Country Code</th>\n",
       "      <th>Country</th>\n",
       "      <th>City</th>\n",
       "      <th>Address</th>\n",
       "      <th>NACE Rev. 2 Code principal</th>\n",
       "      <th>NACE Principal Rev. 2, description</th>\n",
       "      <th>Sector</th>\n",
       "      <th>Main activity</th>\n",
       "      <th>Description in English</th>\n",
       "      <th>Website</th>\n",
       "      <th>Operating result [=EBIT]\\r mEUR 2021</th>\n",
       "      <th>Operating result [=EBIT]\\r mEUR 2020</th>\n",
       "      <th>Operating result [=EBIT]\\r mEUR 2019</th>\n",
       "      <th>Turnover\\r mEUR 2021</th>\n",
       "      <th>Turnover\\r mEUR 2020</th>\n",
       "      <th>Turnover\\r mEUR 2019</th>\n",
       "      <th>Availability of financial data</th>\n",
       "      <th>2 years of consecutive losses</th>\n",
       "      <th>Average loss over 3 years</th>\n",
       "    </tr>\n",
       "  </thead>\n",
       "  <tbody>\n",
       "    <tr>\n",
       "      <th>0</th>\n",
       "      <td>ITX HELLAS SINGLE MEMBER S.A.</td>\n",
       "      <td>GR</td>\n",
       "      <td>Grèce</td>\n",
       "      <td>ATHENS</td>\n",
       "      <td>NaN</td>\n",
       "      <td>4771</td>\n",
       "      <td>Commerce de détail d'habillement en magasin sp...</td>\n",
       "      <td>Engaged in the retail of fashion clothing</td>\n",
       "      <td>Retail</td>\n",
       "      <td>Exclusive imports and trade of garments, shoes...</td>\n",
       "      <td>www.zara.com\\r</td>\n",
       "      <td>31.0</td>\n",
       "      <td>17.0</td>\n",
       "      <td>22.0</td>\n",
       "      <td>459</td>\n",
       "      <td>352</td>\n",
       "      <td>300</td>\n",
       "      <td>YES</td>\n",
       "      <td>NO</td>\n",
       "      <td>NO</td>\n",
       "    </tr>\n",
       "    <tr>\n",
       "      <th>1</th>\n",
       "      <td>ZEEMAN TEXTIELSUPERS</td>\n",
       "      <td>FR</td>\n",
       "      <td>France</td>\n",
       "      <td>PARIS</td>\n",
       "      <td>NaN</td>\n",
       "      <td>4771</td>\n",
       "      <td>Commerce de détail d'habillement en magasin sp...</td>\n",
       "      <td>Engaged in the retail sale of clothing and out...</td>\n",
       "      <td>Retail</td>\n",
       "      <td>Engaged in the retail sale of clothing and out...</td>\n",
       "      <td>www.zeeman.com</td>\n",
       "      <td>4.0</td>\n",
       "      <td>3.0</td>\n",
       "      <td>4.0</td>\n",
       "      <td>164</td>\n",
       "      <td>137</td>\n",
       "      <td>147</td>\n",
       "      <td>YES</td>\n",
       "      <td>NO</td>\n",
       "      <td>NO</td>\n",
       "    </tr>\n",
       "    <tr>\n",
       "      <th>2</th>\n",
       "      <td>ANSWEAR.COM S.A.</td>\n",
       "      <td>PL</td>\n",
       "      <td>Pologne</td>\n",
       "      <td>KRAKOW</td>\n",
       "      <td>NaN</td>\n",
       "      <td>4771</td>\n",
       "      <td>Commerce de détail d'habillement en magasin sp...</td>\n",
       "      <td>Digital platform for the sale of branded cloth...</td>\n",
       "      <td>Wholesale; Retail; Services</td>\n",
       "      <td>The main activities of the Company are Electro...</td>\n",
       "      <td>www.answear.com</td>\n",
       "      <td>8.0</td>\n",
       "      <td>5.0</td>\n",
       "      <td>1.0</td>\n",
       "      <td>149</td>\n",
       "      <td>90</td>\n",
       "      <td>73</td>\n",
       "      <td>YES</td>\n",
       "      <td>NO</td>\n",
       "      <td>NO</td>\n",
       "    </tr>\n",
       "    <tr>\n",
       "      <th>3</th>\n",
       "      <td>REGENT GOLD</td>\n",
       "      <td>RU</td>\n",
       "      <td>Fédération de Russie</td>\n",
       "      <td>AGALATOVSKOE SELSKOE POSELENIE, D. SKOTNOE</td>\n",
       "      <td>UL. SAVUSHKINA D. 126, LIT. A, POMESHCH. 133-N</td>\n",
       "      <td>4777</td>\n",
       "      <td>Commerce de détail d'articles d'horlogerie et ...</td>\n",
       "      <td>Operates as other miscellaneous store retailer</td>\n",
       "      <td>Retail</td>\n",
       "      <td>Operates as other miscellaneous store retailer...</td>\n",
       "      <td>www.zolotoy.ru</td>\n",
       "      <td>22.0</td>\n",
       "      <td>16.0</td>\n",
       "      <td>5.0</td>\n",
       "      <td>141</td>\n",
       "      <td>103</td>\n",
       "      <td>117</td>\n",
       "      <td>YES</td>\n",
       "      <td>NO</td>\n",
       "      <td>NO</td>\n",
       "    </tr>\n",
       "    <tr>\n",
       "      <th>4</th>\n",
       "      <td>NILSON GROUP AB FILIAL NORGE</td>\n",
       "      <td>NO</td>\n",
       "      <td>Norvège</td>\n",
       "      <td>OSLO</td>\n",
       "      <td>NaN</td>\n",
       "      <td>4772</td>\n",
       "      <td>Commerce de détail de chaussures et d'articles...</td>\n",
       "      <td>Engaged in the operation of a chain of shoe st...</td>\n",
       "      <td>Retail</td>\n",
       "      <td>Engaged in the operation of a chain of shoe st...</td>\n",
       "      <td>No Website</td>\n",
       "      <td>-2.0</td>\n",
       "      <td>-20.0</td>\n",
       "      <td>-6.0</td>\n",
       "      <td>120</td>\n",
       "      <td>125</td>\n",
       "      <td>191</td>\n",
       "      <td>YES</td>\n",
       "      <td>YES</td>\n",
       "      <td>NaN</td>\n",
       "    </tr>\n",
       "    <tr>\n",
       "      <th>...</th>\n",
       "      <td>...</td>\n",
       "      <td>...</td>\n",
       "      <td>...</td>\n",
       "      <td>...</td>\n",
       "      <td>...</td>\n",
       "      <td>...</td>\n",
       "      <td>...</td>\n",
       "      <td>...</td>\n",
       "      <td>...</td>\n",
       "      <td>...</td>\n",
       "      <td>...</td>\n",
       "      <td>...</td>\n",
       "      <td>...</td>\n",
       "      <td>...</td>\n",
       "      <td>...</td>\n",
       "      <td>...</td>\n",
       "      <td>...</td>\n",
       "      <td>...</td>\n",
       "      <td>...</td>\n",
       "      <td>...</td>\n",
       "    </tr>\n",
       "    <tr>\n",
       "      <th>244</th>\n",
       "      <td>MARMON SPORTS</td>\n",
       "      <td>FR</td>\n",
       "      <td>France</td>\n",
       "      <td>AUBERVILLIERS</td>\n",
       "      <td>NaN</td>\n",
       "      <td>4771</td>\n",
       "      <td>Commerce de détail d'habillement en magasin sp...</td>\n",
       "      <td>Engaged in the retail trade of sporting goods ...</td>\n",
       "      <td>Retail</td>\n",
       "      <td>Engaged in the retail trade of sporting goods ...</td>\n",
       "      <td>marmonsports.com</td>\n",
       "      <td>0.0</td>\n",
       "      <td>0.0</td>\n",
       "      <td>0.0</td>\n",
       "      <td>4</td>\n",
       "      <td>5</td>\n",
       "      <td>6</td>\n",
       "      <td>YES</td>\n",
       "      <td>NO</td>\n",
       "      <td>NO</td>\n",
       "    </tr>\n",
       "    <tr>\n",
       "      <th>245</th>\n",
       "      <td>MODA CENTER S.R.L.</td>\n",
       "      <td>IT</td>\n",
       "      <td>Italie</td>\n",
       "      <td>TREVIGNANO</td>\n",
       "      <td>VIA TREVISO 71</td>\n",
       "      <td>4771</td>\n",
       "      <td>Commerce de détail d'habillement en magasin sp...</td>\n",
       "      <td>Engaged in the retail trade of wearing apparel...</td>\n",
       "      <td>Retail</td>\n",
       "      <td>Engaged in the retail trade of wearing apparel...</td>\n",
       "      <td>www.puntoettore.it\\r</td>\n",
       "      <td>-2.0</td>\n",
       "      <td>-5.0</td>\n",
       "      <td>0.0</td>\n",
       "      <td>4</td>\n",
       "      <td>5</td>\n",
       "      <td>8</td>\n",
       "      <td>YES</td>\n",
       "      <td>YES</td>\n",
       "      <td>NaN</td>\n",
       "    </tr>\n",
       "    <tr>\n",
       "      <th>246</th>\n",
       "      <td>BIJOUX BOUTIQUE</td>\n",
       "      <td>FR</td>\n",
       "      <td>France</td>\n",
       "      <td>STRASBOURG</td>\n",
       "      <td>NaN</td>\n",
       "      <td>4777</td>\n",
       "      <td>Commerce de détail d'articles d'horlogerie et ...</td>\n",
       "      <td>Operates as a retailer of miscellaneous shoppi...</td>\n",
       "      <td>Retail</td>\n",
       "      <td>Operates as a retailer of miscellaneous shoppi...</td>\n",
       "      <td>www.boutiquesobijoux.com</td>\n",
       "      <td>1.0</td>\n",
       "      <td>1.0</td>\n",
       "      <td>0.0</td>\n",
       "      <td>4</td>\n",
       "      <td>5</td>\n",
       "      <td>5</td>\n",
       "      <td>YES</td>\n",
       "      <td>NO</td>\n",
       "      <td>NO</td>\n",
       "    </tr>\n",
       "    <tr>\n",
       "      <th>247</th>\n",
       "      <td>ZETEK SRL</td>\n",
       "      <td>IT</td>\n",
       "      <td>Italie</td>\n",
       "      <td>CERVIA</td>\n",
       "      <td>VIALE ROMAGNA 69/71</td>\n",
       "      <td>4771</td>\n",
       "      <td>Commerce de détail d'habillement en magasin sp...</td>\n",
       "      <td>Engaged in the manufacture and retail sale of ...</td>\n",
       "      <td>Manufacturing; Retail</td>\n",
       "      <td>Engaged in the manufacture and retail sale of ...</td>\n",
       "      <td>www.tezuk.com\\r</td>\n",
       "      <td>0.0</td>\n",
       "      <td>0.0</td>\n",
       "      <td>0.0</td>\n",
       "      <td>4</td>\n",
       "      <td>4</td>\n",
       "      <td>5</td>\n",
       "      <td>YES</td>\n",
       "      <td>NO</td>\n",
       "      <td>NO</td>\n",
       "    </tr>\n",
       "    <tr>\n",
       "      <th>248</th>\n",
       "      <td>WADEL S.R.L.</td>\n",
       "      <td>IT</td>\n",
       "      <td>Italie</td>\n",
       "      <td>CAGLIARI</td>\n",
       "      <td>VIA DEL RISORGIMENTO 5</td>\n",
       "      <td>4772</td>\n",
       "      <td>Commerce de détail de chaussures et d'articles...</td>\n",
       "      <td>Primarily engaged in the retail sale of footwe...</td>\n",
       "      <td>Retail</td>\n",
       "      <td>Primarily engaged in the retail sale of footwe...</td>\n",
       "      <td>www.cralregionesardegna.it/?p=2693</td>\n",
       "      <td>0.0</td>\n",
       "      <td>0.0</td>\n",
       "      <td>1.0</td>\n",
       "      <td>4</td>\n",
       "      <td>6</td>\n",
       "      <td>10</td>\n",
       "      <td>YES</td>\n",
       "      <td>NO</td>\n",
       "      <td>NO</td>\n",
       "    </tr>\n",
       "  </tbody>\n",
       "</table>\n",
       "<p>249 rows × 20 columns</p>\n",
       "</div>"
      ],
      "text/plain": [
       "                      Company Name ISO Country Code               Country  \\\n",
       "0    ITX HELLAS SINGLE MEMBER S.A.               GR                 Grèce   \n",
       "1             ZEEMAN TEXTIELSUPERS               FR                France   \n",
       "2                 ANSWEAR.COM S.A.               PL               Pologne   \n",
       "3                      REGENT GOLD               RU  Fédération de Russie   \n",
       "4     NILSON GROUP AB FILIAL NORGE               NO               Norvège   \n",
       "..                             ...              ...                   ...   \n",
       "244                  MARMON SPORTS               FR                France   \n",
       "245             MODA CENTER S.R.L.               IT                Italie   \n",
       "246                BIJOUX BOUTIQUE               FR                France   \n",
       "247                      ZETEK SRL               IT                Italie   \n",
       "248                   WADEL S.R.L.               IT                Italie   \n",
       "\n",
       "                                           City  \\\n",
       "0                                        ATHENS   \n",
       "1                                         PARIS   \n",
       "2                                        KRAKOW   \n",
       "3    AGALATOVSKOE SELSKOE POSELENIE, D. SKOTNOE   \n",
       "4                                          OSLO   \n",
       "..                                          ...   \n",
       "244                               AUBERVILLIERS   \n",
       "245                                  TREVIGNANO   \n",
       "246                                  STRASBOURG   \n",
       "247                                      CERVIA   \n",
       "248                                    CAGLIARI   \n",
       "\n",
       "                                            Address  \\\n",
       "0                                               NaN   \n",
       "1                                               NaN   \n",
       "2                                               NaN   \n",
       "3    UL. SAVUSHKINA D. 126, LIT. A, POMESHCH. 133-N   \n",
       "4                                               NaN   \n",
       "..                                              ...   \n",
       "244                                             NaN   \n",
       "245                                  VIA TREVISO 71   \n",
       "246                                             NaN   \n",
       "247                             VIALE ROMAGNA 69/71   \n",
       "248                          VIA DEL RISORGIMENTO 5   \n",
       "\n",
       "     NACE Rev. 2 Code principal  \\\n",
       "0                          4771   \n",
       "1                          4771   \n",
       "2                          4771   \n",
       "3                          4777   \n",
       "4                          4772   \n",
       "..                          ...   \n",
       "244                        4771   \n",
       "245                        4771   \n",
       "246                        4777   \n",
       "247                        4771   \n",
       "248                        4772   \n",
       "\n",
       "                    NACE Principal Rev. 2, description  \\\n",
       "0    Commerce de détail d'habillement en magasin sp...   \n",
       "1    Commerce de détail d'habillement en magasin sp...   \n",
       "2    Commerce de détail d'habillement en magasin sp...   \n",
       "3    Commerce de détail d'articles d'horlogerie et ...   \n",
       "4    Commerce de détail de chaussures et d'articles...   \n",
       "..                                                 ...   \n",
       "244  Commerce de détail d'habillement en magasin sp...   \n",
       "245  Commerce de détail d'habillement en magasin sp...   \n",
       "246  Commerce de détail d'articles d'horlogerie et ...   \n",
       "247  Commerce de détail d'habillement en magasin sp...   \n",
       "248  Commerce de détail de chaussures et d'articles...   \n",
       "\n",
       "                                                Sector  \\\n",
       "0            Engaged in the retail of fashion clothing   \n",
       "1    Engaged in the retail sale of clothing and out...   \n",
       "2    Digital platform for the sale of branded cloth...   \n",
       "3       Operates as other miscellaneous store retailer   \n",
       "4    Engaged in the operation of a chain of shoe st...   \n",
       "..                                                 ...   \n",
       "244  Engaged in the retail trade of sporting goods ...   \n",
       "245  Engaged in the retail trade of wearing apparel...   \n",
       "246  Operates as a retailer of miscellaneous shoppi...   \n",
       "247  Engaged in the manufacture and retail sale of ...   \n",
       "248  Primarily engaged in the retail sale of footwe...   \n",
       "\n",
       "                   Main activity  \\\n",
       "0                         Retail   \n",
       "1                         Retail   \n",
       "2    Wholesale; Retail; Services   \n",
       "3                         Retail   \n",
       "4                         Retail   \n",
       "..                           ...   \n",
       "244                       Retail   \n",
       "245                       Retail   \n",
       "246                       Retail   \n",
       "247        Manufacturing; Retail   \n",
       "248                       Retail   \n",
       "\n",
       "                                Description in English  \\\n",
       "0    Exclusive imports and trade of garments, shoes...   \n",
       "1    Engaged in the retail sale of clothing and out...   \n",
       "2    The main activities of the Company are Electro...   \n",
       "3    Operates as other miscellaneous store retailer...   \n",
       "4    Engaged in the operation of a chain of shoe st...   \n",
       "..                                                 ...   \n",
       "244  Engaged in the retail trade of sporting goods ...   \n",
       "245  Engaged in the retail trade of wearing apparel...   \n",
       "246  Operates as a retailer of miscellaneous shoppi...   \n",
       "247  Engaged in the manufacture and retail sale of ...   \n",
       "248  Primarily engaged in the retail sale of footwe...   \n",
       "\n",
       "                                Website  Operating result [=EBIT]\\r mEUR 2021  \\\n",
       "0                        www.zara.com\\r                                  31.0   \n",
       "1                        www.zeeman.com                                   4.0   \n",
       "2                       www.answear.com                                   8.0   \n",
       "3                        www.zolotoy.ru                                  22.0   \n",
       "4                            No Website                                  -2.0   \n",
       "..                                  ...                                   ...   \n",
       "244                    marmonsports.com                                   0.0   \n",
       "245                www.puntoettore.it\\r                                  -2.0   \n",
       "246            www.boutiquesobijoux.com                                   1.0   \n",
       "247                     www.tezuk.com\\r                                   0.0   \n",
       "248  www.cralregionesardegna.it/?p=2693                                   0.0   \n",
       "\n",
       "     Operating result [=EBIT]\\r mEUR 2020  \\\n",
       "0                                    17.0   \n",
       "1                                     3.0   \n",
       "2                                     5.0   \n",
       "3                                    16.0   \n",
       "4                                   -20.0   \n",
       "..                                    ...   \n",
       "244                                   0.0   \n",
       "245                                  -5.0   \n",
       "246                                   1.0   \n",
       "247                                   0.0   \n",
       "248                                   0.0   \n",
       "\n",
       "     Operating result [=EBIT]\\r mEUR 2019  Turnover\\r mEUR 2021  \\\n",
       "0                                    22.0                   459   \n",
       "1                                     4.0                   164   \n",
       "2                                     1.0                   149   \n",
       "3                                     5.0                   141   \n",
       "4                                    -6.0                   120   \n",
       "..                                    ...                   ...   \n",
       "244                                   0.0                     4   \n",
       "245                                   0.0                     4   \n",
       "246                                   0.0                     4   \n",
       "247                                   0.0                     4   \n",
       "248                                   1.0                     4   \n",
       "\n",
       "     Turnover\\r mEUR 2020  Turnover\\r mEUR 2019  \\\n",
       "0                     352                   300   \n",
       "1                     137                   147   \n",
       "2                      90                    73   \n",
       "3                     103                   117   \n",
       "4                     125                   191   \n",
       "..                    ...                   ...   \n",
       "244                     5                     6   \n",
       "245                     5                     8   \n",
       "246                     5                     5   \n",
       "247                     4                     5   \n",
       "248                     6                    10   \n",
       "\n",
       "    Availability of financial data 2 years of consecutive losses  \\\n",
       "0                              YES                            NO   \n",
       "1                              YES                            NO   \n",
       "2                              YES                            NO   \n",
       "3                              YES                            NO   \n",
       "4                              YES                           YES   \n",
       "..                             ...                           ...   \n",
       "244                            YES                            NO   \n",
       "245                            YES                           YES   \n",
       "246                            YES                            NO   \n",
       "247                            YES                            NO   \n",
       "248                            YES                            NO   \n",
       "\n",
       "    Average loss over 3 years  \n",
       "0                          NO  \n",
       "1                          NO  \n",
       "2                          NO  \n",
       "3                          NO  \n",
       "4                         NaN  \n",
       "..                        ...  \n",
       "244                        NO  \n",
       "245                       NaN  \n",
       "246                        NO  \n",
       "247                        NO  \n",
       "248                        NO  \n",
       "\n",
       "[249 rows x 20 columns]"
      ]
     },
     "execution_count": 3,
     "metadata": {},
     "output_type": "execute_result"
    }
   ],
   "source": [
    "df = pd.read_csv(\"cleaned_data.csv\")\n",
    "df"
   ]
  },
  {
   "cell_type": "code",
   "execution_count": 4,
   "metadata": {},
   "outputs": [
    {
     "data": {
      "text/html": [
       "<div>\n",
       "<style scoped>\n",
       "    .dataframe tbody tr th:only-of-type {\n",
       "        vertical-align: middle;\n",
       "    }\n",
       "\n",
       "    .dataframe tbody tr th {\n",
       "        vertical-align: top;\n",
       "    }\n",
       "\n",
       "    .dataframe thead th {\n",
       "        text-align: right;\n",
       "    }\n",
       "</style>\n",
       "<table border=\"1\" class=\"dataframe\">\n",
       "  <thead>\n",
       "    <tr style=\"text-align: right;\">\n",
       "      <th></th>\n",
       "      <th>Company Name</th>\n",
       "      <th>ISO Country Code</th>\n",
       "      <th>Country</th>\n",
       "      <th>City</th>\n",
       "      <th>Address</th>\n",
       "      <th>NACE Rev. 2 Code principal</th>\n",
       "      <th>NACE Principal Rev. 2, description</th>\n",
       "      <th>Sector</th>\n",
       "      <th>Main activity</th>\n",
       "      <th>Description in Original language</th>\n",
       "      <th>...</th>\n",
       "      <th>Meta Title</th>\n",
       "      <th>Meta Description</th>\n",
       "      <th>Meta Keywords</th>\n",
       "      <th>Additional Meta Title</th>\n",
       "      <th>Additional Meta Description</th>\n",
       "      <th>Additional Meta Keywords</th>\n",
       "      <th>Translated Meta Title</th>\n",
       "      <th>Translated Meta Description</th>\n",
       "      <th>Translated Additional Meta Title</th>\n",
       "      <th>Translated Additional Meta Description</th>\n",
       "    </tr>\n",
       "  </thead>\n",
       "  <tbody>\n",
       "    <tr>\n",
       "      <th>0</th>\n",
       "      <td>ITX HELLAS SINGLE MEMBER S.A.</td>\n",
       "      <td>GR</td>\n",
       "      <td>Grèce</td>\n",
       "      <td>ATHENS</td>\n",
       "      <td>NaN</td>\n",
       "      <td>4771</td>\n",
       "      <td>Commerce de détail d'habillement en magasin sp...</td>\n",
       "      <td>Engaged in the retail of fashion clothing</td>\n",
       "      <td>Retail</td>\n",
       "      <td>NaN</td>\n",
       "      <td>...</td>\n",
       "      <td>NaN</td>\n",
       "      <td>NaN</td>\n",
       "      <td>NaN</td>\n",
       "      <td>IÎ¤Î§ ÎÎÎÎÎ£ MONOÎ Î¡ÎÎ£Î©Î Î Î.Î.</td>\n",
       "      <td>NaN</td>\n",
       "      <td>NaN</td>\n",
       "      <td>NaN</td>\n",
       "      <td>NaN</td>\n",
       "      <td>Îî¤Î§ Î Î Î Î Î Î £ £ Î Î Î Î Î Î Î Î Î Î Î Î ...</td>\n",
       "      <td>NaN</td>\n",
       "    </tr>\n",
       "    <tr>\n",
       "      <th>1</th>\n",
       "      <td>RANDEVU</td>\n",
       "      <td>RU</td>\n",
       "      <td>Fédération de Russie</td>\n",
       "      <td>MOSCOW</td>\n",
       "      <td>UL. SKAKOVAYA D. 17, STR. 2, KOM. 2</td>\n",
       "      <td>4772</td>\n",
       "      <td>Commerce de détail de chaussures et d'articles...</td>\n",
       "      <td>Engaged in the wholesale trade and marketing o...</td>\n",
       "      <td>Wholesale</td>\n",
       "      <td>?????????? ????? ? ???????????</td>\n",
       "      <td>...</td>\n",
       "      <td>Интернет-магазин обуви и одежды в Москве</td>\n",
       "      <td>Интернет-магазин обуви и одежды в Москве. Дост...</td>\n",
       "      <td>NaN</td>\n",
       "      <td>NaN</td>\n",
       "      <td>NaN</td>\n",
       "      <td>NaN</td>\n",
       "      <td>Online store of shoes and clothes in Moscow</td>\n",
       "      <td>Online store of shoes and clothes in Moscow. D...</td>\n",
       "      <td>NaN</td>\n",
       "      <td>NaN</td>\n",
       "    </tr>\n",
       "    <tr>\n",
       "      <th>2</th>\n",
       "      <td>ZEEMAN TEXTIELSUPERS</td>\n",
       "      <td>FR</td>\n",
       "      <td>France</td>\n",
       "      <td>PARIS</td>\n",
       "      <td>NaN</td>\n",
       "      <td>4771</td>\n",
       "      <td>Commerce de détail d'habillement en magasin sp...</td>\n",
       "      <td>Engaged in the retail sale of clothing and out...</td>\n",
       "      <td>Retail</td>\n",
       "      <td>Négoce au détail ou en gros de vêtements, acce...</td>\n",
       "      <td>...</td>\n",
       "      <td>Zeeman. Zo eenvoudig kan het zijn.</td>\n",
       "      <td>Goede kwaliteit voor de laagst mogelijke prijs...</td>\n",
       "      <td>NaN</td>\n",
       "      <td>NaN</td>\n",
       "      <td>NaN</td>\n",
       "      <td>NaN</td>\n",
       "      <td>Sailor. It can be that simple.</td>\n",
       "      <td>Good quality for the lowest possible price. By...</td>\n",
       "      <td>NaN</td>\n",
       "      <td>NaN</td>\n",
       "    </tr>\n",
       "    <tr>\n",
       "      <th>3</th>\n",
       "      <td>ANSWEAR.COM S.A.</td>\n",
       "      <td>PL</td>\n",
       "      <td>Pologne</td>\n",
       "      <td>KRAKOW</td>\n",
       "      <td>NaN</td>\n",
       "      <td>4771</td>\n",
       "      <td>Commerce de détail d'habillement en magasin sp...</td>\n",
       "      <td>Digital platform for the sale of branded cloth...</td>\n",
       "      <td>Wholesale; Retail; Services</td>\n",
       "      <td>NaN</td>\n",
       "      <td>...</td>\n",
       "      <td>Answear.com sklep internetowy z modą damską, m...</td>\n",
       "      <td>Masz styl z Answear.com! Odkryj modne ubrania ...</td>\n",
       "      <td>NaN</td>\n",
       "      <td>NaN</td>\n",
       "      <td>NaN</td>\n",
       "      <td>NaN</td>\n",
       "      <td>Answear.com online store with women's, male an...</td>\n",
       "      <td>You have style from Answear.com! Discover fash...</td>\n",
       "      <td>NaN</td>\n",
       "      <td>NaN</td>\n",
       "    </tr>\n",
       "    <tr>\n",
       "      <th>4</th>\n",
       "      <td>REGENT GOLD</td>\n",
       "      <td>RU</td>\n",
       "      <td>Fédération de Russie</td>\n",
       "      <td>AGALATOVSKOE SELSKOE POSELENIE, D. SKOTNOE</td>\n",
       "      <td>UL. SAVUSHKINA D. 126, LIT. A, POMESHCH. 133-N</td>\n",
       "      <td>4777</td>\n",
       "      <td>Commerce de détail d'articles d'horlogerie et ...</td>\n",
       "      <td>Operates as other miscellaneous store retailer</td>\n",
       "      <td>Retail</td>\n",
       "      <td>???????? ?????????? ?????????</td>\n",
       "      <td>...</td>\n",
       "      <td>Женский интернет-журнал \"ЗОЛОТОЙ\"</td>\n",
       "      <td>Женский журнал «ЗОЛОТОЙ» – твой верный советчи...</td>\n",
       "      <td>NaN</td>\n",
       "      <td>NaN</td>\n",
       "      <td>NaN</td>\n",
       "      <td>NaN</td>\n",
       "      <td>Women's Internet magazine \"Golden\"</td>\n",
       "      <td>The Golden Women's Journal is your faithful ad...</td>\n",
       "      <td>NaN</td>\n",
       "      <td>NaN</td>\n",
       "    </tr>\n",
       "    <tr>\n",
       "      <th>...</th>\n",
       "      <td>...</td>\n",
       "      <td>...</td>\n",
       "      <td>...</td>\n",
       "      <td>...</td>\n",
       "      <td>...</td>\n",
       "      <td>...</td>\n",
       "      <td>...</td>\n",
       "      <td>...</td>\n",
       "      <td>...</td>\n",
       "      <td>...</td>\n",
       "      <td>...</td>\n",
       "      <td>...</td>\n",
       "      <td>...</td>\n",
       "      <td>...</td>\n",
       "      <td>...</td>\n",
       "      <td>...</td>\n",
       "      <td>...</td>\n",
       "      <td>...</td>\n",
       "      <td>...</td>\n",
       "      <td>...</td>\n",
       "      <td>...</td>\n",
       "    </tr>\n",
       "    <tr>\n",
       "      <th>485</th>\n",
       "      <td>ARI S.R.L.</td>\n",
       "      <td>IT</td>\n",
       "      <td>Italie</td>\n",
       "      <td>VARESE</td>\n",
       "      <td>VIA CAMILLO BENSO CONTE DI CAVOUR 39</td>\n",
       "      <td>4771</td>\n",
       "      <td>Commerce de détail d'habillement en magasin sp...</td>\n",
       "      <td>NaN</td>\n",
       "      <td>NaN</td>\n",
       "      <td>COMMERCIO AL DETTAGLIO DI CONFEZIONI PER ADULTI</td>\n",
       "      <td>...</td>\n",
       "      <td>NaN</td>\n",
       "      <td>NaN</td>\n",
       "      <td>NaN</td>\n",
       "      <td>NaN</td>\n",
       "      <td>NaN</td>\n",
       "      <td>NaN</td>\n",
       "      <td>NaN</td>\n",
       "      <td>NaN</td>\n",
       "      <td>NaN</td>\n",
       "      <td>NaN</td>\n",
       "    </tr>\n",
       "    <tr>\n",
       "      <th>486</th>\n",
       "      <td>KEEPSEA SL.</td>\n",
       "      <td>ES</td>\n",
       "      <td>Espagne</td>\n",
       "      <td>GUARDAMAR DEL SEGURA</td>\n",
       "      <td>NaN</td>\n",
       "      <td>4751</td>\n",
       "      <td>Commerce de détail de textiles en magasin spéc...</td>\n",
       "      <td>NaN</td>\n",
       "      <td>NaN</td>\n",
       "      <td>Comercio al por menor de cortinas para el hogar</td>\n",
       "      <td>...</td>\n",
       "      <td>Cortinadecor.com | Estores y cortinas online f...</td>\n",
       "      <td>Compra online Cortinas, estores, enrollables, ...</td>\n",
       "      <td>estores, enrollables, cortinas, paneles japone...</td>\n",
       "      <td>NaN</td>\n",
       "      <td>NaN</td>\n",
       "      <td>NaN</td>\n",
       "      <td>Cortinadecor.com | Earnings and online curtain...</td>\n",
       "      <td>Buy online curtains, blinds, rolled, night and...</td>\n",
       "      <td>NaN</td>\n",
       "      <td>NaN</td>\n",
       "    </tr>\n",
       "    <tr>\n",
       "      <th>487</th>\n",
       "      <td>ZETEK SRL</td>\n",
       "      <td>IT</td>\n",
       "      <td>Italie</td>\n",
       "      <td>CERVIA</td>\n",
       "      <td>VIALE ROMAGNA 69/71</td>\n",
       "      <td>4771</td>\n",
       "      <td>Commerce de détail d'habillement en magasin sp...</td>\n",
       "      <td>Engaged in the manufacture and retail sale of ...</td>\n",
       "      <td>Manufacturing; Retail</td>\n",
       "      <td>COMMERCIO AL DETTAGLIO DI ARTICOLI DI ABBIGLIA...</td>\n",
       "      <td>...</td>\n",
       "      <td>Tezuk | Tezuk beachwear | Shop online</td>\n",
       "      <td>Tezuk propone una serie completa di modelli be...</td>\n",
       "      <td>tezuk abbigliamento, tezuk accessori, tezuk mo...</td>\n",
       "      <td>HOME ZETEK</td>\n",
       "      <td>NaN</td>\n",
       "      <td>NaN</td>\n",
       "      <td>Tezuk | Tezuk beachwear | Shop online</td>\n",
       "      <td>Tezuk offers a complete series of women's and ...</td>\n",
       "      <td>Home</td>\n",
       "      <td>NaN</td>\n",
       "    </tr>\n",
       "    <tr>\n",
       "      <th>488</th>\n",
       "      <td>WADEL S.R.L.</td>\n",
       "      <td>IT</td>\n",
       "      <td>Italie</td>\n",
       "      <td>CAGLIARI</td>\n",
       "      <td>VIA DEL RISORGIMENTO 5</td>\n",
       "      <td>4772</td>\n",
       "      <td>Commerce de détail de chaussures et d'articles...</td>\n",
       "      <td>Primarily engaged in the retail sale of footwe...</td>\n",
       "      <td>Retail</td>\n",
       "      <td>COMMERCIO AL DETTAGLIO DI CALZATURE E ACCESSORI</td>\n",
       "      <td>...</td>\n",
       "      <td>Cral Regione Sardegna - eventi . iniziative - ...</td>\n",
       "      <td>Associazione si occupa di attività di caratter...</td>\n",
       "      <td>NaN</td>\n",
       "      <td>NaN</td>\n",
       "      <td>NaN</td>\n",
       "      <td>NaN</td>\n",
       "      <td>Cral Region Sardinia - Events. Initiatives - C...</td>\n",
       "      <td>Association deals with recreational, cultural,...</td>\n",
       "      <td>NaN</td>\n",
       "      <td>NaN</td>\n",
       "    </tr>\n",
       "    <tr>\n",
       "      <th>489</th>\n",
       "      <td>MARKTKONTOR GMBH</td>\n",
       "      <td>DE</td>\n",
       "      <td>Allemagne</td>\n",
       "      <td>WARDENBURG</td>\n",
       "      <td>NaN</td>\n",
       "      <td>4771</td>\n",
       "      <td>Commerce de détail d'habillement en magasin sp...</td>\n",
       "      <td>NaN</td>\n",
       "      <td>NaN</td>\n",
       "      <td>Eingetragener Gegenstand:\\r\\nKonzeptionelle Au...</td>\n",
       "      <td>...</td>\n",
       "      <td>Home</td>\n",
       "      <td>NaN</td>\n",
       "      <td>NaN</td>\n",
       "      <td>NaN</td>\n",
       "      <td>NaN</td>\n",
       "      <td>NaN</td>\n",
       "      <td>Home</td>\n",
       "      <td>NaN</td>\n",
       "      <td>NaN</td>\n",
       "      <td>NaN</td>\n",
       "    </tr>\n",
       "  </tbody>\n",
       "</table>\n",
       "<p>490 rows × 32 columns</p>\n",
       "</div>"
      ],
      "text/plain": [
       "                      Company Name ISO Country Code               Country  \\\n",
       "0    ITX HELLAS SINGLE MEMBER S.A.               GR                 Grèce   \n",
       "1                          RANDEVU               RU  Fédération de Russie   \n",
       "2             ZEEMAN TEXTIELSUPERS               FR                France   \n",
       "3                 ANSWEAR.COM S.A.               PL               Pologne   \n",
       "4                      REGENT GOLD               RU  Fédération de Russie   \n",
       "..                             ...              ...                   ...   \n",
       "485                     ARI S.R.L.               IT                Italie   \n",
       "486                    KEEPSEA SL.               ES               Espagne   \n",
       "487                      ZETEK SRL               IT                Italie   \n",
       "488                   WADEL S.R.L.               IT                Italie   \n",
       "489               MARKTKONTOR GMBH               DE             Allemagne   \n",
       "\n",
       "                                           City  \\\n",
       "0                                        ATHENS   \n",
       "1                                        MOSCOW   \n",
       "2                                         PARIS   \n",
       "3                                        KRAKOW   \n",
       "4    AGALATOVSKOE SELSKOE POSELENIE, D. SKOTNOE   \n",
       "..                                          ...   \n",
       "485                                      VARESE   \n",
       "486                        GUARDAMAR DEL SEGURA   \n",
       "487                                      CERVIA   \n",
       "488                                    CAGLIARI   \n",
       "489                                  WARDENBURG   \n",
       "\n",
       "                                            Address  \\\n",
       "0                                               NaN   \n",
       "1               UL. SKAKOVAYA D. 17, STR. 2, KOM. 2   \n",
       "2                                               NaN   \n",
       "3                                               NaN   \n",
       "4    UL. SAVUSHKINA D. 126, LIT. A, POMESHCH. 133-N   \n",
       "..                                              ...   \n",
       "485            VIA CAMILLO BENSO CONTE DI CAVOUR 39   \n",
       "486                                             NaN   \n",
       "487                             VIALE ROMAGNA 69/71   \n",
       "488                          VIA DEL RISORGIMENTO 5   \n",
       "489                                             NaN   \n",
       "\n",
       "     NACE Rev. 2 Code principal  \\\n",
       "0                          4771   \n",
       "1                          4772   \n",
       "2                          4771   \n",
       "3                          4771   \n",
       "4                          4777   \n",
       "..                          ...   \n",
       "485                        4771   \n",
       "486                        4751   \n",
       "487                        4771   \n",
       "488                        4772   \n",
       "489                        4771   \n",
       "\n",
       "                    NACE Principal Rev. 2, description  \\\n",
       "0    Commerce de détail d'habillement en magasin sp...   \n",
       "1    Commerce de détail de chaussures et d'articles...   \n",
       "2    Commerce de détail d'habillement en magasin sp...   \n",
       "3    Commerce de détail d'habillement en magasin sp...   \n",
       "4    Commerce de détail d'articles d'horlogerie et ...   \n",
       "..                                                 ...   \n",
       "485  Commerce de détail d'habillement en magasin sp...   \n",
       "486  Commerce de détail de textiles en magasin spéc...   \n",
       "487  Commerce de détail d'habillement en magasin sp...   \n",
       "488  Commerce de détail de chaussures et d'articles...   \n",
       "489  Commerce de détail d'habillement en magasin sp...   \n",
       "\n",
       "                                                Sector  \\\n",
       "0            Engaged in the retail of fashion clothing   \n",
       "1    Engaged in the wholesale trade and marketing o...   \n",
       "2    Engaged in the retail sale of clothing and out...   \n",
       "3    Digital platform for the sale of branded cloth...   \n",
       "4       Operates as other miscellaneous store retailer   \n",
       "..                                                 ...   \n",
       "485                                                NaN   \n",
       "486                                                NaN   \n",
       "487  Engaged in the manufacture and retail sale of ...   \n",
       "488  Primarily engaged in the retail sale of footwe...   \n",
       "489                                                NaN   \n",
       "\n",
       "                   Main activity  \\\n",
       "0                         Retail   \n",
       "1                      Wholesale   \n",
       "2                         Retail   \n",
       "3    Wholesale; Retail; Services   \n",
       "4                         Retail   \n",
       "..                           ...   \n",
       "485                          NaN   \n",
       "486                          NaN   \n",
       "487        Manufacturing; Retail   \n",
       "488                       Retail   \n",
       "489                          NaN   \n",
       "\n",
       "                      Description in Original language  ...  \\\n",
       "0                                                  NaN  ...   \n",
       "1                       ?????????? ????? ? ???????????  ...   \n",
       "2    Négoce au détail ou en gros de vêtements, acce...  ...   \n",
       "3                                                  NaN  ...   \n",
       "4                        ???????? ?????????? ?????????  ...   \n",
       "..                                                 ...  ...   \n",
       "485    COMMERCIO AL DETTAGLIO DI CONFEZIONI PER ADULTI  ...   \n",
       "486    Comercio al por menor de cortinas para el hogar  ...   \n",
       "487  COMMERCIO AL DETTAGLIO DI ARTICOLI DI ABBIGLIA...  ...   \n",
       "488    COMMERCIO AL DETTAGLIO DI CALZATURE E ACCESSORI  ...   \n",
       "489  Eingetragener Gegenstand:\\r\\nKonzeptionelle Au...  ...   \n",
       "\n",
       "                                            Meta Title  \\\n",
       "0                                                  NaN   \n",
       "1             Интернет-магазин обуви и одежды в Москве   \n",
       "2                   Zeeman. Zo eenvoudig kan het zijn.   \n",
       "3    Answear.com sklep internetowy z modą damską, m...   \n",
       "4                    Женский интернет-журнал \"ЗОЛОТОЙ\"   \n",
       "..                                                 ...   \n",
       "485                                                NaN   \n",
       "486  Cortinadecor.com | Estores y cortinas online f...   \n",
       "487              Tezuk | Tezuk beachwear | Shop online   \n",
       "488  Cral Regione Sardegna - eventi . iniziative - ...   \n",
       "489                                               Home   \n",
       "\n",
       "                                      Meta Description  \\\n",
       "0                                                  NaN   \n",
       "1    Интернет-магазин обуви и одежды в Москве. Дост...   \n",
       "2    Goede kwaliteit voor de laagst mogelijke prijs...   \n",
       "3    Masz styl z Answear.com! Odkryj modne ubrania ...   \n",
       "4    Женский журнал «ЗОЛОТОЙ» – твой верный советчи...   \n",
       "..                                                 ...   \n",
       "485                                                NaN   \n",
       "486  Compra online Cortinas, estores, enrollables, ...   \n",
       "487  Tezuk propone una serie completa di modelli be...   \n",
       "488  Associazione si occupa di attività di caratter...   \n",
       "489                                                NaN   \n",
       "\n",
       "                                         Meta Keywords  \\\n",
       "0                                                  NaN   \n",
       "1                                                  NaN   \n",
       "2                                                  NaN   \n",
       "3                                                  NaN   \n",
       "4                                                  NaN   \n",
       "..                                                 ...   \n",
       "485                                                NaN   \n",
       "486  estores, enrollables, cortinas, paneles japone...   \n",
       "487  tezuk abbigliamento, tezuk accessori, tezuk mo...   \n",
       "488                                                NaN   \n",
       "489                                                NaN   \n",
       "\n",
       "                          Additional Meta Title Additional Meta Description  \\\n",
       "0    IÎ¤Î§ ÎÎÎÎÎ£ MONOÎ Î¡ÎÎ£Î©Î Î Î.Î.                         NaN   \n",
       "1                                           NaN                         NaN   \n",
       "2                                           NaN                         NaN   \n",
       "3                                           NaN                         NaN   \n",
       "4                                           NaN                         NaN   \n",
       "..                                          ...                         ...   \n",
       "485                                         NaN                         NaN   \n",
       "486                                         NaN                         NaN   \n",
       "487                                  HOME ZETEK                         NaN   \n",
       "488                                         NaN                         NaN   \n",
       "489                                         NaN                         NaN   \n",
       "\n",
       "     Additional Meta Keywords  \\\n",
       "0                         NaN   \n",
       "1                         NaN   \n",
       "2                         NaN   \n",
       "3                         NaN   \n",
       "4                         NaN   \n",
       "..                        ...   \n",
       "485                       NaN   \n",
       "486                       NaN   \n",
       "487                       NaN   \n",
       "488                       NaN   \n",
       "489                       NaN   \n",
       "\n",
       "                                 Translated Meta Title  \\\n",
       "0                                                  NaN   \n",
       "1          Online store of shoes and clothes in Moscow   \n",
       "2                       Sailor. It can be that simple.   \n",
       "3    Answear.com online store with women's, male an...   \n",
       "4                   Women's Internet magazine \"Golden\"   \n",
       "..                                                 ...   \n",
       "485                                                NaN   \n",
       "486  Cortinadecor.com | Earnings and online curtain...   \n",
       "487              Tezuk | Tezuk beachwear | Shop online   \n",
       "488  Cral Region Sardinia - Events. Initiatives - C...   \n",
       "489                                               Home   \n",
       "\n",
       "                           Translated Meta Description  \\\n",
       "0                                                  NaN   \n",
       "1    Online store of shoes and clothes in Moscow. D...   \n",
       "2    Good quality for the lowest possible price. By...   \n",
       "3    You have style from Answear.com! Discover fash...   \n",
       "4    The Golden Women's Journal is your faithful ad...   \n",
       "..                                                 ...   \n",
       "485                                                NaN   \n",
       "486  Buy online curtains, blinds, rolled, night and...   \n",
       "487  Tezuk offers a complete series of women's and ...   \n",
       "488  Association deals with recreational, cultural,...   \n",
       "489                                                NaN   \n",
       "\n",
       "                      Translated Additional Meta Title  \\\n",
       "0    Îî¤Î§ Î Î Î Î Î Î £ £ Î Î Î Î Î Î Î Î Î Î Î Î ...   \n",
       "1                                                  NaN   \n",
       "2                                                  NaN   \n",
       "3                                                  NaN   \n",
       "4                                                  NaN   \n",
       "..                                                 ...   \n",
       "485                                                NaN   \n",
       "486                                                NaN   \n",
       "487                                               Home   \n",
       "488                                                NaN   \n",
       "489                                                NaN   \n",
       "\n",
       "    Translated Additional Meta Description  \n",
       "0                                      NaN  \n",
       "1                                      NaN  \n",
       "2                                      NaN  \n",
       "3                                      NaN  \n",
       "4                                      NaN  \n",
       "..                                     ...  \n",
       "485                                    NaN  \n",
       "486                                    NaN  \n",
       "487                                    NaN  \n",
       "488                                    NaN  \n",
       "489                                    NaN  \n",
       "\n",
       "[490 rows x 32 columns]"
      ]
     },
     "execution_count": 4,
     "metadata": {},
     "output_type": "execute_result"
    }
   ],
   "source": [
    "df = pd.read_csv(\"updated_metadata_with_translation.csv\")\n",
    "df"
   ]
  },
  {
   "cell_type": "code",
   "execution_count": 5,
   "metadata": {},
   "outputs": [
    {
     "data": {
      "text/plain": [
       "Index(['Company Name', 'ISO Country Code', 'Country', 'City', 'Address',\n",
       "       'NACE Rev. 2 Code principal', 'NACE Principal Rev. 2, description',\n",
       "       'Sector', 'Main activity', 'Description in Original language',\n",
       "       'Description in English', 'Website',\n",
       "       'Operating result [=EBIT] mEUR 2021',\n",
       "       'Operating result [=EBIT] mEUR 2020',\n",
       "       'Operating result [=EBIT] mEUR 2019', 'Turnover mEUR 2021',\n",
       "       'Turnover mEUR 2020', 'Turnover mEUR 2019',\n",
       "       'Availability of financial data', '2 years of consecutive losses',\n",
       "       'Average loss over 3 years', 'Additional Websites', 'Meta Title',\n",
       "       'Meta Description', 'Meta Keywords', 'Additional Meta Title',\n",
       "       'Additional Meta Description', 'Additional Meta Keywords',\n",
       "       'Translated Meta Title', 'Translated Meta Description',\n",
       "       'Translated Additional Meta Title',\n",
       "       'Translated Additional Meta Description'],\n",
       "      dtype='object')"
      ]
     },
     "execution_count": 5,
     "metadata": {},
     "output_type": "execute_result"
    }
   ],
   "source": [
    "df.columns"
   ]
  },
  {
   "cell_type": "code",
   "execution_count": 6,
   "metadata": {},
   "outputs": [],
   "source": [
    "# ✅ 2. Convert Financial Columns to Numeric\n",
    "financial_cols = [\n",
    "    \"Operating result [=EBIT] mEUR 2021\",\n",
    "    \"Operating result [=EBIT] mEUR 2020\",\n",
    "    \"Operating result [=EBIT] mEUR 2019\",\n",
    "    \"Turnover mEUR 2021\",\n",
    "    \"Turnover mEUR 2020\",\n",
    "    \"Turnover mEUR 2019\",\n",
    "]\n",
    "df[financial_cols] = df[financial_cols].apply(pd.to_numeric, errors=\"coerce\")"
   ]
  },
  {
   "cell_type": "code",
   "execution_count": 7,
   "metadata": {},
   "outputs": [],
   "source": [
    "# ✅ 3. Handle Missing Values\n",
    "df[\"Website\"] = df[\"Website\"].fillna(\"No Website\")  # Replace missing websites\n",
    "df.dropna(subset=[\"Description in English\"], inplace=True)"
   ]
  },
  {
   "cell_type": "code",
   "execution_count": 8,
   "metadata": {},
   "outputs": [],
   "source": [
    "# ✅ 4. Extract First Website from Multi-Entry Fields\n",
    "df[\"Website\"] = df[\"Website\"].apply(\n",
    "    lambda x: x.split(\"\\n\")[0] if isinstance(x, str) else x\n",
    ")"
   ]
  },
  {
   "cell_type": "code",
   "execution_count": 9,
   "metadata": {},
   "outputs": [],
   "source": [
    "df.drop([\"Description in Original language\"], axis=1, inplace=True)"
   ]
  },
  {
   "cell_type": "code",
   "execution_count": 10,
   "metadata": {},
   "outputs": [],
   "source": [
    "# relevant NACE codes\n",
    "codes = [4771, 4772, 4777]"
   ]
  },
  {
   "cell_type": "code",
   "execution_count": 11,
   "metadata": {},
   "outputs": [],
   "source": [
    "# Keep only rows with relevant NACE codes\n",
    "df = df[df[\"NACE Rev. 2 Code principal\"].isin(codes)]"
   ]
  },
  {
   "cell_type": "code",
   "execution_count": 12,
   "metadata": {},
   "outputs": [],
   "source": [
    "relevant_main_activity = [\n",
    "    \"Retail\",\n",
    "    \"Wholesale; Retail; Services\",\n",
    "    \"Manufacturing; Retail\",\n",
    "    \"Retail; Services\",\n",
    "    \"Wholesale; Retail\",\n",
    "    \"Manufacturing; Retail; Services\",\n",
    "]\n",
    "\n",
    "df = df[df[\"Main activity\"].isin(relevant_main_activity)]"
   ]
  },
  {
   "cell_type": "code",
   "execution_count": 13,
   "metadata": {},
   "outputs": [],
   "source": [
    "df.reset_index(drop=True, inplace=True)"
   ]
  },
  {
   "cell_type": "code",
   "execution_count": 14,
   "metadata": {},
   "outputs": [
    {
     "data": {
      "text/plain": [
       "Index(['Company Name', 'ISO Country Code', 'Country', 'City', 'Address',\n",
       "       'NACE Rev. 2 Code principal', 'NACE Principal Rev. 2, description',\n",
       "       'Sector', 'Main activity', 'Description in English', 'Website',\n",
       "       'Operating result [=EBIT] mEUR 2021',\n",
       "       'Operating result [=EBIT] mEUR 2020',\n",
       "       'Operating result [=EBIT] mEUR 2019', 'Turnover mEUR 2021',\n",
       "       'Turnover mEUR 2020', 'Turnover mEUR 2019',\n",
       "       'Availability of financial data', '2 years of consecutive losses',\n",
       "       'Average loss over 3 years', 'Additional Websites', 'Meta Title',\n",
       "       'Meta Description', 'Meta Keywords', 'Additional Meta Title',\n",
       "       'Additional Meta Description', 'Additional Meta Keywords',\n",
       "       'Translated Meta Title', 'Translated Meta Description',\n",
       "       'Translated Additional Meta Title',\n",
       "       'Translated Additional Meta Description'],\n",
       "      dtype='object')"
      ]
     },
     "execution_count": 14,
     "metadata": {},
     "output_type": "execute_result"
    }
   ],
   "source": [
    "df.columns"
   ]
  },
  {
   "cell_type": "code",
   "execution_count": 15,
   "metadata": {},
   "outputs": [],
   "source": [
    "# Relevant columns for the description to cluster on:\n",
    "descr_col = [\n",
    "    \"Description in English\",\n",
    "    \"Translated Meta Title\",\n",
    "    \"Translated Meta Description\",\n",
    "    \"Translated Additional Meta Title\",\n",
    "    \"Translated Additional Meta Description\",\n",
    "]"
   ]
  },
  {
   "cell_type": "code",
   "execution_count": 16,
   "metadata": {},
   "outputs": [],
   "source": [
    "for col in descr_col:\n",
    "    # Fill missing values with an empty string\n",
    "    df[descr_col] = df[descr_col].fillna(\"\")"
   ]
  },
  {
   "cell_type": "code",
   "execution_count": 17,
   "metadata": {},
   "outputs": [],
   "source": [
    "# Concatenate the texts into a new column \"combined_description\"\n",
    "df[\"combined_description\"] = df[descr_col].astype(str).agg(\" \".join, axis=1)"
   ]
  },
  {
   "cell_type": "code",
   "execution_count": 18,
   "metadata": {},
   "outputs": [
    {
     "data": {
      "text/html": [
       "<div>\n",
       "<style scoped>\n",
       "    .dataframe tbody tr th:only-of-type {\n",
       "        vertical-align: middle;\n",
       "    }\n",
       "\n",
       "    .dataframe tbody tr th {\n",
       "        vertical-align: top;\n",
       "    }\n",
       "\n",
       "    .dataframe thead th {\n",
       "        text-align: right;\n",
       "    }\n",
       "</style>\n",
       "<table border=\"1\" class=\"dataframe\">\n",
       "  <thead>\n",
       "    <tr style=\"text-align: right;\">\n",
       "      <th></th>\n",
       "      <th>Company Name</th>\n",
       "      <th>ISO Country Code</th>\n",
       "      <th>Country</th>\n",
       "      <th>City</th>\n",
       "      <th>Address</th>\n",
       "      <th>NACE Rev. 2 Code principal</th>\n",
       "      <th>NACE Principal Rev. 2, description</th>\n",
       "      <th>Sector</th>\n",
       "      <th>Main activity</th>\n",
       "      <th>Description in English</th>\n",
       "      <th>...</th>\n",
       "      <th>Meta Description</th>\n",
       "      <th>Meta Keywords</th>\n",
       "      <th>Additional Meta Title</th>\n",
       "      <th>Additional Meta Description</th>\n",
       "      <th>Additional Meta Keywords</th>\n",
       "      <th>Translated Meta Title</th>\n",
       "      <th>Translated Meta Description</th>\n",
       "      <th>Translated Additional Meta Title</th>\n",
       "      <th>Translated Additional Meta Description</th>\n",
       "      <th>combined_description</th>\n",
       "    </tr>\n",
       "  </thead>\n",
       "  <tbody>\n",
       "    <tr>\n",
       "      <th>0</th>\n",
       "      <td>ITX HELLAS SINGLE MEMBER S.A.</td>\n",
       "      <td>GR</td>\n",
       "      <td>Grèce</td>\n",
       "      <td>ATHENS</td>\n",
       "      <td>NaN</td>\n",
       "      <td>4771</td>\n",
       "      <td>Commerce de détail d'habillement en magasin sp...</td>\n",
       "      <td>Engaged in the retail of fashion clothing</td>\n",
       "      <td>Retail</td>\n",
       "      <td>Exclusive imports and trade of garments, shoes...</td>\n",
       "      <td>...</td>\n",
       "      <td>NaN</td>\n",
       "      <td>NaN</td>\n",
       "      <td>IÎ¤Î§ ÎÎÎÎÎ£ MONOÎ Î¡ÎÎ£Î©Î Î Î.Î.</td>\n",
       "      <td>NaN</td>\n",
       "      <td>NaN</td>\n",
       "      <td></td>\n",
       "      <td></td>\n",
       "      <td>Îî¤Î§ Î Î Î Î Î Î £ £ Î Î Î Î Î Î Î Î Î Î Î Î ...</td>\n",
       "      <td></td>\n",
       "      <td>Exclusive imports and trade of garments, shoes...</td>\n",
       "    </tr>\n",
       "    <tr>\n",
       "      <th>1</th>\n",
       "      <td>ZEEMAN TEXTIELSUPERS</td>\n",
       "      <td>FR</td>\n",
       "      <td>France</td>\n",
       "      <td>PARIS</td>\n",
       "      <td>NaN</td>\n",
       "      <td>4771</td>\n",
       "      <td>Commerce de détail d'habillement en magasin sp...</td>\n",
       "      <td>Engaged in the retail sale of clothing and out...</td>\n",
       "      <td>Retail</td>\n",
       "      <td>Engaged in the retail sale of clothing and out...</td>\n",
       "      <td>...</td>\n",
       "      <td>Goede kwaliteit voor de laagst mogelijke prijs...</td>\n",
       "      <td>NaN</td>\n",
       "      <td>NaN</td>\n",
       "      <td>NaN</td>\n",
       "      <td>NaN</td>\n",
       "      <td>Sailor. It can be that simple.</td>\n",
       "      <td>Good quality for the lowest possible price. By...</td>\n",
       "      <td></td>\n",
       "      <td></td>\n",
       "      <td>Engaged in the retail sale of clothing and out...</td>\n",
       "    </tr>\n",
       "    <tr>\n",
       "      <th>2</th>\n",
       "      <td>ANSWEAR.COM S.A.</td>\n",
       "      <td>PL</td>\n",
       "      <td>Pologne</td>\n",
       "      <td>KRAKOW</td>\n",
       "      <td>NaN</td>\n",
       "      <td>4771</td>\n",
       "      <td>Commerce de détail d'habillement en magasin sp...</td>\n",
       "      <td>Digital platform for the sale of branded cloth...</td>\n",
       "      <td>Wholesale; Retail; Services</td>\n",
       "      <td>The main activities of the Company are Electro...</td>\n",
       "      <td>...</td>\n",
       "      <td>Masz styl z Answear.com! Odkryj modne ubrania ...</td>\n",
       "      <td>NaN</td>\n",
       "      <td>NaN</td>\n",
       "      <td>NaN</td>\n",
       "      <td>NaN</td>\n",
       "      <td>Answear.com online store with women's, male an...</td>\n",
       "      <td>You have style from Answear.com! Discover fash...</td>\n",
       "      <td></td>\n",
       "      <td></td>\n",
       "      <td>The main activities of the Company are Electro...</td>\n",
       "    </tr>\n",
       "    <tr>\n",
       "      <th>3</th>\n",
       "      <td>REGENT GOLD</td>\n",
       "      <td>RU</td>\n",
       "      <td>Fédération de Russie</td>\n",
       "      <td>AGALATOVSKOE SELSKOE POSELENIE, D. SKOTNOE</td>\n",
       "      <td>UL. SAVUSHKINA D. 126, LIT. A, POMESHCH. 133-N</td>\n",
       "      <td>4777</td>\n",
       "      <td>Commerce de détail d'articles d'horlogerie et ...</td>\n",
       "      <td>Operates as other miscellaneous store retailer</td>\n",
       "      <td>Retail</td>\n",
       "      <td>Operates as other miscellaneous store retailer...</td>\n",
       "      <td>...</td>\n",
       "      <td>Женский журнал «ЗОЛОТОЙ» – твой верный советчи...</td>\n",
       "      <td>NaN</td>\n",
       "      <td>NaN</td>\n",
       "      <td>NaN</td>\n",
       "      <td>NaN</td>\n",
       "      <td>Women's Internet magazine \"Golden\"</td>\n",
       "      <td>The Golden Women's Journal is your faithful ad...</td>\n",
       "      <td></td>\n",
       "      <td></td>\n",
       "      <td>Operates as other miscellaneous store retailer...</td>\n",
       "    </tr>\n",
       "    <tr>\n",
       "      <th>4</th>\n",
       "      <td>NILSON GROUP AB FILIAL NORGE</td>\n",
       "      <td>NO</td>\n",
       "      <td>Norvège</td>\n",
       "      <td>OSLO</td>\n",
       "      <td>NaN</td>\n",
       "      <td>4772</td>\n",
       "      <td>Commerce de détail de chaussures et d'articles...</td>\n",
       "      <td>Engaged in the operation of a chain of shoe st...</td>\n",
       "      <td>Retail</td>\n",
       "      <td>Engaged in the operation of a chain of shoe st...</td>\n",
       "      <td>...</td>\n",
       "      <td>NaN</td>\n",
       "      <td>NaN</td>\n",
       "      <td>NaN</td>\n",
       "      <td>NaN</td>\n",
       "      <td>NaN</td>\n",
       "      <td></td>\n",
       "      <td></td>\n",
       "      <td></td>\n",
       "      <td></td>\n",
       "      <td>Engaged in the operation of a chain of shoe st...</td>\n",
       "    </tr>\n",
       "    <tr>\n",
       "      <th>...</th>\n",
       "      <td>...</td>\n",
       "      <td>...</td>\n",
       "      <td>...</td>\n",
       "      <td>...</td>\n",
       "      <td>...</td>\n",
       "      <td>...</td>\n",
       "      <td>...</td>\n",
       "      <td>...</td>\n",
       "      <td>...</td>\n",
       "      <td>...</td>\n",
       "      <td>...</td>\n",
       "      <td>...</td>\n",
       "      <td>...</td>\n",
       "      <td>...</td>\n",
       "      <td>...</td>\n",
       "      <td>...</td>\n",
       "      <td>...</td>\n",
       "      <td>...</td>\n",
       "      <td>...</td>\n",
       "      <td>...</td>\n",
       "      <td>...</td>\n",
       "    </tr>\n",
       "    <tr>\n",
       "      <th>244</th>\n",
       "      <td>MARMON SPORTS</td>\n",
       "      <td>FR</td>\n",
       "      <td>France</td>\n",
       "      <td>AUBERVILLIERS</td>\n",
       "      <td>NaN</td>\n",
       "      <td>4771</td>\n",
       "      <td>Commerce de détail d'habillement en magasin sp...</td>\n",
       "      <td>Engaged in the retail trade of sporting goods ...</td>\n",
       "      <td>Retail</td>\n",
       "      <td>Engaged in the retail trade of sporting goods ...</td>\n",
       "      <td>...</td>\n",
       "      <td>Notre boutique propose les dernières nouveauté...</td>\n",
       "      <td>marmon, sports, vêtements, chaussures, baskets...</td>\n",
       "      <td>NaN</td>\n",
       "      <td>NaN</td>\n",
       "      <td>NaN</td>\n",
       "      <td>Marmon Sports - clothing store, shoes, sport a...</td>\n",
       "      <td>Our shop offers the latest news from major bra...</td>\n",
       "      <td></td>\n",
       "      <td></td>\n",
       "      <td>Engaged in the retail trade of sporting goods ...</td>\n",
       "    </tr>\n",
       "    <tr>\n",
       "      <th>245</th>\n",
       "      <td>MODA CENTER S.R.L.</td>\n",
       "      <td>IT</td>\n",
       "      <td>Italie</td>\n",
       "      <td>TREVIGNANO</td>\n",
       "      <td>VIA TREVISO 71</td>\n",
       "      <td>4771</td>\n",
       "      <td>Commerce de détail d'habillement en magasin sp...</td>\n",
       "      <td>Engaged in the retail trade of wearing apparel...</td>\n",
       "      <td>Retail</td>\n",
       "      <td>Engaged in the retail trade of wearing apparel...</td>\n",
       "      <td>...</td>\n",
       "      <td>.ETTORE è un concept store che unisce un'offer...</td>\n",
       "      <td>NaN</td>\n",
       "      <td>NaN</td>\n",
       "      <td>NaN</td>\n",
       "      <td>NaN</td>\n",
       "      <td>. Elector | Fashion, home, design and fragrances</td>\n",
       "      <td>. Ettatore is a concept store that combines a ...</td>\n",
       "      <td></td>\n",
       "      <td></td>\n",
       "      <td>Engaged in the retail trade of wearing apparel...</td>\n",
       "    </tr>\n",
       "    <tr>\n",
       "      <th>246</th>\n",
       "      <td>BIJOUX BOUTIQUE</td>\n",
       "      <td>FR</td>\n",
       "      <td>France</td>\n",
       "      <td>STRASBOURG</td>\n",
       "      <td>NaN</td>\n",
       "      <td>4777</td>\n",
       "      <td>Commerce de détail d'articles d'horlogerie et ...</td>\n",
       "      <td>Operates as a retailer of miscellaneous shoppi...</td>\n",
       "      <td>Retail</td>\n",
       "      <td>Operates as a retailer of miscellaneous shoppi...</td>\n",
       "      <td>...</td>\n",
       "      <td>De nombreux créateurs de Bijoux : Cluse, Mya B...</td>\n",
       "      <td>NaN</td>\n",
       "      <td>NaN</td>\n",
       "      <td>NaN</td>\n",
       "      <td>NaN</td>\n",
       "      <td>So ... jewelry, selection of creators jewelry ...</td>\n",
       "      <td>Many jewelry designers: Cluse, Mya Bay, Gas, D...</td>\n",
       "      <td></td>\n",
       "      <td></td>\n",
       "      <td>Operates as a retailer of miscellaneous shoppi...</td>\n",
       "    </tr>\n",
       "    <tr>\n",
       "      <th>247</th>\n",
       "      <td>ZETEK SRL</td>\n",
       "      <td>IT</td>\n",
       "      <td>Italie</td>\n",
       "      <td>CERVIA</td>\n",
       "      <td>VIALE ROMAGNA 69/71</td>\n",
       "      <td>4771</td>\n",
       "      <td>Commerce de détail d'habillement en magasin sp...</td>\n",
       "      <td>Engaged in the manufacture and retail sale of ...</td>\n",
       "      <td>Manufacturing; Retail</td>\n",
       "      <td>Engaged in the manufacture and retail sale of ...</td>\n",
       "      <td>...</td>\n",
       "      <td>Tezuk propone una serie completa di modelli be...</td>\n",
       "      <td>tezuk abbigliamento, tezuk accessori, tezuk mo...</td>\n",
       "      <td>HOME ZETEK</td>\n",
       "      <td>NaN</td>\n",
       "      <td>NaN</td>\n",
       "      <td>Tezuk | Tezuk beachwear | Shop online</td>\n",
       "      <td>Tezuk offers a complete series of women's and ...</td>\n",
       "      <td>Home</td>\n",
       "      <td></td>\n",
       "      <td>Engaged in the manufacture and retail sale of ...</td>\n",
       "    </tr>\n",
       "    <tr>\n",
       "      <th>248</th>\n",
       "      <td>WADEL S.R.L.</td>\n",
       "      <td>IT</td>\n",
       "      <td>Italie</td>\n",
       "      <td>CAGLIARI</td>\n",
       "      <td>VIA DEL RISORGIMENTO 5</td>\n",
       "      <td>4772</td>\n",
       "      <td>Commerce de détail de chaussures et d'articles...</td>\n",
       "      <td>Primarily engaged in the retail sale of footwe...</td>\n",
       "      <td>Retail</td>\n",
       "      <td>Primarily engaged in the retail sale of footwe...</td>\n",
       "      <td>...</td>\n",
       "      <td>Associazione si occupa di attività di caratter...</td>\n",
       "      <td>NaN</td>\n",
       "      <td>NaN</td>\n",
       "      <td>NaN</td>\n",
       "      <td>NaN</td>\n",
       "      <td>Cral Region Sardinia - Events. Initiatives - C...</td>\n",
       "      <td>Association deals with recreational, cultural,...</td>\n",
       "      <td></td>\n",
       "      <td></td>\n",
       "      <td>Primarily engaged in the retail sale of footwe...</td>\n",
       "    </tr>\n",
       "  </tbody>\n",
       "</table>\n",
       "<p>249 rows × 32 columns</p>\n",
       "</div>"
      ],
      "text/plain": [
       "                      Company Name ISO Country Code               Country  \\\n",
       "0    ITX HELLAS SINGLE MEMBER S.A.               GR                 Grèce   \n",
       "1             ZEEMAN TEXTIELSUPERS               FR                France   \n",
       "2                 ANSWEAR.COM S.A.               PL               Pologne   \n",
       "3                      REGENT GOLD               RU  Fédération de Russie   \n",
       "4     NILSON GROUP AB FILIAL NORGE               NO               Norvège   \n",
       "..                             ...              ...                   ...   \n",
       "244                  MARMON SPORTS               FR                France   \n",
       "245             MODA CENTER S.R.L.               IT                Italie   \n",
       "246                BIJOUX BOUTIQUE               FR                France   \n",
       "247                      ZETEK SRL               IT                Italie   \n",
       "248                   WADEL S.R.L.               IT                Italie   \n",
       "\n",
       "                                           City  \\\n",
       "0                                        ATHENS   \n",
       "1                                         PARIS   \n",
       "2                                        KRAKOW   \n",
       "3    AGALATOVSKOE SELSKOE POSELENIE, D. SKOTNOE   \n",
       "4                                          OSLO   \n",
       "..                                          ...   \n",
       "244                               AUBERVILLIERS   \n",
       "245                                  TREVIGNANO   \n",
       "246                                  STRASBOURG   \n",
       "247                                      CERVIA   \n",
       "248                                    CAGLIARI   \n",
       "\n",
       "                                            Address  \\\n",
       "0                                               NaN   \n",
       "1                                               NaN   \n",
       "2                                               NaN   \n",
       "3    UL. SAVUSHKINA D. 126, LIT. A, POMESHCH. 133-N   \n",
       "4                                               NaN   \n",
       "..                                              ...   \n",
       "244                                             NaN   \n",
       "245                                  VIA TREVISO 71   \n",
       "246                                             NaN   \n",
       "247                             VIALE ROMAGNA 69/71   \n",
       "248                          VIA DEL RISORGIMENTO 5   \n",
       "\n",
       "     NACE Rev. 2 Code principal  \\\n",
       "0                          4771   \n",
       "1                          4771   \n",
       "2                          4771   \n",
       "3                          4777   \n",
       "4                          4772   \n",
       "..                          ...   \n",
       "244                        4771   \n",
       "245                        4771   \n",
       "246                        4777   \n",
       "247                        4771   \n",
       "248                        4772   \n",
       "\n",
       "                    NACE Principal Rev. 2, description  \\\n",
       "0    Commerce de détail d'habillement en magasin sp...   \n",
       "1    Commerce de détail d'habillement en magasin sp...   \n",
       "2    Commerce de détail d'habillement en magasin sp...   \n",
       "3    Commerce de détail d'articles d'horlogerie et ...   \n",
       "4    Commerce de détail de chaussures et d'articles...   \n",
       "..                                                 ...   \n",
       "244  Commerce de détail d'habillement en magasin sp...   \n",
       "245  Commerce de détail d'habillement en magasin sp...   \n",
       "246  Commerce de détail d'articles d'horlogerie et ...   \n",
       "247  Commerce de détail d'habillement en magasin sp...   \n",
       "248  Commerce de détail de chaussures et d'articles...   \n",
       "\n",
       "                                                Sector  \\\n",
       "0            Engaged in the retail of fashion clothing   \n",
       "1    Engaged in the retail sale of clothing and out...   \n",
       "2    Digital platform for the sale of branded cloth...   \n",
       "3       Operates as other miscellaneous store retailer   \n",
       "4    Engaged in the operation of a chain of shoe st...   \n",
       "..                                                 ...   \n",
       "244  Engaged in the retail trade of sporting goods ...   \n",
       "245  Engaged in the retail trade of wearing apparel...   \n",
       "246  Operates as a retailer of miscellaneous shoppi...   \n",
       "247  Engaged in the manufacture and retail sale of ...   \n",
       "248  Primarily engaged in the retail sale of footwe...   \n",
       "\n",
       "                   Main activity  \\\n",
       "0                         Retail   \n",
       "1                         Retail   \n",
       "2    Wholesale; Retail; Services   \n",
       "3                         Retail   \n",
       "4                         Retail   \n",
       "..                           ...   \n",
       "244                       Retail   \n",
       "245                       Retail   \n",
       "246                       Retail   \n",
       "247        Manufacturing; Retail   \n",
       "248                       Retail   \n",
       "\n",
       "                                Description in English  ...  \\\n",
       "0    Exclusive imports and trade of garments, shoes...  ...   \n",
       "1    Engaged in the retail sale of clothing and out...  ...   \n",
       "2    The main activities of the Company are Electro...  ...   \n",
       "3    Operates as other miscellaneous store retailer...  ...   \n",
       "4    Engaged in the operation of a chain of shoe st...  ...   \n",
       "..                                                 ...  ...   \n",
       "244  Engaged in the retail trade of sporting goods ...  ...   \n",
       "245  Engaged in the retail trade of wearing apparel...  ...   \n",
       "246  Operates as a retailer of miscellaneous shoppi...  ...   \n",
       "247  Engaged in the manufacture and retail sale of ...  ...   \n",
       "248  Primarily engaged in the retail sale of footwe...  ...   \n",
       "\n",
       "                                      Meta Description  \\\n",
       "0                                                  NaN   \n",
       "1    Goede kwaliteit voor de laagst mogelijke prijs...   \n",
       "2    Masz styl z Answear.com! Odkryj modne ubrania ...   \n",
       "3    Женский журнал «ЗОЛОТОЙ» – твой верный советчи...   \n",
       "4                                                  NaN   \n",
       "..                                                 ...   \n",
       "244  Notre boutique propose les dernières nouveauté...   \n",
       "245  .ETTORE è un concept store che unisce un'offer...   \n",
       "246  De nombreux créateurs de Bijoux : Cluse, Mya B...   \n",
       "247  Tezuk propone una serie completa di modelli be...   \n",
       "248  Associazione si occupa di attività di caratter...   \n",
       "\n",
       "                                         Meta Keywords  \\\n",
       "0                                                  NaN   \n",
       "1                                                  NaN   \n",
       "2                                                  NaN   \n",
       "3                                                  NaN   \n",
       "4                                                  NaN   \n",
       "..                                                 ...   \n",
       "244  marmon, sports, vêtements, chaussures, baskets...   \n",
       "245                                                NaN   \n",
       "246                                                NaN   \n",
       "247  tezuk abbigliamento, tezuk accessori, tezuk mo...   \n",
       "248                                                NaN   \n",
       "\n",
       "                          Additional Meta Title  Additional Meta Description  \\\n",
       "0    IÎ¤Î§ ÎÎÎÎÎ£ MONOÎ Î¡ÎÎ£Î©Î Î Î.Î.                          NaN   \n",
       "1                                           NaN                          NaN   \n",
       "2                                           NaN                          NaN   \n",
       "3                                           NaN                          NaN   \n",
       "4                                           NaN                          NaN   \n",
       "..                                          ...                          ...   \n",
       "244                                         NaN                          NaN   \n",
       "245                                         NaN                          NaN   \n",
       "246                                         NaN                          NaN   \n",
       "247                                  HOME ZETEK                          NaN   \n",
       "248                                         NaN                          NaN   \n",
       "\n",
       "     Additional Meta Keywords  \\\n",
       "0                         NaN   \n",
       "1                         NaN   \n",
       "2                         NaN   \n",
       "3                         NaN   \n",
       "4                         NaN   \n",
       "..                        ...   \n",
       "244                       NaN   \n",
       "245                       NaN   \n",
       "246                       NaN   \n",
       "247                       NaN   \n",
       "248                       NaN   \n",
       "\n",
       "                                 Translated Meta Title  \\\n",
       "0                                                        \n",
       "1                       Sailor. It can be that simple.   \n",
       "2    Answear.com online store with women's, male an...   \n",
       "3                   Women's Internet magazine \"Golden\"   \n",
       "4                                                        \n",
       "..                                                 ...   \n",
       "244  Marmon Sports - clothing store, shoes, sport a...   \n",
       "245   . Elector | Fashion, home, design and fragrances   \n",
       "246  So ... jewelry, selection of creators jewelry ...   \n",
       "247              Tezuk | Tezuk beachwear | Shop online   \n",
       "248  Cral Region Sardinia - Events. Initiatives - C...   \n",
       "\n",
       "                           Translated Meta Description  \\\n",
       "0                                                        \n",
       "1    Good quality for the lowest possible price. By...   \n",
       "2    You have style from Answear.com! Discover fash...   \n",
       "3    The Golden Women's Journal is your faithful ad...   \n",
       "4                                                        \n",
       "..                                                 ...   \n",
       "244  Our shop offers the latest news from major bra...   \n",
       "245  . Ettatore is a concept store that combines a ...   \n",
       "246  Many jewelry designers: Cluse, Mya Bay, Gas, D...   \n",
       "247  Tezuk offers a complete series of women's and ...   \n",
       "248  Association deals with recreational, cultural,...   \n",
       "\n",
       "                      Translated Additional Meta Title  \\\n",
       "0    Îî¤Î§ Î Î Î Î Î Î £ £ Î Î Î Î Î Î Î Î Î Î Î Î ...   \n",
       "1                                                        \n",
       "2                                                        \n",
       "3                                                        \n",
       "4                                                        \n",
       "..                                                 ...   \n",
       "244                                                      \n",
       "245                                                      \n",
       "246                                                      \n",
       "247                                               Home   \n",
       "248                                                      \n",
       "\n",
       "    Translated Additional Meta Description  \\\n",
       "0                                            \n",
       "1                                            \n",
       "2                                            \n",
       "3                                            \n",
       "4                                            \n",
       "..                                     ...   \n",
       "244                                          \n",
       "245                                          \n",
       "246                                          \n",
       "247                                          \n",
       "248                                          \n",
       "\n",
       "                                  combined_description  \n",
       "0    Exclusive imports and trade of garments, shoes...  \n",
       "1    Engaged in the retail sale of clothing and out...  \n",
       "2    The main activities of the Company are Electro...  \n",
       "3    Operates as other miscellaneous store retailer...  \n",
       "4    Engaged in the operation of a chain of shoe st...  \n",
       "..                                                 ...  \n",
       "244  Engaged in the retail trade of sporting goods ...  \n",
       "245  Engaged in the retail trade of wearing apparel...  \n",
       "246  Operates as a retailer of miscellaneous shoppi...  \n",
       "247  Engaged in the manufacture and retail sale of ...  \n",
       "248  Primarily engaged in the retail sale of footwe...  \n",
       "\n",
       "[249 rows x 32 columns]"
      ]
     },
     "execution_count": 18,
     "metadata": {},
     "output_type": "execute_result"
    }
   ],
   "source": [
    "df"
   ]
  },
  {
   "cell_type": "code",
   "execution_count": 19,
   "metadata": {},
   "outputs": [
    {
     "data": {
      "text/html": [
       "<div>\n",
       "<style scoped>\n",
       "    .dataframe tbody tr th:only-of-type {\n",
       "        vertical-align: middle;\n",
       "    }\n",
       "\n",
       "    .dataframe tbody tr th {\n",
       "        vertical-align: top;\n",
       "    }\n",
       "\n",
       "    .dataframe thead th {\n",
       "        text-align: right;\n",
       "    }\n",
       "</style>\n",
       "<table border=\"1\" class=\"dataframe\">\n",
       "  <thead>\n",
       "    <tr style=\"text-align: right;\">\n",
       "      <th></th>\n",
       "      <th>Company Name</th>\n",
       "      <th>ISO Country Code</th>\n",
       "      <th>Country</th>\n",
       "      <th>City</th>\n",
       "      <th>Address</th>\n",
       "      <th>NACE Rev. 2 Code principal</th>\n",
       "      <th>NACE Principal Rev. 2, description</th>\n",
       "      <th>Sector</th>\n",
       "      <th>Main activity</th>\n",
       "      <th>Description in English</th>\n",
       "      <th>...</th>\n",
       "      <th>Meta Keywords</th>\n",
       "      <th>Additional Meta Title</th>\n",
       "      <th>Additional Meta Description</th>\n",
       "      <th>Additional Meta Keywords</th>\n",
       "      <th>Translated Meta Title</th>\n",
       "      <th>Translated Meta Description</th>\n",
       "      <th>Translated Additional Meta Title</th>\n",
       "      <th>Translated Additional Meta Description</th>\n",
       "      <th>combined_description</th>\n",
       "      <th>cleaned_description</th>\n",
       "    </tr>\n",
       "  </thead>\n",
       "  <tbody>\n",
       "    <tr>\n",
       "      <th>0</th>\n",
       "      <td>ITX HELLAS SINGLE MEMBER S.A.</td>\n",
       "      <td>GR</td>\n",
       "      <td>Grèce</td>\n",
       "      <td>ATHENS</td>\n",
       "      <td>NaN</td>\n",
       "      <td>4771</td>\n",
       "      <td>Commerce de détail d'habillement en magasin sp...</td>\n",
       "      <td>Engaged in the retail of fashion clothing</td>\n",
       "      <td>Retail</td>\n",
       "      <td>Exclusive imports and trade of garments, shoes...</td>\n",
       "      <td>...</td>\n",
       "      <td>NaN</td>\n",
       "      <td>IÎ¤Î§ ÎÎÎÎÎ£ MONOÎ Î¡ÎÎ£Î©Î Î Î.Î.</td>\n",
       "      <td>NaN</td>\n",
       "      <td>NaN</td>\n",
       "      <td></td>\n",
       "      <td></td>\n",
       "      <td>Îî¤Î§ Î Î Î Î Î Î £ £ Î Î Î Î Î Î Î Î Î Î Î Î ...</td>\n",
       "      <td></td>\n",
       "      <td>Exclusive imports and trade of garments, shoes...</td>\n",
       "      <td>Exclusive imports and trade of garments shoes ...</td>\n",
       "    </tr>\n",
       "    <tr>\n",
       "      <th>1</th>\n",
       "      <td>ZEEMAN TEXTIELSUPERS</td>\n",
       "      <td>FR</td>\n",
       "      <td>France</td>\n",
       "      <td>PARIS</td>\n",
       "      <td>NaN</td>\n",
       "      <td>4771</td>\n",
       "      <td>Commerce de détail d'habillement en magasin sp...</td>\n",
       "      <td>Engaged in the retail sale of clothing and out...</td>\n",
       "      <td>Retail</td>\n",
       "      <td>Engaged in the retail sale of clothing and out...</td>\n",
       "      <td>...</td>\n",
       "      <td>NaN</td>\n",
       "      <td>NaN</td>\n",
       "      <td>NaN</td>\n",
       "      <td>NaN</td>\n",
       "      <td>Sailor. It can be that simple.</td>\n",
       "      <td>Good quality for the lowest possible price. By...</td>\n",
       "      <td></td>\n",
       "      <td></td>\n",
       "      <td>Engaged in the retail sale of clothing and out...</td>\n",
       "      <td>Engaged in the retail sale of clothing and out...</td>\n",
       "    </tr>\n",
       "    <tr>\n",
       "      <th>2</th>\n",
       "      <td>ANSWEAR.COM S.A.</td>\n",
       "      <td>PL</td>\n",
       "      <td>Pologne</td>\n",
       "      <td>KRAKOW</td>\n",
       "      <td>NaN</td>\n",
       "      <td>4771</td>\n",
       "      <td>Commerce de détail d'habillement en magasin sp...</td>\n",
       "      <td>Digital platform for the sale of branded cloth...</td>\n",
       "      <td>Wholesale; Retail; Services</td>\n",
       "      <td>The main activities of the Company are Electro...</td>\n",
       "      <td>...</td>\n",
       "      <td>NaN</td>\n",
       "      <td>NaN</td>\n",
       "      <td>NaN</td>\n",
       "      <td>NaN</td>\n",
       "      <td>Answear.com online store with women's, male an...</td>\n",
       "      <td>You have style from Answear.com! Discover fash...</td>\n",
       "      <td></td>\n",
       "      <td></td>\n",
       "      <td>The main activities of the Company are Electro...</td>\n",
       "      <td>The main activities of the Company are Electro...</td>\n",
       "    </tr>\n",
       "    <tr>\n",
       "      <th>3</th>\n",
       "      <td>REGENT GOLD</td>\n",
       "      <td>RU</td>\n",
       "      <td>Fédération de Russie</td>\n",
       "      <td>AGALATOVSKOE SELSKOE POSELENIE, D. SKOTNOE</td>\n",
       "      <td>UL. SAVUSHKINA D. 126, LIT. A, POMESHCH. 133-N</td>\n",
       "      <td>4777</td>\n",
       "      <td>Commerce de détail d'articles d'horlogerie et ...</td>\n",
       "      <td>Operates as other miscellaneous store retailer</td>\n",
       "      <td>Retail</td>\n",
       "      <td>Operates as other miscellaneous store retailer...</td>\n",
       "      <td>...</td>\n",
       "      <td>NaN</td>\n",
       "      <td>NaN</td>\n",
       "      <td>NaN</td>\n",
       "      <td>NaN</td>\n",
       "      <td>Women's Internet magazine \"Golden\"</td>\n",
       "      <td>The Golden Women's Journal is your faithful ad...</td>\n",
       "      <td></td>\n",
       "      <td></td>\n",
       "      <td>Operates as other miscellaneous store retailer...</td>\n",
       "      <td>Operates as other miscellaneous store retailer...</td>\n",
       "    </tr>\n",
       "    <tr>\n",
       "      <th>4</th>\n",
       "      <td>NILSON GROUP AB FILIAL NORGE</td>\n",
       "      <td>NO</td>\n",
       "      <td>Norvège</td>\n",
       "      <td>OSLO</td>\n",
       "      <td>NaN</td>\n",
       "      <td>4772</td>\n",
       "      <td>Commerce de détail de chaussures et d'articles...</td>\n",
       "      <td>Engaged in the operation of a chain of shoe st...</td>\n",
       "      <td>Retail</td>\n",
       "      <td>Engaged in the operation of a chain of shoe st...</td>\n",
       "      <td>...</td>\n",
       "      <td>NaN</td>\n",
       "      <td>NaN</td>\n",
       "      <td>NaN</td>\n",
       "      <td>NaN</td>\n",
       "      <td></td>\n",
       "      <td></td>\n",
       "      <td></td>\n",
       "      <td></td>\n",
       "      <td>Engaged in the operation of a chain of shoe st...</td>\n",
       "      <td>Engaged in the operation of a chain of shoe st...</td>\n",
       "    </tr>\n",
       "    <tr>\n",
       "      <th>...</th>\n",
       "      <td>...</td>\n",
       "      <td>...</td>\n",
       "      <td>...</td>\n",
       "      <td>...</td>\n",
       "      <td>...</td>\n",
       "      <td>...</td>\n",
       "      <td>...</td>\n",
       "      <td>...</td>\n",
       "      <td>...</td>\n",
       "      <td>...</td>\n",
       "      <td>...</td>\n",
       "      <td>...</td>\n",
       "      <td>...</td>\n",
       "      <td>...</td>\n",
       "      <td>...</td>\n",
       "      <td>...</td>\n",
       "      <td>...</td>\n",
       "      <td>...</td>\n",
       "      <td>...</td>\n",
       "      <td>...</td>\n",
       "      <td>...</td>\n",
       "    </tr>\n",
       "    <tr>\n",
       "      <th>244</th>\n",
       "      <td>MARMON SPORTS</td>\n",
       "      <td>FR</td>\n",
       "      <td>France</td>\n",
       "      <td>AUBERVILLIERS</td>\n",
       "      <td>NaN</td>\n",
       "      <td>4771</td>\n",
       "      <td>Commerce de détail d'habillement en magasin sp...</td>\n",
       "      <td>Engaged in the retail trade of sporting goods ...</td>\n",
       "      <td>Retail</td>\n",
       "      <td>Engaged in the retail trade of sporting goods ...</td>\n",
       "      <td>...</td>\n",
       "      <td>marmon, sports, vêtements, chaussures, baskets...</td>\n",
       "      <td>NaN</td>\n",
       "      <td>NaN</td>\n",
       "      <td>NaN</td>\n",
       "      <td>Marmon Sports - clothing store, shoes, sport a...</td>\n",
       "      <td>Our shop offers the latest news from major bra...</td>\n",
       "      <td></td>\n",
       "      <td></td>\n",
       "      <td>Engaged in the retail trade of sporting goods ...</td>\n",
       "      <td>Engaged in the retail trade of sporting goods ...</td>\n",
       "    </tr>\n",
       "    <tr>\n",
       "      <th>245</th>\n",
       "      <td>MODA CENTER S.R.L.</td>\n",
       "      <td>IT</td>\n",
       "      <td>Italie</td>\n",
       "      <td>TREVIGNANO</td>\n",
       "      <td>VIA TREVISO 71</td>\n",
       "      <td>4771</td>\n",
       "      <td>Commerce de détail d'habillement en magasin sp...</td>\n",
       "      <td>Engaged in the retail trade of wearing apparel...</td>\n",
       "      <td>Retail</td>\n",
       "      <td>Engaged in the retail trade of wearing apparel...</td>\n",
       "      <td>...</td>\n",
       "      <td>NaN</td>\n",
       "      <td>NaN</td>\n",
       "      <td>NaN</td>\n",
       "      <td>NaN</td>\n",
       "      <td>. Elector | Fashion, home, design and fragrances</td>\n",
       "      <td>. Ettatore is a concept store that combines a ...</td>\n",
       "      <td></td>\n",
       "      <td></td>\n",
       "      <td>Engaged in the retail trade of wearing apparel...</td>\n",
       "      <td>Engaged in the retail trade of wearing apparel...</td>\n",
       "    </tr>\n",
       "    <tr>\n",
       "      <th>246</th>\n",
       "      <td>BIJOUX BOUTIQUE</td>\n",
       "      <td>FR</td>\n",
       "      <td>France</td>\n",
       "      <td>STRASBOURG</td>\n",
       "      <td>NaN</td>\n",
       "      <td>4777</td>\n",
       "      <td>Commerce de détail d'articles d'horlogerie et ...</td>\n",
       "      <td>Operates as a retailer of miscellaneous shoppi...</td>\n",
       "      <td>Retail</td>\n",
       "      <td>Operates as a retailer of miscellaneous shoppi...</td>\n",
       "      <td>...</td>\n",
       "      <td>NaN</td>\n",
       "      <td>NaN</td>\n",
       "      <td>NaN</td>\n",
       "      <td>NaN</td>\n",
       "      <td>So ... jewelry, selection of creators jewelry ...</td>\n",
       "      <td>Many jewelry designers: Cluse, Mya Bay, Gas, D...</td>\n",
       "      <td></td>\n",
       "      <td></td>\n",
       "      <td>Operates as a retailer of miscellaneous shoppi...</td>\n",
       "      <td>Operates as a retailer of miscellaneous shoppi...</td>\n",
       "    </tr>\n",
       "    <tr>\n",
       "      <th>247</th>\n",
       "      <td>ZETEK SRL</td>\n",
       "      <td>IT</td>\n",
       "      <td>Italie</td>\n",
       "      <td>CERVIA</td>\n",
       "      <td>VIALE ROMAGNA 69/71</td>\n",
       "      <td>4771</td>\n",
       "      <td>Commerce de détail d'habillement en magasin sp...</td>\n",
       "      <td>Engaged in the manufacture and retail sale of ...</td>\n",
       "      <td>Manufacturing; Retail</td>\n",
       "      <td>Engaged in the manufacture and retail sale of ...</td>\n",
       "      <td>...</td>\n",
       "      <td>tezuk abbigliamento, tezuk accessori, tezuk mo...</td>\n",
       "      <td>HOME ZETEK</td>\n",
       "      <td>NaN</td>\n",
       "      <td>NaN</td>\n",
       "      <td>Tezuk | Tezuk beachwear | Shop online</td>\n",
       "      <td>Tezuk offers a complete series of women's and ...</td>\n",
       "      <td>Home</td>\n",
       "      <td></td>\n",
       "      <td>Engaged in the manufacture and retail sale of ...</td>\n",
       "      <td>Engaged in the manufacture and retail sale of ...</td>\n",
       "    </tr>\n",
       "    <tr>\n",
       "      <th>248</th>\n",
       "      <td>WADEL S.R.L.</td>\n",
       "      <td>IT</td>\n",
       "      <td>Italie</td>\n",
       "      <td>CAGLIARI</td>\n",
       "      <td>VIA DEL RISORGIMENTO 5</td>\n",
       "      <td>4772</td>\n",
       "      <td>Commerce de détail de chaussures et d'articles...</td>\n",
       "      <td>Primarily engaged in the retail sale of footwe...</td>\n",
       "      <td>Retail</td>\n",
       "      <td>Primarily engaged in the retail sale of footwe...</td>\n",
       "      <td>...</td>\n",
       "      <td>NaN</td>\n",
       "      <td>NaN</td>\n",
       "      <td>NaN</td>\n",
       "      <td>NaN</td>\n",
       "      <td>Cral Region Sardinia - Events. Initiatives - C...</td>\n",
       "      <td>Association deals with recreational, cultural,...</td>\n",
       "      <td></td>\n",
       "      <td></td>\n",
       "      <td>Primarily engaged in the retail sale of footwe...</td>\n",
       "      <td>Primarily engaged in the retail sale of footwe...</td>\n",
       "    </tr>\n",
       "  </tbody>\n",
       "</table>\n",
       "<p>249 rows × 33 columns</p>\n",
       "</div>"
      ],
      "text/plain": [
       "                      Company Name ISO Country Code               Country  \\\n",
       "0    ITX HELLAS SINGLE MEMBER S.A.               GR                 Grèce   \n",
       "1             ZEEMAN TEXTIELSUPERS               FR                France   \n",
       "2                 ANSWEAR.COM S.A.               PL               Pologne   \n",
       "3                      REGENT GOLD               RU  Fédération de Russie   \n",
       "4     NILSON GROUP AB FILIAL NORGE               NO               Norvège   \n",
       "..                             ...              ...                   ...   \n",
       "244                  MARMON SPORTS               FR                France   \n",
       "245             MODA CENTER S.R.L.               IT                Italie   \n",
       "246                BIJOUX BOUTIQUE               FR                France   \n",
       "247                      ZETEK SRL               IT                Italie   \n",
       "248                   WADEL S.R.L.               IT                Italie   \n",
       "\n",
       "                                           City  \\\n",
       "0                                        ATHENS   \n",
       "1                                         PARIS   \n",
       "2                                        KRAKOW   \n",
       "3    AGALATOVSKOE SELSKOE POSELENIE, D. SKOTNOE   \n",
       "4                                          OSLO   \n",
       "..                                          ...   \n",
       "244                               AUBERVILLIERS   \n",
       "245                                  TREVIGNANO   \n",
       "246                                  STRASBOURG   \n",
       "247                                      CERVIA   \n",
       "248                                    CAGLIARI   \n",
       "\n",
       "                                            Address  \\\n",
       "0                                               NaN   \n",
       "1                                               NaN   \n",
       "2                                               NaN   \n",
       "3    UL. SAVUSHKINA D. 126, LIT. A, POMESHCH. 133-N   \n",
       "4                                               NaN   \n",
       "..                                              ...   \n",
       "244                                             NaN   \n",
       "245                                  VIA TREVISO 71   \n",
       "246                                             NaN   \n",
       "247                             VIALE ROMAGNA 69/71   \n",
       "248                          VIA DEL RISORGIMENTO 5   \n",
       "\n",
       "     NACE Rev. 2 Code principal  \\\n",
       "0                          4771   \n",
       "1                          4771   \n",
       "2                          4771   \n",
       "3                          4777   \n",
       "4                          4772   \n",
       "..                          ...   \n",
       "244                        4771   \n",
       "245                        4771   \n",
       "246                        4777   \n",
       "247                        4771   \n",
       "248                        4772   \n",
       "\n",
       "                    NACE Principal Rev. 2, description  \\\n",
       "0    Commerce de détail d'habillement en magasin sp...   \n",
       "1    Commerce de détail d'habillement en magasin sp...   \n",
       "2    Commerce de détail d'habillement en magasin sp...   \n",
       "3    Commerce de détail d'articles d'horlogerie et ...   \n",
       "4    Commerce de détail de chaussures et d'articles...   \n",
       "..                                                 ...   \n",
       "244  Commerce de détail d'habillement en magasin sp...   \n",
       "245  Commerce de détail d'habillement en magasin sp...   \n",
       "246  Commerce de détail d'articles d'horlogerie et ...   \n",
       "247  Commerce de détail d'habillement en magasin sp...   \n",
       "248  Commerce de détail de chaussures et d'articles...   \n",
       "\n",
       "                                                Sector  \\\n",
       "0            Engaged in the retail of fashion clothing   \n",
       "1    Engaged in the retail sale of clothing and out...   \n",
       "2    Digital platform for the sale of branded cloth...   \n",
       "3       Operates as other miscellaneous store retailer   \n",
       "4    Engaged in the operation of a chain of shoe st...   \n",
       "..                                                 ...   \n",
       "244  Engaged in the retail trade of sporting goods ...   \n",
       "245  Engaged in the retail trade of wearing apparel...   \n",
       "246  Operates as a retailer of miscellaneous shoppi...   \n",
       "247  Engaged in the manufacture and retail sale of ...   \n",
       "248  Primarily engaged in the retail sale of footwe...   \n",
       "\n",
       "                   Main activity  \\\n",
       "0                         Retail   \n",
       "1                         Retail   \n",
       "2    Wholesale; Retail; Services   \n",
       "3                         Retail   \n",
       "4                         Retail   \n",
       "..                           ...   \n",
       "244                       Retail   \n",
       "245                       Retail   \n",
       "246                       Retail   \n",
       "247        Manufacturing; Retail   \n",
       "248                       Retail   \n",
       "\n",
       "                                Description in English  ...  \\\n",
       "0    Exclusive imports and trade of garments, shoes...  ...   \n",
       "1    Engaged in the retail sale of clothing and out...  ...   \n",
       "2    The main activities of the Company are Electro...  ...   \n",
       "3    Operates as other miscellaneous store retailer...  ...   \n",
       "4    Engaged in the operation of a chain of shoe st...  ...   \n",
       "..                                                 ...  ...   \n",
       "244  Engaged in the retail trade of sporting goods ...  ...   \n",
       "245  Engaged in the retail trade of wearing apparel...  ...   \n",
       "246  Operates as a retailer of miscellaneous shoppi...  ...   \n",
       "247  Engaged in the manufacture and retail sale of ...  ...   \n",
       "248  Primarily engaged in the retail sale of footwe...  ...   \n",
       "\n",
       "                                         Meta Keywords  \\\n",
       "0                                                  NaN   \n",
       "1                                                  NaN   \n",
       "2                                                  NaN   \n",
       "3                                                  NaN   \n",
       "4                                                  NaN   \n",
       "..                                                 ...   \n",
       "244  marmon, sports, vêtements, chaussures, baskets...   \n",
       "245                                                NaN   \n",
       "246                                                NaN   \n",
       "247  tezuk abbigliamento, tezuk accessori, tezuk mo...   \n",
       "248                                                NaN   \n",
       "\n",
       "                          Additional Meta Title  Additional Meta Description  \\\n",
       "0    IÎ¤Î§ ÎÎÎÎÎ£ MONOÎ Î¡ÎÎ£Î©Î Î Î.Î.                          NaN   \n",
       "1                                           NaN                          NaN   \n",
       "2                                           NaN                          NaN   \n",
       "3                                           NaN                          NaN   \n",
       "4                                           NaN                          NaN   \n",
       "..                                          ...                          ...   \n",
       "244                                         NaN                          NaN   \n",
       "245                                         NaN                          NaN   \n",
       "246                                         NaN                          NaN   \n",
       "247                                  HOME ZETEK                          NaN   \n",
       "248                                         NaN                          NaN   \n",
       "\n",
       "     Additional Meta Keywords  \\\n",
       "0                         NaN   \n",
       "1                         NaN   \n",
       "2                         NaN   \n",
       "3                         NaN   \n",
       "4                         NaN   \n",
       "..                        ...   \n",
       "244                       NaN   \n",
       "245                       NaN   \n",
       "246                       NaN   \n",
       "247                       NaN   \n",
       "248                       NaN   \n",
       "\n",
       "                                 Translated Meta Title  \\\n",
       "0                                                        \n",
       "1                       Sailor. It can be that simple.   \n",
       "2    Answear.com online store with women's, male an...   \n",
       "3                   Women's Internet magazine \"Golden\"   \n",
       "4                                                        \n",
       "..                                                 ...   \n",
       "244  Marmon Sports - clothing store, shoes, sport a...   \n",
       "245   . Elector | Fashion, home, design and fragrances   \n",
       "246  So ... jewelry, selection of creators jewelry ...   \n",
       "247              Tezuk | Tezuk beachwear | Shop online   \n",
       "248  Cral Region Sardinia - Events. Initiatives - C...   \n",
       "\n",
       "                           Translated Meta Description  \\\n",
       "0                                                        \n",
       "1    Good quality for the lowest possible price. By...   \n",
       "2    You have style from Answear.com! Discover fash...   \n",
       "3    The Golden Women's Journal is your faithful ad...   \n",
       "4                                                        \n",
       "..                                                 ...   \n",
       "244  Our shop offers the latest news from major bra...   \n",
       "245  . Ettatore is a concept store that combines a ...   \n",
       "246  Many jewelry designers: Cluse, Mya Bay, Gas, D...   \n",
       "247  Tezuk offers a complete series of women's and ...   \n",
       "248  Association deals with recreational, cultural,...   \n",
       "\n",
       "                      Translated Additional Meta Title  \\\n",
       "0    Îî¤Î§ Î Î Î Î Î Î £ £ Î Î Î Î Î Î Î Î Î Î Î Î ...   \n",
       "1                                                        \n",
       "2                                                        \n",
       "3                                                        \n",
       "4                                                        \n",
       "..                                                 ...   \n",
       "244                                                      \n",
       "245                                                      \n",
       "246                                                      \n",
       "247                                               Home   \n",
       "248                                                      \n",
       "\n",
       "    Translated Additional Meta Description  \\\n",
       "0                                            \n",
       "1                                            \n",
       "2                                            \n",
       "3                                            \n",
       "4                                            \n",
       "..                                     ...   \n",
       "244                                          \n",
       "245                                          \n",
       "246                                          \n",
       "247                                          \n",
       "248                                          \n",
       "\n",
       "                                  combined_description  \\\n",
       "0    Exclusive imports and trade of garments, shoes...   \n",
       "1    Engaged in the retail sale of clothing and out...   \n",
       "2    The main activities of the Company are Electro...   \n",
       "3    Operates as other miscellaneous store retailer...   \n",
       "4    Engaged in the operation of a chain of shoe st...   \n",
       "..                                                 ...   \n",
       "244  Engaged in the retail trade of sporting goods ...   \n",
       "245  Engaged in the retail trade of wearing apparel...   \n",
       "246  Operates as a retailer of miscellaneous shoppi...   \n",
       "247  Engaged in the manufacture and retail sale of ...   \n",
       "248  Primarily engaged in the retail sale of footwe...   \n",
       "\n",
       "                                   cleaned_description  \n",
       "0    Exclusive imports and trade of garments shoes ...  \n",
       "1    Engaged in the retail sale of clothing and out...  \n",
       "2    The main activities of the Company are Electro...  \n",
       "3    Operates as other miscellaneous store retailer...  \n",
       "4    Engaged in the operation of a chain of shoe st...  \n",
       "..                                                 ...  \n",
       "244  Engaged in the retail trade of sporting goods ...  \n",
       "245  Engaged in the retail trade of wearing apparel...  \n",
       "246  Operates as a retailer of miscellaneous shoppi...  \n",
       "247  Engaged in the manufacture and retail sale of ...  \n",
       "248  Primarily engaged in the retail sale of footwe...  \n",
       "\n",
       "[249 rows x 33 columns]"
      ]
     },
     "execution_count": 19,
     "metadata": {},
     "output_type": "execute_result"
    }
   ],
   "source": [
    "import re\n",
    "\n",
    "\n",
    "# Function to clean text for topic modeling\n",
    "def clean_text(text):\n",
    "    text = re.sub(r\"\\[.*?\\]\", \"\", text)  # Remove text inside square brackets []\n",
    "    text = re.sub(r\"[^a-zA-Z0-9\\s]\", \"\", text)  # Remove special characters\n",
    "    text = re.sub(r\"\\s+\", \" \", text).strip()  # Remove extra spaces\n",
    "    return text\n",
    "\n",
    "\n",
    "# Apply the cleaning function to 'combined_description' column\n",
    "df[\"cleaned_description\"] = df[\"combined_description\"].astype(str).apply(clean_text)\n",
    "\n",
    "# Display first few cleaned descriptions\n",
    "df"
   ]
  },
  {
   "cell_type": "code",
   "execution_count": 20,
   "metadata": {},
   "outputs": [
    {
     "data": {
      "text/plain": [
       "['Exclusive imports and trade of garments shoes accessories leather goods perfumes cosmetics white linen decoratives tableware and small furniture also via internet',\n",
       " 'Engaged in the retail sale of clothing and outerwear as well as fashion apparels and accessories Sailor It can be that simple Good quality for the lowest possible price By keeping everything easy From clothing to residential textiles 30 Days Consideration Time 2 Working days Delivery time',\n",
       " 'The main activities of the Company are Electronic Shopping and MailOrder Houses Answearcom online store with womens male and childrens fashion shipping even in 24h You have style from Answearcom Discover fashionable womens mens and childrens clothes and footwear Thousands of products over 500 brands Shipping even in 24h',\n",
       " 'Operates as other miscellaneous store retailer Womens Internet magazine Golden The Golden Womens Journal is your faithful adviser as regarding beauty fashion style relationship and everything that may be interesting to you',\n",
       " 'Engaged in the operation of a chain of shoe stores Involved in the retail trade of footwear',\n",
       " 'Engaged in the retail sale of footwear Delivery of rolls land and pizza to St Petersburg Round the clock food delivery Sakura is delicious Sakura is delicious Delivery of land pizza Korean food wok noodles in a box in St Petersburg 24 hours around the clock Order online or by phone 8 812 458 88 88',\n",
       " 'Trade with clothes footwear accessories 404 Page Not Found EMG marketing communications agency EMG is a creative agency of marketing communications Contact us today to discuss your tasks and find optimal solutions for their implementation',\n",
       " 'Retail of clothes and accessories',\n",
       " 'Engaged in the operation of shoe stores',\n",
       " 'Engaged in the management and operation of clothing stores Prielli Group Group Prielli is a company in constant evolution Creativity and talent have allowed the group to guess future trends Official Clothing and accessories MotoGP GP Racing Apparels Buy the MotoGP and Superbike clothing and accessories Riders and teams merchandising is on GP Racing Apparel',\n",
       " 'Engaged in the operation of a chain of family clothing stores Wise Boutique',\n",
       " 'sale of footwear and accessories NO ONE multi brand store Italian shoes bags and accessories No One Nawwan is more than 100 European brands of shoes clothes bags and accessories AGL Baldinini Casadei Fabi Premiata Principe di Bologna Sergio Rossi Doucals and many others',\n",
       " 'Engaged in the retail sale of watches and jewelry High Watchmaker and Jewelery in Lisbon and Cascais Towers jewelers Towers jewelers specializes in high watchmaking and jewelery in Lisbon and Cascais With over 100 years of history it represents over 40 luxury brands High Watchmaker and Jewelery in Lisbon and Cascais Towers jewelers Towers jewelers specializes in high watchmaking and jewelery in Lisbon and Cascais With over 100 years of history it represents over 40 luxury brands',\n",
       " 'Engaged in the retail sale of clothing apparels and footwear for men and women Buy CA fashion cheap online CA online shop Discover fashion for the whole family at affordable prices now at CA Large selection trendy styles',\n",
       " 'Retail distribution of knitted and crocheted apparel 403 Forbidden',\n",
       " 'Engaged in the retail sale of clothing principally in Denmark Mens clothing online Buy stylish mens clothing at Kaufmann Buy mens fashion from Kaufmann Always a large selection of mens clothing Safe online commerce Swap in Kaufmanns stores across the country',\n",
       " 'Primarily engaged in the retail sale of clothing and accessories in Poland Ochnik Odzie Online store of the renowned Polish brand Ochnik from the highest quality galanteri and clothing Check our offers and choose something for yourself',\n",
       " 'Design and retail contemporary clothing and accessories Womens Designer Fashion Luxury Clothing MEEM Welcome to MEEM Discover luxury and contemporary fashion with timeless style Shop designer clothing and accessories for women',\n",
       " 'Trade outwear Carrypl shop with womens and male fashion Check out our wide offer and order clothes with free delivery from PLN 150 at Carrypl',\n",
       " 'Engaged in selling jewelry and other related personal adornment Attention Required Cloudflare Panclub jewelrybuy in an official online store ex pandora with delivery in Moscow and the Russian Federation Panclub Ex Pandora is a jewelry multibrand with decorations of talented designers that fall in love with themselves at first sight Choose Pandora products and more than 25 brands for yourself or as a gift gold and silver rings and earrings with inserts of precious stones Diamonds topazes and amethysts mountain crystal citrines and golden placers rushed they are all ready to become your jewelry talismans Quality assurance Delivery throughout Russia',\n",
       " 'Retail sale of clothing in specialised stores Sneakers Sports equipment Footwear clothing buy online Planet sport Planet Sport the largest supply of sneakers sports clothing and footwear in Serbia Best prices and actions in each season New collection 2024 Online sales Digital folder and business address Book of Serbia Planplusrs All streets public and business facilities in one place Addresses phones accurate locations working hours',\n",
       " 'Trade footwear leather accessories Venezia company online store Branded online shoes womens footwear mens footwear womens bags womens jackets Venezia online shoes store Venezia company online store Branded online shoes womens footwear mens footwear womens bags womens jackets Venezia online shoes store',\n",
       " 'Engaged in the operation of a chain of shoe stores Involved in the retail trade of footwear for men women and children',\n",
       " 'Trade outwear VANGRAAFCOM Van Graaf International Company Since its foundation in 2001 VAN GRAAF has become one of the leading fashion companies in Europe',\n",
       " 'Bolagets verksamhetsomrade ar detaljforsaljning grosshandel och tillverkning av textilier accessoarer och skor och allt annat som ar forknippat med de Bolaget kann aga fastigheter vardepapper och aktier NEW YORKER Dress for the moment Discover the latest fashion trends for women and men at New Yorker Clothing by Amisu Censored Fishbone Smog and Black Squad Pori',\n",
       " 'Engaged in the retail sale of watches and jewelry products Iride Metals Home',\n",
       " 'Engaged in the retail sale of footwear Retail distribution by Frank Rosenthal extend the reflection of my 9 books Value for Money ImagePrix Instructions for use Better control your client relationship Retail in the United States The essentials of the trade of tomorrow Boost trade give meaning to trade Inspire trade and PostCovid Trade Mutations Take a step back and question the news of distribution trade and consumption Among more than 3500 articles in this blog that has existed since 2008 international and French benchmarks more than 100 cities more than 20 countries more than 3000 real and carried out store visits I only talk about stores here that I really visited and not virtually Extend the flexion of my 9 books quot value for money quot quot ImagePrix user manual quot quot Better control your client relationship quot quot retail in the United States quot quot the essentials of the trade of tomorrow quot quot boost trade quot quot give meaning to trade quot quot Inspire trade quot and quot changes in postCOVIVE trade quot Take a step back and wonder about the news eacute distribution trade and consumption Among more than 3500 articles in this blog that has existed since 2008 international benchmarks and French more than 100 cities more than 20 countries more than 3000 visits to the R Eacute I only speak here of the stores that I have visited really and not virtually 404 page not found',\n",
       " 'Engaged in the retail sale of clothing and footwear products Playersroom Playersroom in Hungarys largest sneakers business network Sport Factory SportFactoryhu Move more spend less',\n",
       " 'Retail trade with clothing in Koton retail chain',\n",
       " 'Engaged in the retail sale of footwear',\n",
       " 'childrens wear Online store of childrens clothing Crockid in the city of St Petersburgbuy at a favorable price with delivery the official website of the manufacturer Buy childrens clothes in the city of St Petersburg on the official website of the manufacturer Crockid Clothing catalog for a child at competitive prices Delivery throughout Russia Guarantee More than 90 stores across the country',\n",
       " 'buying and selling goodsmediation on foreign and domestic marketBrands Elefanten AM Shoes Gallus Sale shoes on the online store Deichmann Discover shoes for women men and children at low prices on the online store Deichmann Large choice Large brands Order today',\n",
       " 'Sale of clothes OffPrice outlet official website Stores Offrais in Moscow Mytishchi OffPrice outlets a chain of smart shopping stores Our catalog contains more than 1000 brands of clothing and shoes with discounts from 40 to 85 all year round Look for your treasures choose buy and combine how you want Hunt for brands here',\n",
       " 'Engaged in the retail sale of jewelry products Attention Required Cloudflare',\n",
       " 'Engaged in the retail sale of clothing apparels and footwear for men and women',\n",
       " 'Engaged in the operation and management of clothing stores',\n",
       " 'Engaged in the retail sale of clothing shoes and accessories wwwlagrange12it',\n",
       " 'Operates as a clothing and apparel store',\n",
       " 'Trgovina obucomNote COVID19The companys business operations are directly indirectly affected by the consequences of official measures and recommendations to reduce the risk of corona infections The Croatian Government proposed a set of measures to mitigate the effects of the special circumstances caused by the coronavirus epidemic Employment protection measuresCroatian Employment Fund CEF is providing grants to support job preservation in COVID 19 affected sectorsTax measuresEmployers utilizing the grant provided by CEF to support job preservation are exempted from paying contributions on supported net salaries Possibility to defer payment of VAT until issued invoices are settled Taxpayers whose business activities are during special circumstances banned disabled or significantly impeded by decisions of the competent authority may be fully or partially exempted from paying their tax obligations The subject has received HRK 54112500 for 167 employees as support for salaries in March 2020 HRK 66600000 for 167 employees as support for salaries in April 2020 HRK 66600000 for 167 employees as support for salaries in May 2020from Croatian Employment Fund CEF Further development remains to be seen Mass web shop shoes sneakers shoes sandals Mass Shoes Mass is a brand brand of modern trendy and quality footwear The slogan Mass shoes for you in the best way represents our mission because the choice of footwear is diverse for the whole family for every occasion and all seasons We are representatives of the brands of renowned world manufacturers as well as our own Mark Mass brand has become a term for shoes quality and a diverse offer',\n",
       " 'Engaged in the design manufacture and retail marketing of jewelry and related fashion accessories Crystal Jewelry Houseonline jewelry store The online store Crystal offers a wide range of jewelry made of gold and silver rings earrings chains pendants Warranty up to 12 months Delivery throughout Russia Crystal Jewelry Houseonline jewelry store The online store Crystal offers a wide range of jewelry made of gold and silver rings earrings chains pendants Warranty up to 12 months Delivery throughout Russia',\n",
       " 'Engaged in the retail sale of jewelry watches precious stones and precious metals Salvadori Venezia since 1857 Luxury watches Salvadori Venezia is authorized Rolex Tudor Patek Philippe and Panerai dealer Discover the collections and the assistance service Free delivery',\n",
       " 'Imports mfg in third party facilities and trade of womens wear shoes accessories jewellery and cosmetics also via internet Franchising Pinkwoman Discover latest trends in womens fashion in Pink Woman Stylish clothes accessories for your unique style Immediate Shipment New Arrivals every week',\n",
       " 'Trade in clothes 5 Kardani Official online store of the federal chain of branded stores of youth clothing 5 kardanov website of the official online store of the federal chain of branded youth clothing stores',\n",
       " 'Engaged in the operation and management of clothing stores',\n",
       " 'Engaged in the operation of a chain of family clothing stores DAniello Boutique Fashion Luxury for Woman and Man Fashion Luxury Clothing bags and shoes of the best designer brand including Prada Valentino Fendi and much more Antonio DAniello Company consultant',\n",
       " 'Engaged in the retail distribution of jewellery 403 Forbidden',\n",
       " 'Primarily engaged in the retail sale of clothing and related accessories Socks tights leggings swimsuits Calzedonia Discover the new trendy collections for women men and children inspired by Italian fashion and knowhow on the official Calzedonia website',\n",
       " 'Engaged in the management and operation of shoe stores Pozzi she Office Tomorrow Print Scan Share the most advanced technology at your service In Genoa office tomorrow puts the most advanced technology cutting edge solutions and latest generation products at your service Print scan share',\n",
       " 'Operates as a retailer of miscellaneous shopping goods Gioielleria Bonanno The Best The Rarest Jewelery Bonanno di Roma specializes in the purchase and sale of exclusive luxury watches such as Rolex Audemars Piguet Patek Philippe',\n",
       " 'Operates as retailer of furniture and home furnishing FACIT SHOP ONLINE Facit has been synonymous with clothing for the whole family for over half a century Experience and a consolidated commercial formula make it one of the best known and most established Piedmontese companies operating in the fashion sector FACIT SHOP ONLINE Facit has been synonymous with clothing for the whole family for over half a century Experience and a consolidated commercial formula make it one of the best known and most established Piedmontese companies operating in the fashion sector',\n",
       " 'Engaged in the operation of a chain of shoe stores Involved in the retail trade of footwear Benvenuti shoes for women men and children Pass in the Universe of Benvenuti shoes and discover the most fashion shoes and the coolest purses',\n",
       " 'Toimiala Yhtion toimialana on naisten miesten ja lasten pukimien musiikkiaanitteiden kemikalien seka pukeutumiseen liittyvien tarvikkeiden myynti ja vaatteiden valmistus Yhtiolla on oikeus toimintaansa varten omistaa ja hallita kiinteistoja ja osakkeita Kekle Buy less hold more kekle Buy less hold more In a high quality selection you will find your future favorite clothes We serve you with an online store and 11 stores',\n",
       " 'Operates a shoe store specializing in selling mens womens and childrens footwear Sport Vision Online Shop Sport Vision Sport Vision Sports Equipment Store',\n",
       " 'Sale of jewellery EPL Diamond Wedding Engagement Fashion Jewelry',\n",
       " 'Engaged in the retail sale of home textiles Bassetti Official Store High quality house linen Discover the Lower House linen linen for the bedroom and bathroom and furnishing fabrics for the original and quality living area',\n",
       " 'Engaged in the retail distribution of a general line of new clothing for men women and children',\n",
       " 'Engaged in the rental and sale of real estate properties Maier watchmaking jewelry store jeweler jeweler and watchmaker Lyon Maier the biggest brands of prestigious watch and exceptional jewelry available in our Lyon stores and on our merchant site',\n",
       " 'Engaged in the retail sale footwear Manfield Leather shoes for women and men Fall collection Winter 2024 Discover the winter collection Express delivery offered from 150 and free return',\n",
       " 'Engaged in the retail sale of footwear products in Italy Valentipisa Discover all our signed collections Only the best of online fashion for men and women Live assistance and safe payments on Valentipisa',\n",
       " 'Engaged in the production and retail distribution of clothing and accessories Womens fashion online store and accessories Fashion store and accessories for women Dress fashionable without worrying about your size we have large sizes',\n",
       " 'Engaged in the retail sale of specialized lines of mens womens and childrens clothing Nielsens fashion clothing for men lady and Teenz Clothes for the whole family Find fashion clothing for men ladies and teens at Nielsens We sell clothes from a wide range of well known brands Nielsens fashion clothing for men lady and Teenz Clothes for the whole family Find fashion clothing for men ladies and teens at Nielsens We sell clothes from a wide range of well known brands',\n",
       " 'Engaged in the retail trade of clothing and footwear products',\n",
       " 'Engaged in the operation of sporting goods store Sport stadium Official Page Welcome to the official website of Stadium Sport Know and find our stores Discover our sports brands Contact us And much more',\n",
       " 'Yhtion toimialana on tekstiilien paperi ja muovituotteiden kemikaalien ym kodin tarvikkeiden ja elintarvikkeiden tukku ja vahittaiskauppa seka ulkomaankauppa Lisaksi yhtion toimialana on tekstiilituotteiden valmistus Lisaksi yhtio voi omistaa ja hallita kiinteistoja ja arvopapereita seka kayda niilla kauppaa Lyttex always inexpensive Lyttex Affordable shopping for the whole family now also online Welcome to find discoveries in Lyttex',\n",
       " 'Engaged in the operation of a jewelry store',\n",
       " 'Engaged in the retail trade of luxury watch and jewelry Tomasini France Jewels and luxury watches since 1815 The Tomasini France jewelery and watchmaking is the official dealer of the best luxury brands such as Rolex Tudor Breguet Omega Breitling Chopard and Damiani Tomasini France Jewels and luxury watches since 1815 The Tomasini France jewelery and watchmaking is the official dealer of the best luxury brands such as Rolex Tudor Breguet Omega Breitling Chopard and Damiani',\n",
       " 'Engaged in the retail sale and marketing of clothing and apparel products Home Nudes',\n",
       " 'Engaged in the retail sale of jewelry luggage and leather goods',\n",
       " 'Engaged in the retail sale of jewelry watches precious stones and precious metals',\n",
       " 'Engaged in the retail sale of watches From 1926 to this day as always Marcolino 1926 Marcolino 1926 is the main reference in the city of Porto for those who require quality and excellence in watchmaking and jewelery',\n",
       " 'Engaged in the wholesale and retail distribution of a general line of new clothing and accessories for men women and children Sportjam Nike Adidas Adidas Originals Reebok Vans',\n",
       " 'Operates as a retailer of jewelry goods and watches Sergio Capone Jewels and watches the best watchmaking brands Sergio Capone Jewels and watches the best watchmaking brands',\n",
       " 'Engaged in the retail distribution of a wide range of clothing and fashion accessories in Italy',\n",
       " 'Engaged in the retail distribution of footwear Domain sale offer wbssportpl Domain price 3799 PLN negotiable Possibility to buy in installments from PLN 35457 per month The sale offer is on the aftermarketpl website the largest online domain exchange in Poland',\n",
       " 'Engaged in the retail sale of fashion clothing and accessories Van Graaf Budapest Our shop in Budapest awaits a wide selection of mens and womens clothes and high quality clothes from evergreen classics and trendy pieces',\n",
       " 'Engaged in the retail sale of clothing particularly for men Mens fashion in Lancerto fashionable and comfortable clothing shoes and accessories for men Lancerto Mens fashion in Lancerto Discover convenient online shopping Order mens clothing shoes and mens accessories in Lancerto Free delivery and phrases',\n",
       " 'Trade footwear Nbskleppl New Balance shoes clothing and running accessories New Balance sports clothing and footwear In our offer you will find only original products at the best prices Nbskleppl New Balance shoes clothing and running accessories New Balance sports clothing and footwear In our offer you will find only original products at the best prices',\n",
       " 'Engaged in the retail sale of footwear Online Fashion Shopping Online Woman Man Child On the online store of Evolution Boutique you will find a wide selection of products from the best Italian and international brands Delivery in 2448h safe payments Free shipping above 150 Buy now IDI EVOLUTION',\n",
       " 'Engaged in the retail distribution of clothing footwear and accessories Berton Magazzini Clothing men and children Berton warehouses Berton Magazzini the best offers on the top brands mens clothing women and child LiuJo Colmar Peuterey Blauer Canadiens Air Force Diesel Gas Jeans Cape Horn and many others',\n",
       " 'Imports and trade of jewellery watches garments shoes accessories and costume jewellery Gofas Jewelry Shop Eshop Eshop',\n",
       " 'Engaged in the retail trade of clothing apparels Youth fashion for girls and boys Reporter These projects are for young people who are looking for a way to show their uniqueness A reporter is more than fashion its a space for young people so that they can confidently experiment with their own image',\n",
       " 'Engaged in the retail trade of a wide range of merchandise',\n",
       " 'Retail sale of watches and jewellery in specialised stores',\n",
       " 'Engaged in the retail of luxury fashion items 404 Page Not Found',\n",
       " 'Engaged in the retail of sportswear Nike sports shop Adidas Adrenalinepl Sports in the online store adrenalinepl Sports clothes and shoes Darget delivery in 24h 30 days for a refund Super prices SIe Nike showrooms adidas buty clothing accessories',\n",
       " 'Engaged in the operation and management of a shoe store',\n",
       " 'Retail sale of clothing in specialised stores NEW YORKER Dress for the moment Discover the latest fashion trends for women and men at New Yorker Clothing by Amisu Censored Fishbone Smog and Black Squad',\n",
       " 'Engaged in the retail sale of fashion clothing and accessories for women',\n",
       " 'Engaged in offering shoes of all styles for men and women Online sale of women and mens shoes exclusive brands and new features Official site and Hylton online store specialist in shoe city and basketball The solution to buy shoes from all styles men and women at the best price',\n",
       " 'Jewellery retailers Robert Gatward Jewellers Luxury Watches Bespoke Diamond Jewellery Familyowned independent jewellers specialising in luxury jewellery watches bespoke engagement rings and wedding rings Free delivery interest free finance Official Rolex Retailers',\n",
       " 'Engaged in the retail sale of branded apparel and footwear in specialised stores Home Global Brands Distribution',\n",
       " 'Engaged in the retail sale of footwear products Manzoni Clothing Belluno is under maintenance Manzoni Curtains Curtains and Outdoor Solutions Lecco Manzoni is the company specialized in curtains and outdoor solutions for Lecco and surroundings a point of reference for quality design and modularity',\n",
       " 'Engaged in the retail sale of clothing principally in France 403 Forbidden',\n",
       " 'Ladies gents and childrens outfitters together with the sale of household goods SDKells',\n",
       " 'Engaged in the retail trade of footwear and other related products Brand womens and mens shoes selling fashionable shoes in the Respect online store Sale of womens and mens shoes in the Respect online store A large selection of shoes in style color and season Free delivery Call 8 800 5555292',\n",
       " 'Operates as the exclusive fashion store of luxury brands with a wide selection of hautecouture clothings of international designers Luxury Fashion Boutique Luxury Online Shopping Luxury Brand Fashion Store Clothing and Accessories Shoulder Bags for Women Shop Online Discover our Luxury Brand Fashion Store More than 90 Luxury Clothing and Accessories Brands 100 Safe Purchase Fast Delivery',\n",
       " 'Engaged in the retail sale and marketing of gold and silver wares and related fashion accessories as well as in redesigning fashionable items DavidAndersen Your goldsmith see our selection and order today See our wide selection of self produced jewelry collections and a number of well known brands Welcome to good and inspiring experiences our experts',\n",
       " 'Engaged in the retail sale of clothing in specialised stores Rome Spada Mens Clothing and Accessories Spada Roma merges the tradition of Italian tailoring art with the latest contemporary mens fashion trends',\n",
       " 'Primarily engaged in the wholesale and retail sale of jewelry watches precious stones and precious metals High jewelry and watchmaking in Vigo Roberto Jeweler In Roberto Jeweler we offer our customers one of the widest catalogs of high jewelry and watchmaking products in Vigo Do not hesitate to contact us',\n",
       " 'Engaged in the retail trade of footwear and other related leather products Garibaldina footwear Your online shoe store Online shoe shop Man Woman Child Elegant Sports Comfortable trendy Free Shipping Visit the shop',\n",
       " 'Engaged in the retail distribution of footwear and related products Online shoe store Fashion Footwear at a good price Megacalzado Your online shoe store where you will find shoes ankle boots sandals sports Buy Womens online shoes for men boy and girl',\n",
       " 'Engaged in the sale of clothing and accessories Luxury Mens Luxury Fashion of the Best Brands Cumini Discover our mens luxury fashion selection woman of the best brands such as Prada Balenciaga Saint Laurent and much more',\n",
       " 'Sale of clothes footware and accessories',\n",
       " 'Trade of sportswear sports shoes and sports goods also sales via internet Winter Sale HeavenOfBrandscom all about sports Discover the largest collection of sportswear from the top brands on the market',\n",
       " 'Engaged in the marketing and sale of furniture and home furnishings',\n",
       " 'Imports and trade of mens wear shoes and accessories also via internet Real Estate lessors',\n",
       " 'Retail sale of clothing brands Glenfield FloJo Braccialini Error GLENFILDItalian brand of knitwearofficial online clothing store Buy clothing from the Italian knitwear Glenfield in an official online store View the full Glenfield catalog with prices and descriptions All goods are available delivery online order',\n",
       " 'Engaged in the retail distribution of clothing and accessories Extra preview Fashion project promotional clothing gadgets and accessories Since 1991 Since 1991 we have been the best answer to every promotional need We are the ideal partner to dress your brand we dress people objects spaces',\n",
       " 'Engaged in the retail sale of clothing Uniform With 100 Portuguese capital the Unifato Group holds several companies of activity sectors of activity being their Core Business unequivocally the retail of clothing',\n",
       " 'Engaged in the operation of jewelry and watch stores Tensen Jewelers Home Welcome to Tensen Juweliers Tensen Jewelers is your partner for luxurious watches and accessories We distribute Rolex Patek Philippe and more',\n",
       " 'Operates as a clothing store Loschi Boutique clothing bags shoes accessories shady boutiques Buy your favorite brand from Loschi Boutique Clothing shoes accessories womens bags and mens clothing from the best brands Gucci Dolce and Gabbana Versace Fendi Loschi Boutique clothing bags shoes accessories shady boutiques Buy your favorite brand from Loschi Boutique Clothing shoes accessories womens bags and mens clothing from the best brands Gucci Dolce and Gabbana Versace Fendi',\n",
       " 'Engaged in the retail sale of clothing in specialised stores',\n",
       " 'Engaged in the retail trade of clothing and related accessories Fashion for me Globus Mode Bozen Merano Brixen Bruneck Globus fashion Fashion for me In our 4 branches in Bolzano Merano Brixen and Bruneck you will find trendy fashion for you Whether young or young use our staff shopping service or are just looking forward to our unbeatable priceperformance ratio',\n",
       " 'Yhtion toimialana on kello ja kultasepanalan kauppa ja valmistustoiminta seka kaikki niihin liittyva toiminta Yhtio voi harjoittaa kaytettyjen tavaroiden osto myynti ja valitysliiketoimintaa Yhtio voi myos omistaa ja hallita kiinteistoja seka vuokrata niissa sijaitsevia huoneistoja ulkopuolisille Lisaksi yhtio voi kayda arvopaperikauppaa ja harjoittaa sijoitustoimintaa Yhtio voi antaa vakuuksia ja takauksia muiden yhtioiden ja henkiloiden veloista ja vastuista Diamond rings engagement rings wedding rings quality jewelry Thousands of products selection of rings jewelry watches smart watches and gift items 30day exchange and return policy Check out the online store',\n",
       " 'Bolaget ska driva handelsrorelse inom konfektion jamte annan darmed forenlig verksamhet Just a moment',\n",
       " 'Engaged in the retail trade of clothing apparels',\n",
       " 'Engaged in selling pantyhose and underwear',\n",
       " 'Engaged in the retail of clothing Specialist in Jean Levis Lee Wrangler Salsa Imajeansfr Discover on Imajeansfr in preview the last collections of jeans brands We offer you the best of fashion at very advantageous price shipping costs offered from 50 purchase and free return',\n",
       " 'Engaged in the wholesale and retail trade of apparel accessories and other textile products Mango Discover the latest trends in Mango fashion footwear and accessories Shop the best outfits for this season at our online store',\n",
       " 'Engaged in the operation and management of clothing stores Online store Orsay Online store with Rizn Shop',\n",
       " 'Engaged in the operation of a chain of family clothing stores MatiasfashionoutletcomResources and information concerning Matiasfashionoutlet Resources and Information Matiasfashionoutletcom brings together information and announcements We hope you will find the information you are looking for',\n",
       " 'Operates as a shoe store ROCAL Shop Online Fashion Shoes Bags and Accessories Online shop of the 3000 square meter store in Cesano Boscone MI Over 8000 models of womens shoes men and children Wide choice of bags and accessories',\n",
       " 'Engaged in the operation and management of clothing stores',\n",
       " 'Engaged in the retail distribution of a wide range of watches Ronchi jewelry Rolex and Tudor authorized dealer Milan Ronchi Jewels from Milan Rolex Milano authorized dealer since 1929 was the first official Rolex dealer in Italy Luxury jewelry and watchmaking',\n",
       " 'Engaged in the retail sale of clothing products and accessories in Portugal Stivali Womens Mens Fashion Designer Store E Frank and Manuel Casal launched Stivali over 30 years ago Visionaries created and implemented a concept of quality and excellence in service In an always innovative record Stivali was a pioneer in the new Shop movement bringing to its space 5 unavoidable brands Chanel Saint Laurent Valentino Chlo and Roger Vivier He also joined 2 Fendi and Moncler corners and many other premium brands such as Jacquemus Acne Studio The Attico Bottega Veneta Giuseppe Zanotti La Renta Oscar Dries Van Noten Gianvito Rossi Alexander McQueen Sacai and OffWhite',\n",
       " 'Engaged in the retail trade of clothing apparels MAN FASHION Autumnwinter Suits inc Quality and elegance of the latest fashion for man facts and casual collection Mens clothing with quality elegant and comfortable with an excellent ratio price ratio MAN FASHION Autumnwinter Suits inc Quality and elegance of the latest fashion for man facts and casual collection Mens clothing with quality elegant and comfortable with an excellent ratio price ratio',\n",
       " 'Engaged in the retail sale of family clothing',\n",
       " 'Engaged in the operation of jewelry stores Sanremo jewelery Abate 1920 The Abate 1920 jewelry is the reference point in Sanremo for the purchase of jewelry watches high end bracelets The staff is always available for advice on precious and advice for the purchase',\n",
       " 'Operates as a shoe store engaged in the retail distribution of shoes',\n",
       " 'Engaged in the retail sale of apparel Razzia sl Razzia sl',\n",
       " 'Operates as a clothing store Mens clothing suits tuxedos shirts pants ties Kubenzpl online store Kubenz online store suits tuxedos mens shirts shoes pants and ties for suit Polish brand of elegant mens clothing',\n",
       " 'Engaged in the wholesale and retail distribution of travel products in Portugal',\n",
       " 'Involved in the retail distribution of a range of jewelry and other related products and provision of engraving personalization and customization services as well as jewelry repair services Torelli Jewelers Cartier Bergamo authorized dealer Torelli jewelers Buy the Damiani jewels Pomellato Dodo Crivelli and the best brands of Cartier Omega Jlc Iwc and many others online Necklaces bracelets earrings rings pendants pendants charms Gifts for special moments',\n",
       " 'Engaged in the retail distribution of clothing and other related products Annunziata Store',\n",
       " 'Engaged in the sale of jewelries Cusi jeweler montenapoleone',\n",
       " 'Retail sale of footwear and leather goods in specialised stores NS King Shoe E Shop',\n",
       " 'Engaged in the retail sale of apparel accessories and other textile products Clothing shoes for outdoor sports and everyday Dockyard Clothing shoes for outdoor sports and everyday Dockyard',\n",
       " 'Engaged in the retail distribution of general merchandise FARFETCH The Global Destination For Modern Luxury From the worlds best designer fashion to emerging brands open doors to 100000 styles on FARFETCH Get express delivery free returns',\n",
       " 'Engaged in the retail sale of footwear and leather goods Prof shoes bags accessories and clothes of your favorite brands Prof Online Store Buy online with free delivery Sneakers shoes ankle boots boots Texans Also find your bag tshirts jackets sweatshirts casual clothes favorite caps and accessories Prof shoes bags accessories and clothes of your favorite brands Prof Online Store Buy online with free delivery Sneakers shoes ankle boots boots Texans Also find your bag tshirts jackets sweatshirts casual clothes favorite caps and accessories',\n",
       " 'Exclusive imports and trade of womens wear and accessories Pi line',\n",
       " 'Engaged in the retail distribution of jewellery Menichini Gioiellieri Rome Jewels and luxury watches Menichini Gioiellieri in Piazza di Spagna in Rome offers jewels and watches of prestigious unique brands and artisan creations',\n",
       " 'Engaged in the retail distribution of mens clothing and accessories Mens Fashion Teodor High quality mens clothes Teodor Online Mens Fashion Store Teodor Mens clothing at top prices Free delivery over 9999 BGN Learn more on our site or on 0700 69 001',\n",
       " 'Engaged in the retail trade of clothing apparels Moretto clothing Moretto Clothing is the point of reference in the territory for the clothing of the whole family In our store you can find over 250 brands woman man child underwear and home furnishings Some articles are also available in our online shop Moretto clothing Moretto Clothing is the point of reference in the territory for the clothing of the whole family In our store you can find over 250 brands woman man child underwear and home furnishings Some articles are also available in our online shop',\n",
       " 'Engaged in the retail sale and marketing of clothing and fashion apparel items MDL The fashion leader in the luxury lifestyle MDL is the largest trader on the Bulgarian market representing some of the most famous fashion brands worldwide',\n",
       " 'Engaged in the retail sale of jewelry watches precious stones and precious metals',\n",
       " 'Industrial company engaged in the operation and management of a chain of family clothing and accessories stores principally in Germany Bessmann your outlet',\n",
       " 'Engaged in the retail sale of mens and boys readytowear clothing and accessories Home Vendramini Clothing Vendramini Clothing in Castelfranco Veneto offers clothing for men and child men and linen for the home of the best brands Home Vendramini Clothing Vendramini Clothing in Castelfranco Veneto offers clothing for men and child men and linen for the home of the best brands',\n",
       " 'Bolaget skall bedriva handel med och konsultuppdrg i konfektionskor och textilier och darmed forenlig verksamhet Hosted By Onecom Webhosting made simple',\n",
       " 'Engaged in the retail of shoes Sport fashion and sneakers Sporty Online fashion store and sports shoes In Sportino you can find variety and quality of brands that stand out in fashion We sell Sportswear Streetwear Surfwear',\n",
       " 'Engaged in the retail trade of fashion accessories and related products Home Luisa',\n",
       " 'Engaged in the retail sale of jewelry watches precious stones and precious metals Rossini',\n",
       " 'Engaged in the retail trade of footwear and other related products HOME Roma Transport Services Home Germaine Collard Specialist shoes clothes Germaine Collard offers unique pieces Free delivery free feedback satisfied or refunded',\n",
       " 'Retail trade of footwear Ns king a shoe online store',\n",
       " 'Bolaget ska driva skohandelsrorelse jamte darmed forenligverksamhet Winter Johanssons shoes The spring shoes for the whole family can be found at Johanssons shoes Shop shoes from New Balance Skechers Vagabond Rieker Tamaris Kavat Puma and others Winter Johanssons shoes The spring shoes for the whole family can be found at Johanssons shoes Shop shoes from New Balance Skechers Vagabond Rieker Tamaris Kavat Puma and others',\n",
       " 'Engaged in the retail sale of jewelry watches precious stones and precious metals Matranga from 1896 Jewels for Passione Riv aut Rolex Synonym for tradition and guarantee Rolex authorized dealers since 1921 Sale of jewelry new used and vintage watches according to wrist Rolex Daytona',\n",
       " 'Engaged in the manufacture and retail distribution of jewelry Rolex Bologna and Cortina jewelery goldsmiths diamond rings Giulio Veronesi For over a century Giulio Veronesi has been playing the sense of precious perfection and good taste Discover our Rolex jewels and watches in Bologna and Cortina',\n",
       " 'Engaged in the retail distribution of jewellery Home F Veronesi Figli Figli Ferdinando Veronesi Figli Srl is a jewelry of Bologna has been active for over 125 years Rolex dealer Patek Philippe Tudor Home F Veronesi Figli Figli Ferdinando Veronesi Figli Srl is a jewelry of Bologna has been active for over 125 years Rolex dealer Patek Philippe Tudor',\n",
       " 'Engaged in the retail of high quality fashionable footwear for men women and kids The best of shoes bags and accessories for women men and junors for sale online Gulliver fashion Discover all the top brands of shoes bags and accessories for women men and junior at top prices on Gulliver fashion Fast and safe shipments throughout Italy',\n",
       " 'Engaged in the management and operation of jewelry stores High level watchmaking The jewelry and watchmaking casket Ostuni The best artisan jewelry and goldsmith shops have an important space in our show room On sale the best pieces of watchmaking of the highest level with all the best brands worldwide Possibility to look for unique and collectible pieces in our catalog Gastronomy The casket of gourmets srl Our company is first of all a family Dad Mario has always dealt with all aspects of the Kitchen and customer service transmitting his profound passion to his daughters Sabrina and Manuela Passion that makes gastronomy the treasure chest of gourmet the result of wise experience e great professionalism cultivated over the years in the food sector Since November 2010 our company has Open a store in Grezzana A new gastronomic space near the city dedicated to the meeting and the welcome of our customers A showcase in the square where we make our passion available every day to meet your culinary needs from appetizer to dessert both in preparation from takeaway both in the organization of events',\n",
       " 'Engaged in the retail trade and marketing of shoes and footwear products as well as leather items Deliberti The Luxury Shopping The exclusive collections of clothing bags shoes and accessories of the most renowned designers Deliberti The Luxury Shopping The exclusive collections of clothing bags shoes and accessories of the most renowned designers',\n",
       " 'Operates as a clothing store engaged in the retail distribution of a general line of new clothing for men women and children WEHBE Dress your life',\n",
       " 'Engaged in the retail distribution of knitted and crocheted apparel for men women and children',\n",
       " 'Engaged in the retail sale of apparel products Buy legal anabolic steroids online price in Italy Cheap anabolic steroids for sale online order safely buy with credit card great price in Italy Germany Spain',\n",
       " 'Operates as a clothing store engaged in the retail distribution of a general line of new clothing and a range of accessories for men women and children',\n",
       " 'Engaged in the retail distribution of knitted and crocheted apparel Fashion clothing and linen Dicricciola pi Eat warehouses At the Mangini warehouses you will find the best collection of signed clothes in the province of Pisa Come to the shop to discover the whole assortment for men and women',\n",
       " 'Engaged in the retail distribution of knitted and crocheted apparel',\n",
       " 'Engaged in the retail distribution of watches and jewelry Ravenna jewelry Errani An elegant jewelry since 1991 where you can find creations of the best invoice and the most prestigious brands Rolex authorized dealer Best Vinyl Signs Omaha NE Graphics Banners More Near Me Complete vinyl signs graphics manufacturers creating attractive vinyl clings films and decals for any surface or use wall murals vinyl lettering banners more FullService Omaha Sign Company',\n",
       " 'Engaged in the sale of motorcycle and motorcycle parts and supplies',\n",
       " 'Engaged in the retail sale and marketing of footwear and clothing Verona Shoes Shop Large and small numbers bride groom Gonzato Gonzato Footwear and Sportswear the largest footwear and sports clothing shop in your city Unlimited assortment of the best brands Verona Shoes Shop Large and small numbers bride groom Gonzato Gonzato Footwear and Sportswear the largest footwear and sports clothing shop in your city Unlimited assortment of the best brands',\n",
       " 'Engaged in the retail sale of clothing products',\n",
       " 'Bolaget skall bedriva detaljhandel med adelmetaller och darmedforenlig verksamhet Jewelery Jewels Quality Watches E commerce store Jarl Sandin Shop jewelry jewels and quality clocks to tie and love Long giving brand own jewelry design and promise marriage',\n",
       " 'Engaged in the retail distribution of readymade clothing Clothes shoes and accessories online Miniprix If you like it its perfect Clothes shoes and accessories for women men and children New discounts and products every day',\n",
       " 'Engaged in the retail sale of footwear Home Stara Footwear Store In Stara stores you can find all segments of shoes for man lady and child as well as travel sport and Moroccoria Home Stara Footwear Store In Stara stores you can find all segments of shoes for man lady and child as well as travel sport and Moroccoria',\n",
       " 'Engaged in the retail of clothing products and accessories',\n",
       " 'Engaged in the sale of jewelry or precious stones Menichelli1912 Menichelli Menichelli1912 jewelry a century of experience in the world of jewelry watches and precious stones Discover them all in the boutique in Viterbo',\n",
       " 'Engaged in the retail sale of clothing in specialised stores Web ESpace your personal shopper in the city Web ESpace your personal shopper in the city',\n",
       " 'Engaged in the retail sale of clothing in specialized stores Lingerie and Underwear for All Women Wunderweardk Lingerie underwear swimwear nightwear and socks Large selection of quality brands and good fit for women with small or large bosom Underwear Store',\n",
       " 'Retail sale of jewelry watches precious stones and precious metals The home page Sheron',\n",
       " 'Engaged in the retail distribution of a range of jewelry and other related products and provision of engraving personalization and customization services as well as jewelry repair services Scopagioielli Home Historical jewelry with locations in Ferrara Rovigo and Treviso Scopagioielli Home Historical jewelry with locations in Ferrara Rovigo and Treviso',\n",
       " 'Engaged in the retail sale of apparel Xetra For more than 30 years we have accompanied women in their everyday adventures',\n",
       " 'Engaged in the retail sale of footwear Foodstar Discover stylish and comfortable shoes sneakers and snickers at matstarbg Our wide range includes modern and quality models at affordable prices suitable for any vision and occasion With traditions of 1972 Matstar offers the perfect combination of comfort and fashion for each season',\n",
       " 'Engaged in the operation and management of a family clothing store Galante Montagnana Maintenance',\n",
       " 'Retail sale of footwear and leather goods in specialised stores',\n",
       " 'Engaged in the retail sale of clothing and accessories in Spain OTTODISANPIETRO Luxury Fashion Designer Clothes OTTODISANPIETRO Luxury Fashion Designer Clothes Shop a curated selection of the worlds leading fashion luxury brands for men and women such as Gucci Prada Saint Laurent The Row Loewe Valentino Jacquemus and Miu Miu among others A reference in luxury retail with a global outlook and exclusive tailored customer service',\n",
       " 'Subject is involved in retail trade of outerwear cassava cassava',\n",
       " 'Primarily engaged in the retail sale of jewelry watches precious stones and precious metals',\n",
       " 'Retail sale of clothing in specialised stores Movem Fashion Shop Official Franchise Partner Hugo Boss AgPremium brands for men and women in one place Hugo Boss Canali Corneliani Tumi Peutery Eleventy Incotex Fedeli',\n",
       " 'Engaged in the operation and management of clothing stores Scaringi',\n",
       " 'Engaged in the retail of clothing products and accessories specialising in fur products eaxo blogall about compulsory auto insurance Useful articles and news about OSAGO reviews about insurance companies We can check and restore the KMB calculate the price of OSAGO online',\n",
       " 'Engaged in the manufacture and sale of watches Askeland In the middle of the center of Stavanger is the citys preferred watchmaker since 1904 We specialize in watches jewelry long experience and good service On the first floor you will find a large selection of watches and jewelry while on the second floor you will find our Rolex department corporate department and Askeland Rolex Service Center with four dedicated watchmakers with long time',\n",
       " 'Engaged in the operation of a chain of shoe stores Involved in the retail trade of footwear for men women and children',\n",
       " 'Yhtion toimialana on nahkaalan tuotteiden ja tarvikkeiden laukkujen ja kenkien seka pukeutumisen vahittais ja tukkukauppa seka maahantuonti Yhtio voi omistaa arvopapereita osakkeita ja kiinteistoja seka kayda niilla kauppaa Home Leather Place Tuuri Shoe Shop Shoes bags jackets clothes gloves and wallets Nahkapaika Oy is Finlands largest shoe store at the heart of Tuuri Kauppakyl Shoes bags jackets clothes gloves wallets backpacks and suitcases',\n",
       " 'Engaged in the retail sale of apparel accessories and other textile products Online brand clothes Seasonal clothes and outlet Mosfashion Fashion for men and women shoes and accessories Visit our outlet with discounts of up to 70 Free shipping',\n",
       " 'Subject is involved in wholesale and retail trade of home textile and haberdashery products such as wool yarn duvet cover sets blankets sleeping sets quilts pillow socks underwear bathrobes pyjamas buttons etc Akcan A HIEFYEEVERDSTYN',\n",
       " 'Engaged in the operation and management of shoe stores Giglio Luxury Discover all our signed collections Only the best of online fashion for men and women Live assistance and safe payments on Giglio Luxury',\n",
       " 'Engaged in the retail distribution of footwear products and accessories Rovato shoes point',\n",
       " 'Engaged in the buying selling and distribution of all kinds of jewelry and watches Swiss Union jewelry Distributors of the most prestigious brands of Harm and Jewelry We also create own production jewels Stores in Barcelona and Madrid',\n",
       " 'Industrial company engaged in the operation and management of a chain of family clothing and accessories stores principally in Italy Online clothing store Ramonda sisters Sisters Ramonda online clothing store with the largest existing catalog over 1900 brands and garments of the best designers discounts of up to 50',\n",
       " 'Engaged in the retail sale of footwear and leather goods',\n",
       " 'Bolaget skall bedriva herr och damkonfektionsrorelse jamtedarmed forenlig verksamhet Michael Sandstrm Art fine carpentry craftsmen Mri Intarsia Art Woodwork Paintings',\n",
       " 'Engaged in the retail distribution of a range of jewelry and other related products and provision of engraving personalization and customization services as well as jewelry repair services EUR Factors Watchmaking and jewelry in Rome Fattori Eur is a great watchmaking and jewelry reality in Rome With our ecommerce you can use our experience',\n",
       " 'Engaged in the retail sale of a range of clothing and footwear products talamoninet',\n",
       " 'Engaged in the retail of all types of footwear accessories and leather goods Can Womens shoes and clothing men and children online Buy on Bidon Fashion 1938 For over 80 years we have been offering the largest and most accurate selection of shoes clothing and accessories for women men and children beyond your desires',\n",
       " 'Operates as other miscellaneous store retailer',\n",
       " 'Engaged in the wholesale and retail distribution of a general line of new clothing for men women and children Tank Fashion Clothing and Fashion Women Tank Fashion Discover the new 2025 womens collections and promotions on Tank Fashion Buy your favorite model of the Spring Summer collection online',\n",
       " 'Engaged in retail trade of articles of knitwear for men and women and household linen Tebro Linen from 1867 Tebro Linen from 1867',\n",
       " 'Bolaget skall bedriva forsaljning av klader vaskor och stovlaravensom idka darmed forenlig verksamhet 403 Forbidden',\n",
       " 'Engaged in the operation of a chain of family clothing stores Porcellotti Moda Terranuova Bracciolini Bibbiena and Arezzo Porcellotti Moda in Terranuova Bracciolini Bibbiena and Arezzo is casual and elegant clothing for men women and children Discover the new promotions',\n",
       " 'Operates as a clothing and apparel store',\n",
       " 'Yhtion toimialana on tekstiili ja nahkatuotteiden kosmetiikan ja jalkineiden seka lahja ja sisutustavaroiden tukku ja vahittaiskauppa tuonti ja vienti alan kauppapalvelut kahvilatoiminta seka kiinteistojen asunto ja liikehuoneistojen seka toimialaan liittyvan irtaimen omaisuuden seka erilaisen kuljetuskaluston kauppa ja vuokraustoiminta seka arvopaperikauppa Fashion Store Ratsula Serving clothing store Pori Unique fashion store in the middle of Pori Ratsula is a serving clothing store already in the fourth generation and on four floors Poris widest selection of clothes shoes bags and other accessories',\n",
       " 'Engaged in the retail sale of footwear and leather goods Lifestyle Shoes Bags Online and in SintNiklaas Are you looking for shoes clothing or a handbag Casual stylish and comfortable Shop online or enjoy the friendly personal service in our store',\n",
       " 'Engaged in the retail trade of shoes clothes and jewelry',\n",
       " 'Engaged in the operation and management of clothing stores Charte Clothing Italy Charte is a fresh and dynamic womens clothing brand Discover our exclusive selection Buy now Safe payment Styles casual elegant sporty',\n",
       " 'Engaged in the retail distribution of a general line of new clothing for men women and children',\n",
       " 'Engaged in the retail distribution of mens and womens clothing and furnishings Furla Online store and official site bags wallets and accessories Discover the Furla collections bags wallets and accessories Go to the online store to benefit from exclusive offers and free feedback',\n",
       " 'Operates as a clothing store engaged in the retail distribution of a general line of new clothing for men women and children',\n",
       " 'Engaged in the retail sale of clothing products in Spain',\n",
       " 'Engaged in the management and operation of family clothing stores Create make and market skin articles CDP Casa das Peles Casa das Peles creates makes and markets skin articles with a raw material of excellence',\n",
       " 'Yhtion toimialana on kello ja kultaalaan kuuluvien tuotteiden tukku ja vahittaiskauppa seka alan huolto ja korjaustoiminta Edelleen yhtion toimialana on koti ja ulkomaisten kiinteistojen asunto kiinteisto loma ja arvopaperiosakkeiden osuuksien ja oikeuksien omistaminen hallinnointi osto myynti ja vuokraus Diamond watches and jewelry online Timanttisetfi Welcome to the Diamonds online store Join free of charge as a diamond gold customer get a 20 discount on your next e commerce purchase Kalevala buy Kalevala jewelry from the official online store You can find the widest selection of Kalevala jewelry in the official online store of Kalevala jewelry Fast delivery directly from the factory order now',\n",
       " 'Engaged in the retail sale of specialized lines of apparel and accessories DMAG Designer Fashion Outlet DMAG Designer Fashion Outlet',\n",
       " 'Engaged in the operation of department stores Gioelleria Nitta Nitta Gioelleria Nitta Nitta',\n",
       " 'Engaged in the retail trade of colored gemstones and studded jewelry Luxury online jewelry Fecarotta jewelry Fecarotta Gioielli is an official retailer of renowned brands such as Bvlgari Gucci and many others Sign up and receive welcome coupons with discount code Luxury online jewelry Fecarotta jewelry Fecarotta Gioielli is an official retailer of renowned brands such as Bvlgari Gucci and many others Sign up and receive welcome coupons with discount code',\n",
       " 'Engaged in the retail of clothing and accessories and other related products Minin Clothing Minin always fashionable clothing Clothing store in the province of Udine you will find womens clothing men child home furnishings intimate ward and tailoring service',\n",
       " 'Engaged in the management and operation of clothing stores Bizweek The multimedia list of activities Bizweek is the multimedia list The complete list of online activities',\n",
       " 'Engaged in the management and operation of shoe stores',\n",
       " 'Yhtion toimialana on vaatteiden ja tekstiilien vahittaiskauppa Yhtio voi myos ostaa myyda vuokrata ja hallita kiinteistoja ja osakehuoneistoja seka harjoittaa arvopaperikauppaa Clothes online from Finnish clothing store online clothing store open Clothes online and three clothing stores Easily order clothes from a Finnish fashion online store Free deliveries in Finland',\n",
       " 'Operates as a family clothing store Ftima Mendes Site Description',\n",
       " 'Engaged in the retail trade of garments for adults in Italy Womens clothing man child and sport of the best brands Bravi Conegliano Buy online clothing man child and sport of the best brands Discover our store in Conegliano Treviso Womens clothing man child and sport of the best brands Bravi Conegliano Buy online clothing man child and sport of the best brands Discover our store in Conegliano Treviso',\n",
       " 'Engaged in the retail trade of clothing apparels 403 Forbidden',\n",
       " 'Engaged in the retail sale of footwear products Mazzucchelli footwear All the shoes you have in mind there are',\n",
       " 'Engaged in the retail sale of Jack Wolfskin clothing and footwear Outdoor clothing shoes and equipment Jack Wolfskin Discover Jack Wolfskin outdoor clothing equipment shoes Top quality Buy online directly from the manufacturer Jack Wolfskin outdoor clothing equipment shoes',\n",
       " 'Retail trade of personal linen knitwear and hosiery Four Seasons Clothing Four seasons clothing and underwear shops for the whole family',\n",
       " 'Engaged in the wholesale and retail distribution of footwear for all ages Online shoe store Fashion Footwear at a good price Megacalzado Your online shoe store where you will find shoes ankle boots sandals sports Buy Womens online shoes for men boy and girl',\n",
       " 'Engaged in the operation of a chain of shoe stores Involved in the retail trade of footwear for men women and children',\n",
       " 'Yhtion toimialana on tekstiili ja vaatetavaroiden jalkineiden elektroniikka lahja urheilu ja tavaratalotuotteiden valmistus vahittais ja tukkukauppa seka tuonti ja vientiagentuurien hoitaminen arvopapereiden kiinteistojen taideesineiden ostaminen omistaminen myyminen ja valittaminen seka yritysten autojen ja tyokoneiden ja niihin kuuluvien laitteiden osto saneeraus omistaminen myynti ja vuokraus seka muu laillinen liiketoiminta Osmotex Oy Reliable Trade since 1955 Osmotex Oy Reliable Trade since 1955',\n",
       " 'Engaged in the retail distribution of footwear Paolobotticelli Ladies Shoes Mens Shoes Kids Shoes Bags Paolobotticelli Shoes Paolo Botticelli Online Shoe Shop Ladies Shoes Mens Shoes Bags Attractive models and big discounts',\n",
       " 'Engaged in the retail sale of jewelry watches precious stones and precious metals Since 1880 to create unique jewelry Machado Joalheiro in Porto and Lisbon We represent the most prestigious international brands of watchmaking and jewelery Visit our website',\n",
       " 'Engaged in the sale of apparel for men and women Modas Boutique The fashion living room in the center of Asolo The boutique of the large fashion brands in Asolo Treviso where you will find an accurate selection of clothing bags costume jewelery and accessories',\n",
       " 'Engaged in the retail distribution of a wide range of clothing for women FASHION FLOWER LADY CLOTHING The fashion flower is dedicated to the development and confection of female clothing 404',\n",
       " 'buying and goodsperformance of commercial mediation in domestic and international market purchases and sales of goodsBrandsCortiDominiciHumanicJelloShoe 4 youThe commercial activity started in 2009',\n",
       " 'Engaged in the retail trade of grocery products School map of the Axioma PC School card accounting for food accounting for attendance accounting for additional services payment methods ABCA school food payment of school meals Life class Classlife Schoolsoplataru Schooloplataru PC Axiom',\n",
       " 'Operates as a clothing store Museum Sportwear and Outwear Abigiliament For over four decades Museum is synonymous with curiosity functionality and open air exploration Italian Rugby Style Italian Rugby Style',\n",
       " 'Engaged in the operation of a chain of family clothing stores',\n",
       " 'Engaged in the retail distribution of readymade clothing RESSKIO clothing clothes jackets and fashion accessories women and men Discover our collections of clothing clothes jackets and accessories for women and men Buy the new Riscskio collection online',\n",
       " 'Engaged in the retail trade of sporting goods and equipment Marmon Sports clothing store shoes sport accessories and lifestyle Our shop offers the latest news from major brands of clothing shoes and sportswear accessories football and US sports for the whole family',\n",
       " 'Engaged in the retail trade of wearing apparel and accessories Elector Fashion home design and fragrances Ettatore is a concept store that combines a clothing offer home objects and design furniture',\n",
       " 'Operates as a retailer of miscellaneous shopping goods So jewelry selection of creators jewelry and high end accessories Cluse Gas Jewelry Morganne Bello Doriane Lip Lsonge Many jewelry designers Cluse Mya Bay Gas Doriane Morganne Bello Lsonge Lip and many others',\n",
       " 'Engaged in the manufacture and retail sale of clothing products in Italy Tezuk Tezuk beachwear Shop online Tezuk offers a complete series of womens and mens beachwear models that can be purchased online Womens costumes include band bra padded bras Brazilian briefs and many other models for sea fashion In addition to Tezuk costumes it is also accessories with bags and shoes and much more Home',\n",
       " 'Primarily engaged in the retail sale of footwear products Cral Region Sardinia Events Initiatives Conventions Association deals with recreational cultural welfare artistic and tourist activities that contribute to giving a finalistic content to the use of free time of workers Proposing initiatives events and conventions']"
      ]
     },
     "execution_count": 20,
     "metadata": {},
     "output_type": "execute_result"
    }
   ],
   "source": [
    "documents = df[\"cleaned_description\"].to_list()\n",
    "documents"
   ]
  },
  {
   "cell_type": "code",
   "execution_count": 21,
   "metadata": {},
   "outputs": [
    {
     "name": "stderr",
     "output_type": "stream",
     "text": [
      "c:\\Users\\dorab\\OneDrive - Ecole Polytechnique\\Documents\\DSB - HECxX\\Year 2\\Data and AI Regulation\\Data_regulation_project\\.env\\Lib\\site-packages\\tqdm\\auto.py:21: TqdmWarning: IProgress not found. Please update jupyter and ipywidgets. See https://ipywidgets.readthedocs.io/en/stable/user_install.html\n",
      "  from .autonotebook import tqdm as notebook_tqdm\n"
     ]
    }
   ],
   "source": [
    "from sentence_transformers import SentenceTransformer\n",
    "\n",
    "embedding_model = SentenceTransformer(\"BAAI/bge-m3\")"
   ]
  },
  {
   "cell_type": "code",
   "execution_count": 22,
   "metadata": {},
   "outputs": [],
   "source": [
    "embeddings = embedding_model.encode(documents)"
   ]
  },
  {
   "cell_type": "code",
   "execution_count": 24,
   "metadata": {},
   "outputs": [],
   "source": [
    "from umap import UMAP\n",
    "\n",
    "umap_model = UMAP(\n",
    "    n_neighbors=15, n_components=5, min_dist=0.0, metric=\"cosine\", random_state=42\n",
    ")"
   ]
  },
  {
   "cell_type": "code",
   "execution_count": 25,
   "metadata": {},
   "outputs": [],
   "source": [
    "from hdbscan import HDBSCAN\n",
    "\n",
    "hdbscan_model = HDBSCAN(\n",
    "    min_cluster_size=5,\n",
    "    metric=\"euclidean\",\n",
    "    cluster_selection_method=\"eom\",\n",
    "    prediction_data=True,\n",
    ")"
   ]
  },
  {
   "cell_type": "code",
   "execution_count": 26,
   "metadata": {},
   "outputs": [],
   "source": [
    "from sklearn.feature_extraction.text import CountVectorizer\n",
    "\n",
    "vectorizer_model = CountVectorizer(stop_words=\"english\", min_df=2, ngram_range=(1, 2))"
   ]
  },
  {
   "cell_type": "code",
   "execution_count": 37,
   "metadata": {},
   "outputs": [],
   "source": [
    "from bertopic.representation import (\n",
    "    KeyBERTInspired,\n",
    "    MaximalMarginalRelevance,\n",
    "    OpenAI,\n",
    "    PartOfSpeech,\n",
    ")\n",
    "\n",
    "# KeyBERT\n",
    "keybert_model = KeyBERTInspired()\n",
    "\n",
    "# Part-of-Speech\n",
    "# pos_model = PartOfSpeech(\"en_core_web_sm\")\n",
    "\n",
    "# MMR\n",
    "mmr_model = MaximalMarginalRelevance(diversity=0.3)\n",
    "\n",
    "# GPT-3.5\n",
    "# prompt = \"\"\"\n",
    "# I have a topic that contains the following documents:\n",
    "# [DOCUMENTS]\n",
    "# The topic is described by the following keywords: [KEYWORDS]\n",
    "\n",
    "# Based on the information above, extract a short but highly descriptive topic label of at most 5 words. Make sure it is in the following format:\n",
    "# topic: <topic label>\n",
    "# \"\"\"\n",
    "# client = openai.OpenAI(api_key=os.getenv(\"THEO_API_KEY\"))\n",
    "# openai_model = OpenAI(\n",
    "#     client,\n",
    "#     model=\"gpt-3.5-turbo-0125\",\n",
    "#     exponential_backoff=True,\n",
    "#     chat=True,\n",
    "#     prompt=prompt,\n",
    "# )\n",
    "\n",
    "\n",
    "# All representation models\n",
    "representation_model = {\n",
    "    \"KeyBERT\": keybert_model,\n",
    "    # \"OpenAI\": openai_model,\n",
    "    \"MMR\": mmr_model,\n",
    "    # \"POS\": pos_model,\n",
    "}"
   ]
  },
  {
   "cell_type": "code",
   "execution_count": 38,
   "metadata": {},
   "outputs": [],
   "source": [
    "from bertopic import BERTopic\n",
    "\n",
    "topic_model = BERTopic(\n",
    "    # Pipeline models\n",
    "    embedding_model=embedding_model,\n",
    "    umap_model=umap_model,\n",
    "    hdbscan_model=hdbscan_model,\n",
    "    vectorizer_model=vectorizer_model,\n",
    "    representation_model=representation_model,\n",
    "    # Hyperparameters\n",
    "    top_n_words=10,\n",
    "    verbose=True,\n",
    "    n_gram_range=(1, 2),\n",
    "    min_topic_size=15,\n",
    ")"
   ]
  },
  {
   "cell_type": "code",
   "execution_count": 39,
   "metadata": {},
   "outputs": [
    {
     "name": "stderr",
     "output_type": "stream",
     "text": [
      "2025-02-18 12:35:40,210 - BERTopic - Dimensionality - Fitting the dimensionality reduction algorithm\n",
      "2025-02-18 12:35:57,895 - BERTopic - Dimensionality - Completed ✓\n",
      "2025-02-18 12:35:57,895 - BERTopic - Cluster - Start clustering the reduced embeddings\n",
      "2025-02-18 12:35:57,920 - BERTopic - Cluster - Completed ✓\n",
      "2025-02-18 12:35:57,920 - BERTopic - Representation - Extracting topics from clusters using representation models.\n",
      "2025-02-18 12:37:03,646 - BERTopic - Representation - Completed ✓\n"
     ]
    }
   ],
   "source": [
    "topics, probs = topic_model.fit_transform(documents, embeddings)"
   ]
  },
  {
   "cell_type": "code",
   "execution_count": 42,
   "metadata": {},
   "outputs": [
    {
     "data": {
      "text/html": [
       "<div>\n",
       "<style scoped>\n",
       "    .dataframe tbody tr th:only-of-type {\n",
       "        vertical-align: middle;\n",
       "    }\n",
       "\n",
       "    .dataframe tbody tr th {\n",
       "        vertical-align: top;\n",
       "    }\n",
       "\n",
       "    .dataframe thead th {\n",
       "        text-align: right;\n",
       "    }\n",
       "</style>\n",
       "<table border=\"1\" class=\"dataframe\">\n",
       "  <thead>\n",
       "    <tr style=\"text-align: right;\">\n",
       "      <th></th>\n",
       "      <th>Topic</th>\n",
       "      <th>Count</th>\n",
       "      <th>Name</th>\n",
       "      <th>Representation</th>\n",
       "      <th>KeyBERT</th>\n",
       "      <th>MMR</th>\n",
       "      <th>Representative_Docs</th>\n",
       "    </tr>\n",
       "  </thead>\n",
       "  <tbody>\n",
       "    <tr>\n",
       "      <th>0</th>\n",
       "      <td>-1</td>\n",
       "      <td>20</td>\n",
       "      <td>-1_retail_engaged_linen_trade</td>\n",
       "      <td>[retail, engaged, linen, trade, crystal, 403, ...</td>\n",
       "      <td>[clothing stores, trade garments, jewelry stor...</td>\n",
       "      <td>[linen, crystal, 403 forbidden, jewelry, engag...</td>\n",
       "      <td>[Engaged in the retail distribution of jewelle...</td>\n",
       "    </tr>\n",
       "    <tr>\n",
       "      <th>1</th>\n",
       "      <td>0</td>\n",
       "      <td>102</td>\n",
       "      <td>0_clothing_shoes_fashion_online</td>\n",
       "      <td>[clothing, shoes, fashion, online, accessories...</td>\n",
       "      <td>[clothing shoes, sale footwear, shoe store, cl...</td>\n",
       "      <td>[fashion, footwear, brands, engaged retail, re...</td>\n",
       "      <td>[Engaged in the retail of shoes Sport fashion ...</td>\n",
       "    </tr>\n",
       "    <tr>\n",
       "      <th>2</th>\n",
       "      <td>1</td>\n",
       "      <td>42</td>\n",
       "      <td>1_retail_engaged retail_engaged_sale</td>\n",
       "      <td>[retail, engaged retail, engaged, sale, retail...</td>\n",
       "      <td>[engaged selling, sale clothing, sale footwear...</td>\n",
       "      <td>[engaged retail, retail sale, retail trade, ac...</td>\n",
       "      <td>[Engaged in the retail sale of apparel Razzia ...</td>\n",
       "    </tr>\n",
       "    <tr>\n",
       "      <th>3</th>\n",
       "      <td>2</td>\n",
       "      <td>38</td>\n",
       "      <td>2_jewelry_watches_watchmaking_jewelry watches</td>\n",
       "      <td>[jewelry, watches, watchmaking, jewelry watche...</td>\n",
       "      <td>[sale jewelry, watches jewelry, jewelry watchm...</td>\n",
       "      <td>[jewelry watches, sale jewelry, jewelery, bran...</td>\n",
       "      <td>[Engaged in the retail sale of jewelry watches...</td>\n",
       "    </tr>\n",
       "    <tr>\n",
       "      <th>4</th>\n",
       "      <td>3</td>\n",
       "      <td>14</td>\n",
       "      <td>3_store_bolaget_online_clothes</td>\n",
       "      <td>[store, bolaget, online, clothes, online store...</td>\n",
       "      <td>[clothing store, jewelry, shop, store online, ...</td>\n",
       "      <td>[bolaget, online store, jewelry, darmed, shoes...</td>\n",
       "      <td>[Yhtion toimialana on tekstiili ja nahkatuotte...</td>\n",
       "    </tr>\n",
       "    <tr>\n",
       "      <th>5</th>\n",
       "      <td>4</td>\n",
       "      <td>14</td>\n",
       "      <td>4_operation_engaged operation_management_opera...</td>\n",
       "      <td>[operation, engaged operation, management, ope...</td>\n",
       "      <td>[clothing stores, clothing store, stores engag...</td>\n",
       "      <td>[engaged operation, operation management, mana...</td>\n",
       "      <td>[Engaged in the operation and management of cl...</td>\n",
       "    </tr>\n",
       "    <tr>\n",
       "      <th>6</th>\n",
       "      <td>5</td>\n",
       "      <td>10</td>\n",
       "      <td>5_operates_store engaged_line new_general line</td>\n",
       "      <td>[operates, store engaged, line new, general li...</td>\n",
       "      <td>[operates clothing, clothing store, new clothi...</td>\n",
       "      <td>[operates, general line, new clothing, operate...</td>\n",
       "      <td>[Operates as a clothing store engaged in the r...</td>\n",
       "    </tr>\n",
       "    <tr>\n",
       "      <th>7</th>\n",
       "      <td>6</td>\n",
       "      <td>9</td>\n",
       "      <td>6_chain shoe_stores involved_chain_involved re...</td>\n",
       "      <td>[chain shoe, stores involved, chain, involved ...</td>\n",
       "      <td>[involved retail, trade footwear, shoe stores,...</td>\n",
       "      <td>[chain shoe, stores involved, involved retail,...</td>\n",
       "      <td>[Engaged in the operation of a chain of shoe s...</td>\n",
       "    </tr>\n",
       "  </tbody>\n",
       "</table>\n",
       "</div>"
      ],
      "text/plain": [
       "   Topic  Count                                               Name  \\\n",
       "0     -1     20                      -1_retail_engaged_linen_trade   \n",
       "1      0    102                    0_clothing_shoes_fashion_online   \n",
       "2      1     42               1_retail_engaged retail_engaged_sale   \n",
       "3      2     38      2_jewelry_watches_watchmaking_jewelry watches   \n",
       "4      3     14                     3_store_bolaget_online_clothes   \n",
       "5      4     14  4_operation_engaged operation_management_opera...   \n",
       "6      5     10     5_operates_store engaged_line new_general line   \n",
       "7      6      9  6_chain shoe_stores involved_chain_involved re...   \n",
       "\n",
       "                                      Representation  \\\n",
       "0  [retail, engaged, linen, trade, crystal, 403, ...   \n",
       "1  [clothing, shoes, fashion, online, accessories...   \n",
       "2  [retail, engaged retail, engaged, sale, retail...   \n",
       "3  [jewelry, watches, watchmaking, jewelry watche...   \n",
       "4  [store, bolaget, online, clothes, online store...   \n",
       "5  [operation, engaged operation, management, ope...   \n",
       "6  [operates, store engaged, line new, general li...   \n",
       "7  [chain shoe, stores involved, chain, involved ...   \n",
       "\n",
       "                                             KeyBERT  \\\n",
       "0  [clothing stores, trade garments, jewelry stor...   \n",
       "1  [clothing shoes, sale footwear, shoe store, cl...   \n",
       "2  [engaged selling, sale clothing, sale footwear...   \n",
       "3  [sale jewelry, watches jewelry, jewelry watchm...   \n",
       "4  [clothing store, jewelry, shop, store online, ...   \n",
       "5  [clothing stores, clothing store, stores engag...   \n",
       "6  [operates clothing, clothing store, new clothi...   \n",
       "7  [involved retail, trade footwear, shoe stores,...   \n",
       "\n",
       "                                                 MMR  \\\n",
       "0  [linen, crystal, 403 forbidden, jewelry, engag...   \n",
       "1  [fashion, footwear, brands, engaged retail, re...   \n",
       "2  [engaged retail, retail sale, retail trade, ac...   \n",
       "3  [jewelry watches, sale jewelry, jewelery, bran...   \n",
       "4  [bolaget, online store, jewelry, darmed, shoes...   \n",
       "5  [engaged operation, operation management, mana...   \n",
       "6  [operates, general line, new clothing, operate...   \n",
       "7  [chain shoe, stores involved, involved retail,...   \n",
       "\n",
       "                                 Representative_Docs  \n",
       "0  [Engaged in the retail distribution of jewelle...  \n",
       "1  [Engaged in the retail of shoes Sport fashion ...  \n",
       "2  [Engaged in the retail sale of apparel Razzia ...  \n",
       "3  [Engaged in the retail sale of jewelry watches...  \n",
       "4  [Yhtion toimialana on tekstiili ja nahkatuotte...  \n",
       "5  [Engaged in the operation and management of cl...  \n",
       "6  [Operates as a clothing store engaged in the r...  \n",
       "7  [Engaged in the operation of a chain of shoe s...  "
      ]
     },
     "execution_count": 42,
     "metadata": {},
     "output_type": "execute_result"
    }
   ],
   "source": [
    "topics = topic_model.get_topic_info()\n",
    "topics.to_csv(\n",
    "    \"topics.csv\",\n",
    "    index=False,\n",
    ")\n",
    "topics"
   ]
  },
  {
   "cell_type": "code",
   "execution_count": 43,
   "metadata": {},
   "outputs": [
    {
     "ename": "ValueError",
     "evalue": "Mime type rendering requires nbformat>=4.2.0 but it is not installed",
     "output_type": "error",
     "traceback": [
      "\u001b[1;31m---------------------------------------------------------------------------\u001b[0m",
      "\u001b[1;31mValueError\u001b[0m                                Traceback (most recent call last)",
      "File \u001b[1;32mc:\\Users\\dorab\\OneDrive - Ecole Polytechnique\\Documents\\DSB - HECxX\\Year 2\\Data and AI Regulation\\Data_regulation_project\\.env\\Lib\\site-packages\\IPython\\core\\formatters.py:984\u001b[0m, in \u001b[0;36mIPythonDisplayFormatter.__call__\u001b[1;34m(self, obj)\u001b[0m\n\u001b[0;32m    982\u001b[0m method \u001b[38;5;241m=\u001b[39m get_real_method(obj, \u001b[38;5;28mself\u001b[39m\u001b[38;5;241m.\u001b[39mprint_method)\n\u001b[0;32m    983\u001b[0m \u001b[38;5;28;01mif\u001b[39;00m method \u001b[38;5;129;01mis\u001b[39;00m \u001b[38;5;129;01mnot\u001b[39;00m \u001b[38;5;28;01mNone\u001b[39;00m:\n\u001b[1;32m--> 984\u001b[0m     \u001b[43mmethod\u001b[49m\u001b[43m(\u001b[49m\u001b[43m)\u001b[49m\n\u001b[0;32m    985\u001b[0m     \u001b[38;5;28;01mreturn\u001b[39;00m \u001b[38;5;28;01mTrue\u001b[39;00m\n",
      "File \u001b[1;32mc:\\Users\\dorab\\OneDrive - Ecole Polytechnique\\Documents\\DSB - HECxX\\Year 2\\Data and AI Regulation\\Data_regulation_project\\.env\\Lib\\site-packages\\plotly\\basedatatypes.py:833\u001b[0m, in \u001b[0;36mBaseFigure._ipython_display_\u001b[1;34m(self)\u001b[0m\n\u001b[0;32m    830\u001b[0m \u001b[38;5;28;01mimport\u001b[39;00m\u001b[38;5;250m \u001b[39m\u001b[38;5;21;01mplotly\u001b[39;00m\u001b[38;5;21;01m.\u001b[39;00m\u001b[38;5;21;01mio\u001b[39;00m\u001b[38;5;250m \u001b[39m\u001b[38;5;28;01mas\u001b[39;00m\u001b[38;5;250m \u001b[39m\u001b[38;5;21;01mpio\u001b[39;00m\n\u001b[0;32m    832\u001b[0m \u001b[38;5;28;01mif\u001b[39;00m pio\u001b[38;5;241m.\u001b[39mrenderers\u001b[38;5;241m.\u001b[39mrender_on_display \u001b[38;5;129;01mand\u001b[39;00m pio\u001b[38;5;241m.\u001b[39mrenderers\u001b[38;5;241m.\u001b[39mdefault:\n\u001b[1;32m--> 833\u001b[0m     \u001b[43mpio\u001b[49m\u001b[38;5;241;43m.\u001b[39;49m\u001b[43mshow\u001b[49m\u001b[43m(\u001b[49m\u001b[38;5;28;43mself\u001b[39;49m\u001b[43m)\u001b[49m\n\u001b[0;32m    834\u001b[0m \u001b[38;5;28;01melse\u001b[39;00m:\n\u001b[0;32m    835\u001b[0m     \u001b[38;5;28mprint\u001b[39m(\u001b[38;5;28mrepr\u001b[39m(\u001b[38;5;28mself\u001b[39m))\n",
      "File \u001b[1;32mc:\\Users\\dorab\\OneDrive - Ecole Polytechnique\\Documents\\DSB - HECxX\\Year 2\\Data and AI Regulation\\Data_regulation_project\\.env\\Lib\\site-packages\\plotly\\io\\_renderers.py:425\u001b[0m, in \u001b[0;36mshow\u001b[1;34m(fig, renderer, validate, **kwargs)\u001b[0m\n\u001b[0;32m    420\u001b[0m     \u001b[38;5;28;01mraise\u001b[39;00m \u001b[38;5;167;01mValueError\u001b[39;00m(\n\u001b[0;32m    421\u001b[0m         \u001b[38;5;124m\"\u001b[39m\u001b[38;5;124mMime type rendering requires ipython but it is not installed\u001b[39m\u001b[38;5;124m\"\u001b[39m\n\u001b[0;32m    422\u001b[0m     )\n\u001b[0;32m    424\u001b[0m \u001b[38;5;28;01mif\u001b[39;00m \u001b[38;5;129;01mnot\u001b[39;00m nbformat \u001b[38;5;129;01mor\u001b[39;00m Version(nbformat\u001b[38;5;241m.\u001b[39m__version__) \u001b[38;5;241m<\u001b[39m Version(\u001b[38;5;124m\"\u001b[39m\u001b[38;5;124m4.2.0\u001b[39m\u001b[38;5;124m\"\u001b[39m):\n\u001b[1;32m--> 425\u001b[0m     \u001b[38;5;28;01mraise\u001b[39;00m \u001b[38;5;167;01mValueError\u001b[39;00m(\n\u001b[0;32m    426\u001b[0m         \u001b[38;5;124m\"\u001b[39m\u001b[38;5;124mMime type rendering requires nbformat>=4.2.0 but it is not installed\u001b[39m\u001b[38;5;124m\"\u001b[39m\n\u001b[0;32m    427\u001b[0m     )\n\u001b[0;32m    429\u001b[0m display_jupyter_version_warnings()\n\u001b[0;32m    431\u001b[0m ipython_display\u001b[38;5;241m.\u001b[39mdisplay(bundle, raw\u001b[38;5;241m=\u001b[39m\u001b[38;5;28;01mTrue\u001b[39;00m)\n",
      "\u001b[1;31mValueError\u001b[0m: Mime type rendering requires nbformat>=4.2.0 but it is not installed"
     ]
    },
    {
     "data": {
      "application/vnd.plotly.v1+json": {
       "config": {
        "plotlyServerURL": "https://plot.ly"
       },
       "data": [
        {
         "customdata": [
          [
           0,
           "clothing | shoes | fashion | online | accessories",
           102
          ],
          [
           1,
           "retail | engaged retail | engaged | sale | retail sale",
           42
          ],
          [
           2,
           "jewelry | watches | watchmaking | jewelry watches | sale jewelry",
           38
          ],
          [
           3,
           "store | bolaget | online | clothes | online store",
           14
          ],
          [
           4,
           "operation | engaged operation | management | operation management | stores",
           14
          ],
          [
           5,
           "operates | store engaged | line new | general line | new clothing",
           10
          ],
          [
           6,
           "chain shoe | stores involved | chain | involved retail | involved",
           9
          ]
         ],
         "hovertemplate": "<b>Topic %{customdata[0]}</b><br>%{customdata[1]}<br>Size: %{customdata[2]}",
         "legendgroup": "",
         "marker": {
          "color": "#B0BEC5",
          "line": {
           "color": "DarkSlateGrey",
           "width": 2
          },
          "size": {
           "bdata": "ZiomDg4KCQ==",
           "dtype": "i1"
          },
          "sizemode": "area",
          "sizeref": 0.06375,
          "symbol": "circle"
         },
         "mode": "markers",
         "name": "",
         "orientation": "v",
         "showlegend": false,
         "type": "scatter",
         "x": {
          "bdata": "LBd6QQ1zqUGkeW9BSXhvQaJWqkHrKaVB6xWDQQ==",
          "dtype": "f4"
         },
         "xaxis": "x",
         "y": {
          "bdata": "JN45QaiCTEEDLkBBDMgxQb8NQ0EzNDFB9/gzQQ==",
          "dtype": "f4"
         },
         "yaxis": "y"
        }
       ],
       "layout": {
        "annotations": [
         {
          "showarrow": false,
          "text": "D1",
          "x": 12.72183609008789,
          "y": 12.056570053100586,
          "yshift": 10
         },
         {
          "showarrow": false,
          "text": "D2",
          "x": 18.603992462158203,
          "xshift": 10,
          "y": 14.699183464050293
         }
        ],
        "height": 650,
        "hoverlabel": {
         "bgcolor": "white",
         "font": {
          "family": "Rockwell",
          "size": 16
         }
        },
        "legend": {
         "itemsizing": "constant",
         "tracegroupgap": 0
        },
        "margin": {
         "t": 60
        },
        "shapes": [
         {
          "line": {
           "color": "#CFD8DC",
           "width": 2
          },
          "type": "line",
          "x0": 18.603992462158203,
          "x1": 18.603992462158203,
          "y0": 9.413957595825195,
          "y1": 14.699183464050293
         },
         {
          "line": {
           "color": "#9E9E9E",
           "width": 2
          },
          "type": "line",
          "x0": 12.72183609008789,
          "x1": 24.486146926879883,
          "y0": 12.056570053100586,
          "y1": 12.056570053100586
         }
        ],
        "sliders": [
         {
          "active": 0,
          "pad": {
           "t": 50
          },
          "steps": [
           {
            "args": [
             {
              "marker.color": [
               [
                "red",
                "#B0BEC5",
                "#B0BEC5",
                "#B0BEC5",
                "#B0BEC5",
                "#B0BEC5",
                "#B0BEC5"
               ]
              ]
             }
            ],
            "label": "Topic 0",
            "method": "update"
           },
           {
            "args": [
             {
              "marker.color": [
               [
                "#B0BEC5",
                "red",
                "#B0BEC5",
                "#B0BEC5",
                "#B0BEC5",
                "#B0BEC5",
                "#B0BEC5"
               ]
              ]
             }
            ],
            "label": "Topic 1",
            "method": "update"
           },
           {
            "args": [
             {
              "marker.color": [
               [
                "#B0BEC5",
                "#B0BEC5",
                "red",
                "#B0BEC5",
                "#B0BEC5",
                "#B0BEC5",
                "#B0BEC5"
               ]
              ]
             }
            ],
            "label": "Topic 2",
            "method": "update"
           },
           {
            "args": [
             {
              "marker.color": [
               [
                "#B0BEC5",
                "#B0BEC5",
                "#B0BEC5",
                "red",
                "#B0BEC5",
                "#B0BEC5",
                "#B0BEC5"
               ]
              ]
             }
            ],
            "label": "Topic 3",
            "method": "update"
           },
           {
            "args": [
             {
              "marker.color": [
               [
                "#B0BEC5",
                "#B0BEC5",
                "#B0BEC5",
                "#B0BEC5",
                "red",
                "#B0BEC5",
                "#B0BEC5"
               ]
              ]
             }
            ],
            "label": "Topic 4",
            "method": "update"
           },
           {
            "args": [
             {
              "marker.color": [
               [
                "#B0BEC5",
                "#B0BEC5",
                "#B0BEC5",
                "#B0BEC5",
                "#B0BEC5",
                "red",
                "#B0BEC5"
               ]
              ]
             }
            ],
            "label": "Topic 5",
            "method": "update"
           },
           {
            "args": [
             {
              "marker.color": [
               [
                "#B0BEC5",
                "#B0BEC5",
                "#B0BEC5",
                "#B0BEC5",
                "#B0BEC5",
                "#B0BEC5",
                "red"
               ]
              ]
             }
            ],
            "label": "Topic 6",
            "method": "update"
           }
          ]
         }
        ],
        "template": {
         "data": {
          "bar": [
           {
            "error_x": {
             "color": "rgb(36,36,36)"
            },
            "error_y": {
             "color": "rgb(36,36,36)"
            },
            "marker": {
             "line": {
              "color": "white",
              "width": 0.5
             },
             "pattern": {
              "fillmode": "overlay",
              "size": 10,
              "solidity": 0.2
             }
            },
            "type": "bar"
           }
          ],
          "barpolar": [
           {
            "marker": {
             "line": {
              "color": "white",
              "width": 0.5
             },
             "pattern": {
              "fillmode": "overlay",
              "size": 10,
              "solidity": 0.2
             }
            },
            "type": "barpolar"
           }
          ],
          "carpet": [
           {
            "aaxis": {
             "endlinecolor": "rgb(36,36,36)",
             "gridcolor": "white",
             "linecolor": "white",
             "minorgridcolor": "white",
             "startlinecolor": "rgb(36,36,36)"
            },
            "baxis": {
             "endlinecolor": "rgb(36,36,36)",
             "gridcolor": "white",
             "linecolor": "white",
             "minorgridcolor": "white",
             "startlinecolor": "rgb(36,36,36)"
            },
            "type": "carpet"
           }
          ],
          "choropleth": [
           {
            "colorbar": {
             "outlinewidth": 1,
             "tickcolor": "rgb(36,36,36)",
             "ticks": "outside"
            },
            "type": "choropleth"
           }
          ],
          "contour": [
           {
            "colorbar": {
             "outlinewidth": 1,
             "tickcolor": "rgb(36,36,36)",
             "ticks": "outside"
            },
            "colorscale": [
             [
              0,
              "#440154"
             ],
             [
              0.1111111111111111,
              "#482878"
             ],
             [
              0.2222222222222222,
              "#3e4989"
             ],
             [
              0.3333333333333333,
              "#31688e"
             ],
             [
              0.4444444444444444,
              "#26828e"
             ],
             [
              0.5555555555555556,
              "#1f9e89"
             ],
             [
              0.6666666666666666,
              "#35b779"
             ],
             [
              0.7777777777777778,
              "#6ece58"
             ],
             [
              0.8888888888888888,
              "#b5de2b"
             ],
             [
              1,
              "#fde725"
             ]
            ],
            "type": "contour"
           }
          ],
          "contourcarpet": [
           {
            "colorbar": {
             "outlinewidth": 1,
             "tickcolor": "rgb(36,36,36)",
             "ticks": "outside"
            },
            "type": "contourcarpet"
           }
          ],
          "heatmap": [
           {
            "colorbar": {
             "outlinewidth": 1,
             "tickcolor": "rgb(36,36,36)",
             "ticks": "outside"
            },
            "colorscale": [
             [
              0,
              "#440154"
             ],
             [
              0.1111111111111111,
              "#482878"
             ],
             [
              0.2222222222222222,
              "#3e4989"
             ],
             [
              0.3333333333333333,
              "#31688e"
             ],
             [
              0.4444444444444444,
              "#26828e"
             ],
             [
              0.5555555555555556,
              "#1f9e89"
             ],
             [
              0.6666666666666666,
              "#35b779"
             ],
             [
              0.7777777777777778,
              "#6ece58"
             ],
             [
              0.8888888888888888,
              "#b5de2b"
             ],
             [
              1,
              "#fde725"
             ]
            ],
            "type": "heatmap"
           }
          ],
          "histogram": [
           {
            "marker": {
             "line": {
              "color": "white",
              "width": 0.6
             }
            },
            "type": "histogram"
           }
          ],
          "histogram2d": [
           {
            "colorbar": {
             "outlinewidth": 1,
             "tickcolor": "rgb(36,36,36)",
             "ticks": "outside"
            },
            "colorscale": [
             [
              0,
              "#440154"
             ],
             [
              0.1111111111111111,
              "#482878"
             ],
             [
              0.2222222222222222,
              "#3e4989"
             ],
             [
              0.3333333333333333,
              "#31688e"
             ],
             [
              0.4444444444444444,
              "#26828e"
             ],
             [
              0.5555555555555556,
              "#1f9e89"
             ],
             [
              0.6666666666666666,
              "#35b779"
             ],
             [
              0.7777777777777778,
              "#6ece58"
             ],
             [
              0.8888888888888888,
              "#b5de2b"
             ],
             [
              1,
              "#fde725"
             ]
            ],
            "type": "histogram2d"
           }
          ],
          "histogram2dcontour": [
           {
            "colorbar": {
             "outlinewidth": 1,
             "tickcolor": "rgb(36,36,36)",
             "ticks": "outside"
            },
            "colorscale": [
             [
              0,
              "#440154"
             ],
             [
              0.1111111111111111,
              "#482878"
             ],
             [
              0.2222222222222222,
              "#3e4989"
             ],
             [
              0.3333333333333333,
              "#31688e"
             ],
             [
              0.4444444444444444,
              "#26828e"
             ],
             [
              0.5555555555555556,
              "#1f9e89"
             ],
             [
              0.6666666666666666,
              "#35b779"
             ],
             [
              0.7777777777777778,
              "#6ece58"
             ],
             [
              0.8888888888888888,
              "#b5de2b"
             ],
             [
              1,
              "#fde725"
             ]
            ],
            "type": "histogram2dcontour"
           }
          ],
          "mesh3d": [
           {
            "colorbar": {
             "outlinewidth": 1,
             "tickcolor": "rgb(36,36,36)",
             "ticks": "outside"
            },
            "type": "mesh3d"
           }
          ],
          "parcoords": [
           {
            "line": {
             "colorbar": {
              "outlinewidth": 1,
              "tickcolor": "rgb(36,36,36)",
              "ticks": "outside"
             }
            },
            "type": "parcoords"
           }
          ],
          "pie": [
           {
            "automargin": true,
            "type": "pie"
           }
          ],
          "scatter": [
           {
            "fillpattern": {
             "fillmode": "overlay",
             "size": 10,
             "solidity": 0.2
            },
            "type": "scatter"
           }
          ],
          "scatter3d": [
           {
            "line": {
             "colorbar": {
              "outlinewidth": 1,
              "tickcolor": "rgb(36,36,36)",
              "ticks": "outside"
             }
            },
            "marker": {
             "colorbar": {
              "outlinewidth": 1,
              "tickcolor": "rgb(36,36,36)",
              "ticks": "outside"
             }
            },
            "type": "scatter3d"
           }
          ],
          "scattercarpet": [
           {
            "marker": {
             "colorbar": {
              "outlinewidth": 1,
              "tickcolor": "rgb(36,36,36)",
              "ticks": "outside"
             }
            },
            "type": "scattercarpet"
           }
          ],
          "scattergeo": [
           {
            "marker": {
             "colorbar": {
              "outlinewidth": 1,
              "tickcolor": "rgb(36,36,36)",
              "ticks": "outside"
             }
            },
            "type": "scattergeo"
           }
          ],
          "scattergl": [
           {
            "marker": {
             "colorbar": {
              "outlinewidth": 1,
              "tickcolor": "rgb(36,36,36)",
              "ticks": "outside"
             }
            },
            "type": "scattergl"
           }
          ],
          "scattermap": [
           {
            "marker": {
             "colorbar": {
              "outlinewidth": 1,
              "tickcolor": "rgb(36,36,36)",
              "ticks": "outside"
             }
            },
            "type": "scattermap"
           }
          ],
          "scattermapbox": [
           {
            "marker": {
             "colorbar": {
              "outlinewidth": 1,
              "tickcolor": "rgb(36,36,36)",
              "ticks": "outside"
             }
            },
            "type": "scattermapbox"
           }
          ],
          "scatterpolar": [
           {
            "marker": {
             "colorbar": {
              "outlinewidth": 1,
              "tickcolor": "rgb(36,36,36)",
              "ticks": "outside"
             }
            },
            "type": "scatterpolar"
           }
          ],
          "scatterpolargl": [
           {
            "marker": {
             "colorbar": {
              "outlinewidth": 1,
              "tickcolor": "rgb(36,36,36)",
              "ticks": "outside"
             }
            },
            "type": "scatterpolargl"
           }
          ],
          "scatterternary": [
           {
            "marker": {
             "colorbar": {
              "outlinewidth": 1,
              "tickcolor": "rgb(36,36,36)",
              "ticks": "outside"
             }
            },
            "type": "scatterternary"
           }
          ],
          "surface": [
           {
            "colorbar": {
             "outlinewidth": 1,
             "tickcolor": "rgb(36,36,36)",
             "ticks": "outside"
            },
            "colorscale": [
             [
              0,
              "#440154"
             ],
             [
              0.1111111111111111,
              "#482878"
             ],
             [
              0.2222222222222222,
              "#3e4989"
             ],
             [
              0.3333333333333333,
              "#31688e"
             ],
             [
              0.4444444444444444,
              "#26828e"
             ],
             [
              0.5555555555555556,
              "#1f9e89"
             ],
             [
              0.6666666666666666,
              "#35b779"
             ],
             [
              0.7777777777777778,
              "#6ece58"
             ],
             [
              0.8888888888888888,
              "#b5de2b"
             ],
             [
              1,
              "#fde725"
             ]
            ],
            "type": "surface"
           }
          ],
          "table": [
           {
            "cells": {
             "fill": {
              "color": "rgb(237,237,237)"
             },
             "line": {
              "color": "white"
             }
            },
            "header": {
             "fill": {
              "color": "rgb(217,217,217)"
             },
             "line": {
              "color": "white"
             }
            },
            "type": "table"
           }
          ]
         },
         "layout": {
          "annotationdefaults": {
           "arrowhead": 0,
           "arrowwidth": 1
          },
          "autotypenumbers": "strict",
          "coloraxis": {
           "colorbar": {
            "outlinewidth": 1,
            "tickcolor": "rgb(36,36,36)",
            "ticks": "outside"
           }
          },
          "colorscale": {
           "diverging": [
            [
             0,
             "rgb(103,0,31)"
            ],
            [
             0.1,
             "rgb(178,24,43)"
            ],
            [
             0.2,
             "rgb(214,96,77)"
            ],
            [
             0.3,
             "rgb(244,165,130)"
            ],
            [
             0.4,
             "rgb(253,219,199)"
            ],
            [
             0.5,
             "rgb(247,247,247)"
            ],
            [
             0.6,
             "rgb(209,229,240)"
            ],
            [
             0.7,
             "rgb(146,197,222)"
            ],
            [
             0.8,
             "rgb(67,147,195)"
            ],
            [
             0.9,
             "rgb(33,102,172)"
            ],
            [
             1,
             "rgb(5,48,97)"
            ]
           ],
           "sequential": [
            [
             0,
             "#440154"
            ],
            [
             0.1111111111111111,
             "#482878"
            ],
            [
             0.2222222222222222,
             "#3e4989"
            ],
            [
             0.3333333333333333,
             "#31688e"
            ],
            [
             0.4444444444444444,
             "#26828e"
            ],
            [
             0.5555555555555556,
             "#1f9e89"
            ],
            [
             0.6666666666666666,
             "#35b779"
            ],
            [
             0.7777777777777778,
             "#6ece58"
            ],
            [
             0.8888888888888888,
             "#b5de2b"
            ],
            [
             1,
             "#fde725"
            ]
           ],
           "sequentialminus": [
            [
             0,
             "#440154"
            ],
            [
             0.1111111111111111,
             "#482878"
            ],
            [
             0.2222222222222222,
             "#3e4989"
            ],
            [
             0.3333333333333333,
             "#31688e"
            ],
            [
             0.4444444444444444,
             "#26828e"
            ],
            [
             0.5555555555555556,
             "#1f9e89"
            ],
            [
             0.6666666666666666,
             "#35b779"
            ],
            [
             0.7777777777777778,
             "#6ece58"
            ],
            [
             0.8888888888888888,
             "#b5de2b"
            ],
            [
             1,
             "#fde725"
            ]
           ]
          },
          "colorway": [
           "#1F77B4",
           "#FF7F0E",
           "#2CA02C",
           "#D62728",
           "#9467BD",
           "#8C564B",
           "#E377C2",
           "#7F7F7F",
           "#BCBD22",
           "#17BECF"
          ],
          "font": {
           "color": "rgb(36,36,36)"
          },
          "geo": {
           "bgcolor": "white",
           "lakecolor": "white",
           "landcolor": "white",
           "showlakes": true,
           "showland": true,
           "subunitcolor": "white"
          },
          "hoverlabel": {
           "align": "left"
          },
          "hovermode": "closest",
          "mapbox": {
           "style": "light"
          },
          "paper_bgcolor": "white",
          "plot_bgcolor": "white",
          "polar": {
           "angularaxis": {
            "gridcolor": "rgb(232,232,232)",
            "linecolor": "rgb(36,36,36)",
            "showgrid": false,
            "showline": true,
            "ticks": "outside"
           },
           "bgcolor": "white",
           "radialaxis": {
            "gridcolor": "rgb(232,232,232)",
            "linecolor": "rgb(36,36,36)",
            "showgrid": false,
            "showline": true,
            "ticks": "outside"
           }
          },
          "scene": {
           "xaxis": {
            "backgroundcolor": "white",
            "gridcolor": "rgb(232,232,232)",
            "gridwidth": 2,
            "linecolor": "rgb(36,36,36)",
            "showbackground": true,
            "showgrid": false,
            "showline": true,
            "ticks": "outside",
            "zeroline": false,
            "zerolinecolor": "rgb(36,36,36)"
           },
           "yaxis": {
            "backgroundcolor": "white",
            "gridcolor": "rgb(232,232,232)",
            "gridwidth": 2,
            "linecolor": "rgb(36,36,36)",
            "showbackground": true,
            "showgrid": false,
            "showline": true,
            "ticks": "outside",
            "zeroline": false,
            "zerolinecolor": "rgb(36,36,36)"
           },
           "zaxis": {
            "backgroundcolor": "white",
            "gridcolor": "rgb(232,232,232)",
            "gridwidth": 2,
            "linecolor": "rgb(36,36,36)",
            "showbackground": true,
            "showgrid": false,
            "showline": true,
            "ticks": "outside",
            "zeroline": false,
            "zerolinecolor": "rgb(36,36,36)"
           }
          },
          "shapedefaults": {
           "fillcolor": "black",
           "line": {
            "width": 0
           },
           "opacity": 0.3
          },
          "ternary": {
           "aaxis": {
            "gridcolor": "rgb(232,232,232)",
            "linecolor": "rgb(36,36,36)",
            "showgrid": false,
            "showline": true,
            "ticks": "outside"
           },
           "baxis": {
            "gridcolor": "rgb(232,232,232)",
            "linecolor": "rgb(36,36,36)",
            "showgrid": false,
            "showline": true,
            "ticks": "outside"
           },
           "bgcolor": "white",
           "caxis": {
            "gridcolor": "rgb(232,232,232)",
            "linecolor": "rgb(36,36,36)",
            "showgrid": false,
            "showline": true,
            "ticks": "outside"
           }
          },
          "title": {
           "x": 0.05
          },
          "xaxis": {
           "automargin": true,
           "gridcolor": "rgb(232,232,232)",
           "linecolor": "rgb(36,36,36)",
           "showgrid": false,
           "showline": true,
           "ticks": "outside",
           "title": {
            "standoff": 15
           },
           "zeroline": false,
           "zerolinecolor": "rgb(36,36,36)"
          },
          "yaxis": {
           "automargin": true,
           "gridcolor": "rgb(232,232,232)",
           "linecolor": "rgb(36,36,36)",
           "showgrid": false,
           "showline": true,
           "ticks": "outside",
           "title": {
            "standoff": 15
           },
           "zeroline": false,
           "zerolinecolor": "rgb(36,36,36)"
          }
         }
        },
        "title": {
         "font": {
          "color": "Black",
          "size": 22
         },
         "text": "<b>Intertopic Distance Map</b>",
         "x": 0.5,
         "xanchor": "center",
         "y": 0.95,
         "yanchor": "top"
        },
        "width": 650,
        "xaxis": {
         "anchor": "y",
         "domain": [
          0,
          1
         ],
         "range": [
          12.72183609008789,
          24.486146926879883
         ],
         "title": {
          "text": ""
         },
         "visible": false
        },
        "yaxis": {
         "anchor": "x",
         "domain": [
          0,
          1
         ],
         "range": [
          9.413957595825195,
          14.699183464050293
         ],
         "title": {
          "text": ""
         },
         "visible": false
        }
       }
      },
      "text/html": [
       "<div>                        <script type=\"text/javascript\">window.PlotlyConfig = {MathJaxConfig: 'local'};</script>\n",
       "        <script charset=\"utf-8\" src=\"https://cdn.plot.ly/plotly-3.0.0.min.js\"></script>                <div id=\"a5321c54-4a59-438d-b0bd-4d5942843754\" class=\"plotly-graph-div\" style=\"height:650px; width:650px;\"></div>            <script type=\"text/javascript\">                window.PLOTLYENV=window.PLOTLYENV || {};                                if (document.getElementById(\"a5321c54-4a59-438d-b0bd-4d5942843754\")) {                    Plotly.newPlot(                        \"a5321c54-4a59-438d-b0bd-4d5942843754\",                        [{\"customdata\":[[0,\"clothing | shoes | fashion | online | accessories\",102],[1,\"retail | engaged retail | engaged | sale | retail sale\",42],[2,\"jewelry | watches | watchmaking | jewelry watches | sale jewelry\",38],[3,\"store | bolaget | online | clothes | online store\",14],[4,\"operation | engaged operation | management | operation management | stores\",14],[5,\"operates | store engaged | line new | general line | new clothing\",10],[6,\"chain shoe | stores involved | chain | involved retail | involved\",9]],\"hovertemplate\":\"\\u003cb\\u003eTopic %{customdata[0]}\\u003c\\u002fb\\u003e\\u003cbr\\u003e%{customdata[1]}\\u003cbr\\u003eSize: %{customdata[2]}\",\"legendgroup\":\"\",\"marker\":{\"color\":\"#B0BEC5\",\"size\":{\"dtype\":\"i1\",\"bdata\":\"ZiomDg4KCQ==\"},\"sizemode\":\"area\",\"sizeref\":0.06375,\"symbol\":\"circle\",\"line\":{\"color\":\"DarkSlateGrey\",\"width\":2}},\"mode\":\"markers\",\"name\":\"\",\"orientation\":\"v\",\"showlegend\":false,\"x\":{\"dtype\":\"f4\",\"bdata\":\"LBd6QQ1zqUGkeW9BSXhvQaJWqkHrKaVB6xWDQQ==\"},\"xaxis\":\"x\",\"y\":{\"dtype\":\"f4\",\"bdata\":\"JN45QaiCTEEDLkBBDMgxQb8NQ0EzNDFB9\\u002fgzQQ==\"},\"yaxis\":\"y\",\"type\":\"scatter\"}],                        {\"template\":{\"data\":{\"barpolar\":[{\"marker\":{\"line\":{\"color\":\"white\",\"width\":0.5},\"pattern\":{\"fillmode\":\"overlay\",\"size\":10,\"solidity\":0.2}},\"type\":\"barpolar\"}],\"bar\":[{\"error_x\":{\"color\":\"rgb(36,36,36)\"},\"error_y\":{\"color\":\"rgb(36,36,36)\"},\"marker\":{\"line\":{\"color\":\"white\",\"width\":0.5},\"pattern\":{\"fillmode\":\"overlay\",\"size\":10,\"solidity\":0.2}},\"type\":\"bar\"}],\"carpet\":[{\"aaxis\":{\"endlinecolor\":\"rgb(36,36,36)\",\"gridcolor\":\"white\",\"linecolor\":\"white\",\"minorgridcolor\":\"white\",\"startlinecolor\":\"rgb(36,36,36)\"},\"baxis\":{\"endlinecolor\":\"rgb(36,36,36)\",\"gridcolor\":\"white\",\"linecolor\":\"white\",\"minorgridcolor\":\"white\",\"startlinecolor\":\"rgb(36,36,36)\"},\"type\":\"carpet\"}],\"choropleth\":[{\"colorbar\":{\"outlinewidth\":1,\"tickcolor\":\"rgb(36,36,36)\",\"ticks\":\"outside\"},\"type\":\"choropleth\"}],\"contourcarpet\":[{\"colorbar\":{\"outlinewidth\":1,\"tickcolor\":\"rgb(36,36,36)\",\"ticks\":\"outside\"},\"type\":\"contourcarpet\"}],\"contour\":[{\"colorbar\":{\"outlinewidth\":1,\"tickcolor\":\"rgb(36,36,36)\",\"ticks\":\"outside\"},\"colorscale\":[[0.0,\"#440154\"],[0.1111111111111111,\"#482878\"],[0.2222222222222222,\"#3e4989\"],[0.3333333333333333,\"#31688e\"],[0.4444444444444444,\"#26828e\"],[0.5555555555555556,\"#1f9e89\"],[0.6666666666666666,\"#35b779\"],[0.7777777777777778,\"#6ece58\"],[0.8888888888888888,\"#b5de2b\"],[1.0,\"#fde725\"]],\"type\":\"contour\"}],\"heatmap\":[{\"colorbar\":{\"outlinewidth\":1,\"tickcolor\":\"rgb(36,36,36)\",\"ticks\":\"outside\"},\"colorscale\":[[0.0,\"#440154\"],[0.1111111111111111,\"#482878\"],[0.2222222222222222,\"#3e4989\"],[0.3333333333333333,\"#31688e\"],[0.4444444444444444,\"#26828e\"],[0.5555555555555556,\"#1f9e89\"],[0.6666666666666666,\"#35b779\"],[0.7777777777777778,\"#6ece58\"],[0.8888888888888888,\"#b5de2b\"],[1.0,\"#fde725\"]],\"type\":\"heatmap\"}],\"histogram2dcontour\":[{\"colorbar\":{\"outlinewidth\":1,\"tickcolor\":\"rgb(36,36,36)\",\"ticks\":\"outside\"},\"colorscale\":[[0.0,\"#440154\"],[0.1111111111111111,\"#482878\"],[0.2222222222222222,\"#3e4989\"],[0.3333333333333333,\"#31688e\"],[0.4444444444444444,\"#26828e\"],[0.5555555555555556,\"#1f9e89\"],[0.6666666666666666,\"#35b779\"],[0.7777777777777778,\"#6ece58\"],[0.8888888888888888,\"#b5de2b\"],[1.0,\"#fde725\"]],\"type\":\"histogram2dcontour\"}],\"histogram2d\":[{\"colorbar\":{\"outlinewidth\":1,\"tickcolor\":\"rgb(36,36,36)\",\"ticks\":\"outside\"},\"colorscale\":[[0.0,\"#440154\"],[0.1111111111111111,\"#482878\"],[0.2222222222222222,\"#3e4989\"],[0.3333333333333333,\"#31688e\"],[0.4444444444444444,\"#26828e\"],[0.5555555555555556,\"#1f9e89\"],[0.6666666666666666,\"#35b779\"],[0.7777777777777778,\"#6ece58\"],[0.8888888888888888,\"#b5de2b\"],[1.0,\"#fde725\"]],\"type\":\"histogram2d\"}],\"histogram\":[{\"marker\":{\"line\":{\"color\":\"white\",\"width\":0.6}},\"type\":\"histogram\"}],\"mesh3d\":[{\"colorbar\":{\"outlinewidth\":1,\"tickcolor\":\"rgb(36,36,36)\",\"ticks\":\"outside\"},\"type\":\"mesh3d\"}],\"parcoords\":[{\"line\":{\"colorbar\":{\"outlinewidth\":1,\"tickcolor\":\"rgb(36,36,36)\",\"ticks\":\"outside\"}},\"type\":\"parcoords\"}],\"pie\":[{\"automargin\":true,\"type\":\"pie\"}],\"scatter3d\":[{\"line\":{\"colorbar\":{\"outlinewidth\":1,\"tickcolor\":\"rgb(36,36,36)\",\"ticks\":\"outside\"}},\"marker\":{\"colorbar\":{\"outlinewidth\":1,\"tickcolor\":\"rgb(36,36,36)\",\"ticks\":\"outside\"}},\"type\":\"scatter3d\"}],\"scattercarpet\":[{\"marker\":{\"colorbar\":{\"outlinewidth\":1,\"tickcolor\":\"rgb(36,36,36)\",\"ticks\":\"outside\"}},\"type\":\"scattercarpet\"}],\"scattergeo\":[{\"marker\":{\"colorbar\":{\"outlinewidth\":1,\"tickcolor\":\"rgb(36,36,36)\",\"ticks\":\"outside\"}},\"type\":\"scattergeo\"}],\"scattergl\":[{\"marker\":{\"colorbar\":{\"outlinewidth\":1,\"tickcolor\":\"rgb(36,36,36)\",\"ticks\":\"outside\"}},\"type\":\"scattergl\"}],\"scattermapbox\":[{\"marker\":{\"colorbar\":{\"outlinewidth\":1,\"tickcolor\":\"rgb(36,36,36)\",\"ticks\":\"outside\"}},\"type\":\"scattermapbox\"}],\"scattermap\":[{\"marker\":{\"colorbar\":{\"outlinewidth\":1,\"tickcolor\":\"rgb(36,36,36)\",\"ticks\":\"outside\"}},\"type\":\"scattermap\"}],\"scatterpolargl\":[{\"marker\":{\"colorbar\":{\"outlinewidth\":1,\"tickcolor\":\"rgb(36,36,36)\",\"ticks\":\"outside\"}},\"type\":\"scatterpolargl\"}],\"scatterpolar\":[{\"marker\":{\"colorbar\":{\"outlinewidth\":1,\"tickcolor\":\"rgb(36,36,36)\",\"ticks\":\"outside\"}},\"type\":\"scatterpolar\"}],\"scatter\":[{\"fillpattern\":{\"fillmode\":\"overlay\",\"size\":10,\"solidity\":0.2},\"type\":\"scatter\"}],\"scatterternary\":[{\"marker\":{\"colorbar\":{\"outlinewidth\":1,\"tickcolor\":\"rgb(36,36,36)\",\"ticks\":\"outside\"}},\"type\":\"scatterternary\"}],\"surface\":[{\"colorbar\":{\"outlinewidth\":1,\"tickcolor\":\"rgb(36,36,36)\",\"ticks\":\"outside\"},\"colorscale\":[[0.0,\"#440154\"],[0.1111111111111111,\"#482878\"],[0.2222222222222222,\"#3e4989\"],[0.3333333333333333,\"#31688e\"],[0.4444444444444444,\"#26828e\"],[0.5555555555555556,\"#1f9e89\"],[0.6666666666666666,\"#35b779\"],[0.7777777777777778,\"#6ece58\"],[0.8888888888888888,\"#b5de2b\"],[1.0,\"#fde725\"]],\"type\":\"surface\"}],\"table\":[{\"cells\":{\"fill\":{\"color\":\"rgb(237,237,237)\"},\"line\":{\"color\":\"white\"}},\"header\":{\"fill\":{\"color\":\"rgb(217,217,217)\"},\"line\":{\"color\":\"white\"}},\"type\":\"table\"}]},\"layout\":{\"annotationdefaults\":{\"arrowhead\":0,\"arrowwidth\":1},\"autotypenumbers\":\"strict\",\"coloraxis\":{\"colorbar\":{\"outlinewidth\":1,\"tickcolor\":\"rgb(36,36,36)\",\"ticks\":\"outside\"}},\"colorscale\":{\"diverging\":[[0.0,\"rgb(103,0,31)\"],[0.1,\"rgb(178,24,43)\"],[0.2,\"rgb(214,96,77)\"],[0.3,\"rgb(244,165,130)\"],[0.4,\"rgb(253,219,199)\"],[0.5,\"rgb(247,247,247)\"],[0.6,\"rgb(209,229,240)\"],[0.7,\"rgb(146,197,222)\"],[0.8,\"rgb(67,147,195)\"],[0.9,\"rgb(33,102,172)\"],[1.0,\"rgb(5,48,97)\"]],\"sequential\":[[0.0,\"#440154\"],[0.1111111111111111,\"#482878\"],[0.2222222222222222,\"#3e4989\"],[0.3333333333333333,\"#31688e\"],[0.4444444444444444,\"#26828e\"],[0.5555555555555556,\"#1f9e89\"],[0.6666666666666666,\"#35b779\"],[0.7777777777777778,\"#6ece58\"],[0.8888888888888888,\"#b5de2b\"],[1.0,\"#fde725\"]],\"sequentialminus\":[[0.0,\"#440154\"],[0.1111111111111111,\"#482878\"],[0.2222222222222222,\"#3e4989\"],[0.3333333333333333,\"#31688e\"],[0.4444444444444444,\"#26828e\"],[0.5555555555555556,\"#1f9e89\"],[0.6666666666666666,\"#35b779\"],[0.7777777777777778,\"#6ece58\"],[0.8888888888888888,\"#b5de2b\"],[1.0,\"#fde725\"]]},\"colorway\":[\"#1F77B4\",\"#FF7F0E\",\"#2CA02C\",\"#D62728\",\"#9467BD\",\"#8C564B\",\"#E377C2\",\"#7F7F7F\",\"#BCBD22\",\"#17BECF\"],\"font\":{\"color\":\"rgb(36,36,36)\"},\"geo\":{\"bgcolor\":\"white\",\"lakecolor\":\"white\",\"landcolor\":\"white\",\"showlakes\":true,\"showland\":true,\"subunitcolor\":\"white\"},\"hoverlabel\":{\"align\":\"left\"},\"hovermode\":\"closest\",\"mapbox\":{\"style\":\"light\"},\"paper_bgcolor\":\"white\",\"plot_bgcolor\":\"white\",\"polar\":{\"angularaxis\":{\"gridcolor\":\"rgb(232,232,232)\",\"linecolor\":\"rgb(36,36,36)\",\"showgrid\":false,\"showline\":true,\"ticks\":\"outside\"},\"bgcolor\":\"white\",\"radialaxis\":{\"gridcolor\":\"rgb(232,232,232)\",\"linecolor\":\"rgb(36,36,36)\",\"showgrid\":false,\"showline\":true,\"ticks\":\"outside\"}},\"scene\":{\"xaxis\":{\"backgroundcolor\":\"white\",\"gridcolor\":\"rgb(232,232,232)\",\"gridwidth\":2,\"linecolor\":\"rgb(36,36,36)\",\"showbackground\":true,\"showgrid\":false,\"showline\":true,\"ticks\":\"outside\",\"zeroline\":false,\"zerolinecolor\":\"rgb(36,36,36)\"},\"yaxis\":{\"backgroundcolor\":\"white\",\"gridcolor\":\"rgb(232,232,232)\",\"gridwidth\":2,\"linecolor\":\"rgb(36,36,36)\",\"showbackground\":true,\"showgrid\":false,\"showline\":true,\"ticks\":\"outside\",\"zeroline\":false,\"zerolinecolor\":\"rgb(36,36,36)\"},\"zaxis\":{\"backgroundcolor\":\"white\",\"gridcolor\":\"rgb(232,232,232)\",\"gridwidth\":2,\"linecolor\":\"rgb(36,36,36)\",\"showbackground\":true,\"showgrid\":false,\"showline\":true,\"ticks\":\"outside\",\"zeroline\":false,\"zerolinecolor\":\"rgb(36,36,36)\"}},\"shapedefaults\":{\"fillcolor\":\"black\",\"line\":{\"width\":0},\"opacity\":0.3},\"ternary\":{\"aaxis\":{\"gridcolor\":\"rgb(232,232,232)\",\"linecolor\":\"rgb(36,36,36)\",\"showgrid\":false,\"showline\":true,\"ticks\":\"outside\"},\"baxis\":{\"gridcolor\":\"rgb(232,232,232)\",\"linecolor\":\"rgb(36,36,36)\",\"showgrid\":false,\"showline\":true,\"ticks\":\"outside\"},\"bgcolor\":\"white\",\"caxis\":{\"gridcolor\":\"rgb(232,232,232)\",\"linecolor\":\"rgb(36,36,36)\",\"showgrid\":false,\"showline\":true,\"ticks\":\"outside\"}},\"title\":{\"x\":0.05},\"xaxis\":{\"automargin\":true,\"gridcolor\":\"rgb(232,232,232)\",\"linecolor\":\"rgb(36,36,36)\",\"showgrid\":false,\"showline\":true,\"ticks\":\"outside\",\"title\":{\"standoff\":15},\"zeroline\":false,\"zerolinecolor\":\"rgb(36,36,36)\"},\"yaxis\":{\"automargin\":true,\"gridcolor\":\"rgb(232,232,232)\",\"linecolor\":\"rgb(36,36,36)\",\"showgrid\":false,\"showline\":true,\"ticks\":\"outside\",\"title\":{\"standoff\":15},\"zeroline\":false,\"zerolinecolor\":\"rgb(36,36,36)\"}}},\"xaxis\":{\"anchor\":\"y\",\"domain\":[0.0,1.0],\"title\":{\"text\":\"\"},\"visible\":false,\"range\":[12.72183609008789,24.486146926879883]},\"yaxis\":{\"anchor\":\"x\",\"domain\":[0.0,1.0],\"title\":{\"text\":\"\"},\"visible\":false,\"range\":[9.413957595825195,14.699183464050293]},\"legend\":{\"tracegroupgap\":0,\"itemsizing\":\"constant\"},\"margin\":{\"t\":60},\"title\":{\"font\":{\"size\":22,\"color\":\"Black\"},\"text\":\"\\u003cb\\u003eIntertopic Distance Map\\u003c\\u002fb\\u003e\",\"y\":0.95,\"x\":0.5,\"xanchor\":\"center\",\"yanchor\":\"top\"},\"hoverlabel\":{\"font\":{\"size\":16,\"family\":\"Rockwell\"},\"bgcolor\":\"white\"},\"width\":650,\"height\":650,\"sliders\":[{\"active\":0,\"pad\":{\"t\":50},\"steps\":[{\"args\":[{\"marker.color\":[[\"red\",\"#B0BEC5\",\"#B0BEC5\",\"#B0BEC5\",\"#B0BEC5\",\"#B0BEC5\",\"#B0BEC5\"]]}],\"label\":\"Topic 0\",\"method\":\"update\"},{\"args\":[{\"marker.color\":[[\"#B0BEC5\",\"red\",\"#B0BEC5\",\"#B0BEC5\",\"#B0BEC5\",\"#B0BEC5\",\"#B0BEC5\"]]}],\"label\":\"Topic 1\",\"method\":\"update\"},{\"args\":[{\"marker.color\":[[\"#B0BEC5\",\"#B0BEC5\",\"red\",\"#B0BEC5\",\"#B0BEC5\",\"#B0BEC5\",\"#B0BEC5\"]]}],\"label\":\"Topic 2\",\"method\":\"update\"},{\"args\":[{\"marker.color\":[[\"#B0BEC5\",\"#B0BEC5\",\"#B0BEC5\",\"red\",\"#B0BEC5\",\"#B0BEC5\",\"#B0BEC5\"]]}],\"label\":\"Topic 3\",\"method\":\"update\"},{\"args\":[{\"marker.color\":[[\"#B0BEC5\",\"#B0BEC5\",\"#B0BEC5\",\"#B0BEC5\",\"red\",\"#B0BEC5\",\"#B0BEC5\"]]}],\"label\":\"Topic 4\",\"method\":\"update\"},{\"args\":[{\"marker.color\":[[\"#B0BEC5\",\"#B0BEC5\",\"#B0BEC5\",\"#B0BEC5\",\"#B0BEC5\",\"red\",\"#B0BEC5\"]]}],\"label\":\"Topic 5\",\"method\":\"update\"},{\"args\":[{\"marker.color\":[[\"#B0BEC5\",\"#B0BEC5\",\"#B0BEC5\",\"#B0BEC5\",\"#B0BEC5\",\"#B0BEC5\",\"red\"]]}],\"label\":\"Topic 6\",\"method\":\"update\"}]}],\"shapes\":[{\"line\":{\"color\":\"#CFD8DC\",\"width\":2},\"type\":\"line\",\"x0\":18.603992462158203,\"x1\":18.603992462158203,\"y0\":9.413957595825195,\"y1\":14.699183464050293},{\"line\":{\"color\":\"#9E9E9E\",\"width\":2},\"type\":\"line\",\"x0\":12.72183609008789,\"x1\":24.486146926879883,\"y0\":12.056570053100586,\"y1\":12.056570053100586}],\"annotations\":[{\"showarrow\":false,\"text\":\"D1\",\"x\":12.72183609008789,\"y\":12.056570053100586,\"yshift\":10},{\"showarrow\":false,\"text\":\"D2\",\"x\":18.603992462158203,\"xshift\":10,\"y\":14.699183464050293}]},                        {\"responsive\": true}                    )                };            </script>        </div>"
      ],
      "text/plain": [
       "Figure({\n",
       "    'data': [{'customdata': array([[0, 'clothing | shoes | fashion | online | accessories', 102],\n",
       "                                   [1, 'retail | engaged retail | engaged | sale | retail sale', 42],\n",
       "                                   [2, 'jewelry | watches | watchmaking | jewelry watches | sale jewelry',\n",
       "                                    38],\n",
       "                                   [3, 'store | bolaget | online | clothes | online store', 14],\n",
       "                                   [4,\n",
       "                                    'operation | engaged operation | management | operation management | stores',\n",
       "                                    14],\n",
       "                                   [5,\n",
       "                                    'operates | store engaged | line new | general line | new clothing',\n",
       "                                    10],\n",
       "                                   [6,\n",
       "                                    'chain shoe | stores involved | chain | involved retail | involved',\n",
       "                                    9]], dtype=object),\n",
       "              'hovertemplate': '<b>Topic %{customdata[0]}</b><br>%{customdata[1]}<br>Size: %{customdata[2]}',\n",
       "              'legendgroup': '',\n",
       "              'marker': {'color': '#B0BEC5',\n",
       "                         'line': {'color': 'DarkSlateGrey', 'width': 2},\n",
       "                         'size': {'bdata': 'ZiomDg4KCQ==', 'dtype': 'i1'},\n",
       "                         'sizemode': 'area',\n",
       "                         'sizeref': 0.06375,\n",
       "                         'symbol': 'circle'},\n",
       "              'mode': 'markers',\n",
       "              'name': '',\n",
       "              'orientation': 'v',\n",
       "              'showlegend': False,\n",
       "              'type': 'scatter',\n",
       "              'x': {'bdata': 'LBd6QQ1zqUGkeW9BSXhvQaJWqkHrKaVB6xWDQQ==', 'dtype': 'f4'},\n",
       "              'xaxis': 'x',\n",
       "              'y': {'bdata': 'JN45QaiCTEEDLkBBDMgxQb8NQ0EzNDFB9/gzQQ==', 'dtype': 'f4'},\n",
       "              'yaxis': 'y'}],\n",
       "    'layout': {'annotations': [{'showarrow': False,\n",
       "                                'text': 'D1',\n",
       "                                'x': np.float32(12.721836),\n",
       "                                'y': np.float32(12.05657),\n",
       "                                'yshift': 10},\n",
       "                               {'showarrow': False,\n",
       "                                'text': 'D2',\n",
       "                                'x': np.float32(18.603992),\n",
       "                                'xshift': 10,\n",
       "                                'y': np.float32(14.699183)}],\n",
       "               'height': 650,\n",
       "               'hoverlabel': {'bgcolor': 'white', 'font': {'family': 'Rockwell', 'size': 16}},\n",
       "               'legend': {'itemsizing': 'constant', 'tracegroupgap': 0},\n",
       "               'margin': {'t': 60},\n",
       "               'shapes': [{'line': {'color': '#CFD8DC', 'width': 2},\n",
       "                           'type': 'line',\n",
       "                           'x0': np.float32(18.603992),\n",
       "                           'x1': np.float32(18.603992),\n",
       "                           'y0': np.float32(9.413958),\n",
       "                           'y1': np.float32(14.699183)},\n",
       "                          {'line': {'color': '#9E9E9E', 'width': 2},\n",
       "                           'type': 'line',\n",
       "                           'x0': np.float32(12.721836),\n",
       "                           'x1': np.float32(24.486147),\n",
       "                           'y0': np.float32(12.05657),\n",
       "                           'y1': np.float32(12.05657)}],\n",
       "               'sliders': [{'active': 0,\n",
       "                            'pad': {'t': 50},\n",
       "                            'steps': [{'args': [{'marker.color': [['red',\n",
       "                                                                  '#B0BEC5',\n",
       "                                                                  '#B0BEC5',\n",
       "                                                                  '#B0BEC5',\n",
       "                                                                  '#B0BEC5',\n",
       "                                                                  '#B0BEC5',\n",
       "                                                                  '#B0BEC5']]}],\n",
       "                                       'label': 'Topic 0',\n",
       "                                       'method': 'update'},\n",
       "                                      {'args': [{'marker.color': [['#B0BEC5',\n",
       "                                                                  'red', '#B0BEC5',\n",
       "                                                                  '#B0BEC5',\n",
       "                                                                  '#B0BEC5',\n",
       "                                                                  '#B0BEC5',\n",
       "                                                                  '#B0BEC5']]}],\n",
       "                                       'label': 'Topic 1',\n",
       "                                       'method': 'update'},\n",
       "                                      {'args': [{'marker.color': [['#B0BEC5',\n",
       "                                                                  '#B0BEC5', 'red',\n",
       "                                                                  '#B0BEC5',\n",
       "                                                                  '#B0BEC5',\n",
       "                                                                  '#B0BEC5',\n",
       "                                                                  '#B0BEC5']]}],\n",
       "                                       'label': 'Topic 2',\n",
       "                                       'method': 'update'},\n",
       "                                      {'args': [{'marker.color': [['#B0BEC5',\n",
       "                                                                  '#B0BEC5',\n",
       "                                                                  '#B0BEC5', 'red',\n",
       "                                                                  '#B0BEC5',\n",
       "                                                                  '#B0BEC5',\n",
       "                                                                  '#B0BEC5']]}],\n",
       "                                       'label': 'Topic 3',\n",
       "                                       'method': 'update'},\n",
       "                                      {'args': [{'marker.color': [['#B0BEC5',\n",
       "                                                                  '#B0BEC5',\n",
       "                                                                  '#B0BEC5',\n",
       "                                                                  '#B0BEC5', 'red',\n",
       "                                                                  '#B0BEC5',\n",
       "                                                                  '#B0BEC5']]}],\n",
       "                                       'label': 'Topic 4',\n",
       "                                       'method': 'update'},\n",
       "                                      {'args': [{'marker.color': [['#B0BEC5',\n",
       "                                                                  '#B0BEC5',\n",
       "                                                                  '#B0BEC5',\n",
       "                                                                  '#B0BEC5',\n",
       "                                                                  '#B0BEC5', 'red',\n",
       "                                                                  '#B0BEC5']]}],\n",
       "                                       'label': 'Topic 5',\n",
       "                                       'method': 'update'},\n",
       "                                      {'args': [{'marker.color': [['#B0BEC5',\n",
       "                                                                  '#B0BEC5',\n",
       "                                                                  '#B0BEC5',\n",
       "                                                                  '#B0BEC5',\n",
       "                                                                  '#B0BEC5',\n",
       "                                                                  '#B0BEC5',\n",
       "                                                                  'red']]}],\n",
       "                                       'label': 'Topic 6',\n",
       "                                       'method': 'update'}]}],\n",
       "               'template': '...',\n",
       "               'title': {'font': {'color': 'Black', 'size': 22},\n",
       "                         'text': '<b>Intertopic Distance Map</b>',\n",
       "                         'x': 0.5,\n",
       "                         'xanchor': 'center',\n",
       "                         'y': 0.95,\n",
       "                         'yanchor': 'top'},\n",
       "               'width': 650,\n",
       "               'xaxis': {'anchor': 'y',\n",
       "                         'domain': [0.0, 1.0],\n",
       "                         'range': [12.72183609008789, 24.486146926879883],\n",
       "                         'title': {'text': ''},\n",
       "                         'visible': False},\n",
       "               'yaxis': {'anchor': 'x',\n",
       "                         'domain': [0.0, 1.0],\n",
       "                         'range': [9.413957595825195, 14.699183464050293],\n",
       "                         'title': {'text': ''},\n",
       "                         'visible': False}}\n",
       "})"
      ]
     },
     "execution_count": 43,
     "metadata": {},
     "output_type": "execute_result"
    }
   ],
   "source": [
    "topic_model.visualize_topics()"
   ]
  },
  {
   "cell_type": "code",
   "execution_count": 45,
   "metadata": {},
   "outputs": [
    {
     "ename": "ValueError",
     "evalue": "Mime type rendering requires nbformat>=4.2.0 but it is not installed",
     "output_type": "error",
     "traceback": [
      "\u001b[1;31m---------------------------------------------------------------------------\u001b[0m",
      "\u001b[1;31mValueError\u001b[0m                                Traceback (most recent call last)",
      "File \u001b[1;32mc:\\Users\\dorab\\OneDrive - Ecole Polytechnique\\Documents\\DSB - HECxX\\Year 2\\Data and AI Regulation\\Data_regulation_project\\.env\\Lib\\site-packages\\IPython\\core\\formatters.py:984\u001b[0m, in \u001b[0;36mIPythonDisplayFormatter.__call__\u001b[1;34m(self, obj)\u001b[0m\n\u001b[0;32m    982\u001b[0m method \u001b[38;5;241m=\u001b[39m get_real_method(obj, \u001b[38;5;28mself\u001b[39m\u001b[38;5;241m.\u001b[39mprint_method)\n\u001b[0;32m    983\u001b[0m \u001b[38;5;28;01mif\u001b[39;00m method \u001b[38;5;129;01mis\u001b[39;00m \u001b[38;5;129;01mnot\u001b[39;00m \u001b[38;5;28;01mNone\u001b[39;00m:\n\u001b[1;32m--> 984\u001b[0m     \u001b[43mmethod\u001b[49m\u001b[43m(\u001b[49m\u001b[43m)\u001b[49m\n\u001b[0;32m    985\u001b[0m     \u001b[38;5;28;01mreturn\u001b[39;00m \u001b[38;5;28;01mTrue\u001b[39;00m\n",
      "File \u001b[1;32mc:\\Users\\dorab\\OneDrive - Ecole Polytechnique\\Documents\\DSB - HECxX\\Year 2\\Data and AI Regulation\\Data_regulation_project\\.env\\Lib\\site-packages\\plotly\\basedatatypes.py:833\u001b[0m, in \u001b[0;36mBaseFigure._ipython_display_\u001b[1;34m(self)\u001b[0m\n\u001b[0;32m    830\u001b[0m \u001b[38;5;28;01mimport\u001b[39;00m\u001b[38;5;250m \u001b[39m\u001b[38;5;21;01mplotly\u001b[39;00m\u001b[38;5;21;01m.\u001b[39;00m\u001b[38;5;21;01mio\u001b[39;00m\u001b[38;5;250m \u001b[39m\u001b[38;5;28;01mas\u001b[39;00m\u001b[38;5;250m \u001b[39m\u001b[38;5;21;01mpio\u001b[39;00m\n\u001b[0;32m    832\u001b[0m \u001b[38;5;28;01mif\u001b[39;00m pio\u001b[38;5;241m.\u001b[39mrenderers\u001b[38;5;241m.\u001b[39mrender_on_display \u001b[38;5;129;01mand\u001b[39;00m pio\u001b[38;5;241m.\u001b[39mrenderers\u001b[38;5;241m.\u001b[39mdefault:\n\u001b[1;32m--> 833\u001b[0m     \u001b[43mpio\u001b[49m\u001b[38;5;241;43m.\u001b[39;49m\u001b[43mshow\u001b[49m\u001b[43m(\u001b[49m\u001b[38;5;28;43mself\u001b[39;49m\u001b[43m)\u001b[49m\n\u001b[0;32m    834\u001b[0m \u001b[38;5;28;01melse\u001b[39;00m:\n\u001b[0;32m    835\u001b[0m     \u001b[38;5;28mprint\u001b[39m(\u001b[38;5;28mrepr\u001b[39m(\u001b[38;5;28mself\u001b[39m))\n",
      "File \u001b[1;32mc:\\Users\\dorab\\OneDrive - Ecole Polytechnique\\Documents\\DSB - HECxX\\Year 2\\Data and AI Regulation\\Data_regulation_project\\.env\\Lib\\site-packages\\plotly\\io\\_renderers.py:425\u001b[0m, in \u001b[0;36mshow\u001b[1;34m(fig, renderer, validate, **kwargs)\u001b[0m\n\u001b[0;32m    420\u001b[0m     \u001b[38;5;28;01mraise\u001b[39;00m \u001b[38;5;167;01mValueError\u001b[39;00m(\n\u001b[0;32m    421\u001b[0m         \u001b[38;5;124m\"\u001b[39m\u001b[38;5;124mMime type rendering requires ipython but it is not installed\u001b[39m\u001b[38;5;124m\"\u001b[39m\n\u001b[0;32m    422\u001b[0m     )\n\u001b[0;32m    424\u001b[0m \u001b[38;5;28;01mif\u001b[39;00m \u001b[38;5;129;01mnot\u001b[39;00m nbformat \u001b[38;5;129;01mor\u001b[39;00m Version(nbformat\u001b[38;5;241m.\u001b[39m__version__) \u001b[38;5;241m<\u001b[39m Version(\u001b[38;5;124m\"\u001b[39m\u001b[38;5;124m4.2.0\u001b[39m\u001b[38;5;124m\"\u001b[39m):\n\u001b[1;32m--> 425\u001b[0m     \u001b[38;5;28;01mraise\u001b[39;00m \u001b[38;5;167;01mValueError\u001b[39;00m(\n\u001b[0;32m    426\u001b[0m         \u001b[38;5;124m\"\u001b[39m\u001b[38;5;124mMime type rendering requires nbformat>=4.2.0 but it is not installed\u001b[39m\u001b[38;5;124m\"\u001b[39m\n\u001b[0;32m    427\u001b[0m     )\n\u001b[0;32m    429\u001b[0m display_jupyter_version_warnings()\n\u001b[0;32m    431\u001b[0m ipython_display\u001b[38;5;241m.\u001b[39mdisplay(bundle, raw\u001b[38;5;241m=\u001b[39m\u001b[38;5;28;01mTrue\u001b[39;00m)\n",
      "\u001b[1;31mValueError\u001b[0m: Mime type rendering requires nbformat>=4.2.0 but it is not installed"
     ]
    },
    {
     "data": {
      "application/vnd.plotly.v1+json": {
       "config": {
        "plotlyServerURL": "https://plot.ly"
       },
       "data": [
        {
         "marker": {
          "color": "#D55E00"
         },
         "orientation": "h",
         "type": "bar",
         "x": [
          0.0531776180855953,
          0.05977783508879105,
          0.06239145874965178,
          0.06475841855227066,
          0.07708417236585234
         ],
         "xaxis": "x",
         "y": [
          "accessories  ",
          "online  ",
          "fashion  ",
          "shoes  ",
          "clothing  "
         ],
         "yaxis": "y"
        },
        {
         "marker": {
          "color": "#0072B2"
         },
         "orientation": "h",
         "type": "bar",
         "x": [
          0.08442161171580391,
          0.09716799447730708,
          0.10276516679201977,
          0.10725808684382353,
          0.12560361393815156
         ],
         "xaxis": "x2",
         "y": [
          "retail sale  ",
          "sale  ",
          "engaged  ",
          "engaged retail  ",
          "retail  "
         ],
         "yaxis": "y2"
        },
        {
         "marker": {
          "color": "#CC79A7"
         },
         "orientation": "h",
         "type": "bar",
         "x": [
          0.06731109435319337,
          0.06731109435319337,
          0.07322329270447171,
          0.14153108018381214,
          0.19419813962742893
         ],
         "xaxis": "x3",
         "y": [
          "sale jewelry  ",
          "jewelry watches  ",
          "watchmaking  ",
          "watches  ",
          "jewelry  "
         ],
         "yaxis": "y3"
        },
        {
         "marker": {
          "color": "#E69F00"
         },
         "orientation": "h",
         "type": "bar",
         "x": [
          0.07330756456605882,
          0.08183931080084869,
          0.08892412288274212,
          0.11260470961200415,
          0.11565297901220035
         ],
         "xaxis": "x4",
         "y": [
          "online store  ",
          "clothes  ",
          "online  ",
          "bolaget  ",
          "store  "
         ],
         "yaxis": "y4"
        },
        {
         "marker": {
          "color": "#56B4E9"
         },
         "orientation": "h",
         "type": "bar",
         "x": [
          0.14093825448129915,
          0.1450204853259806,
          0.16680427008392296,
          0.1949041594410056,
          0.2136499603204199
         ],
         "xaxis": "x5",
         "y": [
          "stores  ",
          "operation management  ",
          "management  ",
          "engaged operation  ",
          "operation  "
         ],
         "yaxis": "y5"
        },
        {
         "marker": {
          "color": "#009E73"
         },
         "orientation": "h",
         "type": "bar",
         "x": [
          0.14284780041013265,
          0.14284780041013265,
          0.14284780041013265,
          0.1481272808855306,
          0.17865128371861075
         ],
         "xaxis": "x6",
         "y": [
          "new clothing  ",
          "general line  ",
          "line new  ",
          "store engaged  ",
          "operates  "
         ],
         "yaxis": "y6"
        },
        {
         "marker": {
          "color": "#F0E442"
         },
         "orientation": "h",
         "type": "bar",
         "x": [
          0.09312296365902338,
          0.09594483278883775,
          0.09821206142101062,
          0.10307309861498386,
          0.10307309861498386
         ],
         "xaxis": "x7",
         "y": [
          "involved  ",
          "involved retail  ",
          "chain  ",
          "stores involved  ",
          "chain shoe  "
         ],
         "yaxis": "y7"
        }
       ],
       "layout": {
        "annotations": [
         {
          "font": {
           "size": 16
          },
          "showarrow": false,
          "text": "Topic 0",
          "x": 0.0875,
          "xanchor": "center",
          "xref": "paper",
          "y": 1,
          "yanchor": "bottom",
          "yref": "paper"
         },
         {
          "font": {
           "size": 16
          },
          "showarrow": false,
          "text": "Topic 1",
          "x": 0.36250000000000004,
          "xanchor": "center",
          "xref": "paper",
          "y": 1,
          "yanchor": "bottom",
          "yref": "paper"
         },
         {
          "font": {
           "size": 16
          },
          "showarrow": false,
          "text": "Topic 2",
          "x": 0.6375000000000001,
          "xanchor": "center",
          "xref": "paper",
          "y": 1,
          "yanchor": "bottom",
          "yref": "paper"
         },
         {
          "font": {
           "size": 16
          },
          "showarrow": false,
          "text": "Topic 3",
          "x": 0.9125,
          "xanchor": "center",
          "xref": "paper",
          "y": 1,
          "yanchor": "bottom",
          "yref": "paper"
         },
         {
          "font": {
           "size": 16
          },
          "showarrow": false,
          "text": "Topic 4",
          "x": 0.0875,
          "xanchor": "center",
          "xref": "paper",
          "y": 0.4,
          "yanchor": "bottom",
          "yref": "paper"
         },
         {
          "font": {
           "size": 16
          },
          "showarrow": false,
          "text": "Topic 5",
          "x": 0.36250000000000004,
          "xanchor": "center",
          "xref": "paper",
          "y": 0.4,
          "yanchor": "bottom",
          "yref": "paper"
         },
         {
          "font": {
           "size": 16
          },
          "showarrow": false,
          "text": "Topic 6",
          "x": 0.6375000000000001,
          "xanchor": "center",
          "xref": "paper",
          "y": 0.4,
          "yanchor": "bottom",
          "yref": "paper"
         }
        ],
        "height": 500,
        "hoverlabel": {
         "bgcolor": "white",
         "font": {
          "family": "Rockwell",
          "size": 16
         }
        },
        "showlegend": false,
        "template": {
         "data": {
          "bar": [
           {
            "error_x": {
             "color": "#2a3f5f"
            },
            "error_y": {
             "color": "#2a3f5f"
            },
            "marker": {
             "line": {
              "color": "white",
              "width": 0.5
             },
             "pattern": {
              "fillmode": "overlay",
              "size": 10,
              "solidity": 0.2
             }
            },
            "type": "bar"
           }
          ],
          "barpolar": [
           {
            "marker": {
             "line": {
              "color": "white",
              "width": 0.5
             },
             "pattern": {
              "fillmode": "overlay",
              "size": 10,
              "solidity": 0.2
             }
            },
            "type": "barpolar"
           }
          ],
          "carpet": [
           {
            "aaxis": {
             "endlinecolor": "#2a3f5f",
             "gridcolor": "#C8D4E3",
             "linecolor": "#C8D4E3",
             "minorgridcolor": "#C8D4E3",
             "startlinecolor": "#2a3f5f"
            },
            "baxis": {
             "endlinecolor": "#2a3f5f",
             "gridcolor": "#C8D4E3",
             "linecolor": "#C8D4E3",
             "minorgridcolor": "#C8D4E3",
             "startlinecolor": "#2a3f5f"
            },
            "type": "carpet"
           }
          ],
          "choropleth": [
           {
            "colorbar": {
             "outlinewidth": 0,
             "ticks": ""
            },
            "type": "choropleth"
           }
          ],
          "contour": [
           {
            "colorbar": {
             "outlinewidth": 0,
             "ticks": ""
            },
            "colorscale": [
             [
              0,
              "#0d0887"
             ],
             [
              0.1111111111111111,
              "#46039f"
             ],
             [
              0.2222222222222222,
              "#7201a8"
             ],
             [
              0.3333333333333333,
              "#9c179e"
             ],
             [
              0.4444444444444444,
              "#bd3786"
             ],
             [
              0.5555555555555556,
              "#d8576b"
             ],
             [
              0.6666666666666666,
              "#ed7953"
             ],
             [
              0.7777777777777778,
              "#fb9f3a"
             ],
             [
              0.8888888888888888,
              "#fdca26"
             ],
             [
              1,
              "#f0f921"
             ]
            ],
            "type": "contour"
           }
          ],
          "contourcarpet": [
           {
            "colorbar": {
             "outlinewidth": 0,
             "ticks": ""
            },
            "type": "contourcarpet"
           }
          ],
          "heatmap": [
           {
            "colorbar": {
             "outlinewidth": 0,
             "ticks": ""
            },
            "colorscale": [
             [
              0,
              "#0d0887"
             ],
             [
              0.1111111111111111,
              "#46039f"
             ],
             [
              0.2222222222222222,
              "#7201a8"
             ],
             [
              0.3333333333333333,
              "#9c179e"
             ],
             [
              0.4444444444444444,
              "#bd3786"
             ],
             [
              0.5555555555555556,
              "#d8576b"
             ],
             [
              0.6666666666666666,
              "#ed7953"
             ],
             [
              0.7777777777777778,
              "#fb9f3a"
             ],
             [
              0.8888888888888888,
              "#fdca26"
             ],
             [
              1,
              "#f0f921"
             ]
            ],
            "type": "heatmap"
           }
          ],
          "histogram": [
           {
            "marker": {
             "pattern": {
              "fillmode": "overlay",
              "size": 10,
              "solidity": 0.2
             }
            },
            "type": "histogram"
           }
          ],
          "histogram2d": [
           {
            "colorbar": {
             "outlinewidth": 0,
             "ticks": ""
            },
            "colorscale": [
             [
              0,
              "#0d0887"
             ],
             [
              0.1111111111111111,
              "#46039f"
             ],
             [
              0.2222222222222222,
              "#7201a8"
             ],
             [
              0.3333333333333333,
              "#9c179e"
             ],
             [
              0.4444444444444444,
              "#bd3786"
             ],
             [
              0.5555555555555556,
              "#d8576b"
             ],
             [
              0.6666666666666666,
              "#ed7953"
             ],
             [
              0.7777777777777778,
              "#fb9f3a"
             ],
             [
              0.8888888888888888,
              "#fdca26"
             ],
             [
              1,
              "#f0f921"
             ]
            ],
            "type": "histogram2d"
           }
          ],
          "histogram2dcontour": [
           {
            "colorbar": {
             "outlinewidth": 0,
             "ticks": ""
            },
            "colorscale": [
             [
              0,
              "#0d0887"
             ],
             [
              0.1111111111111111,
              "#46039f"
             ],
             [
              0.2222222222222222,
              "#7201a8"
             ],
             [
              0.3333333333333333,
              "#9c179e"
             ],
             [
              0.4444444444444444,
              "#bd3786"
             ],
             [
              0.5555555555555556,
              "#d8576b"
             ],
             [
              0.6666666666666666,
              "#ed7953"
             ],
             [
              0.7777777777777778,
              "#fb9f3a"
             ],
             [
              0.8888888888888888,
              "#fdca26"
             ],
             [
              1,
              "#f0f921"
             ]
            ],
            "type": "histogram2dcontour"
           }
          ],
          "mesh3d": [
           {
            "colorbar": {
             "outlinewidth": 0,
             "ticks": ""
            },
            "type": "mesh3d"
           }
          ],
          "parcoords": [
           {
            "line": {
             "colorbar": {
              "outlinewidth": 0,
              "ticks": ""
             }
            },
            "type": "parcoords"
           }
          ],
          "pie": [
           {
            "automargin": true,
            "type": "pie"
           }
          ],
          "scatter": [
           {
            "fillpattern": {
             "fillmode": "overlay",
             "size": 10,
             "solidity": 0.2
            },
            "type": "scatter"
           }
          ],
          "scatter3d": [
           {
            "line": {
             "colorbar": {
              "outlinewidth": 0,
              "ticks": ""
             }
            },
            "marker": {
             "colorbar": {
              "outlinewidth": 0,
              "ticks": ""
             }
            },
            "type": "scatter3d"
           }
          ],
          "scattercarpet": [
           {
            "marker": {
             "colorbar": {
              "outlinewidth": 0,
              "ticks": ""
             }
            },
            "type": "scattercarpet"
           }
          ],
          "scattergeo": [
           {
            "marker": {
             "colorbar": {
              "outlinewidth": 0,
              "ticks": ""
             }
            },
            "type": "scattergeo"
           }
          ],
          "scattergl": [
           {
            "marker": {
             "colorbar": {
              "outlinewidth": 0,
              "ticks": ""
             }
            },
            "type": "scattergl"
           }
          ],
          "scattermap": [
           {
            "marker": {
             "colorbar": {
              "outlinewidth": 0,
              "ticks": ""
             }
            },
            "type": "scattermap"
           }
          ],
          "scattermapbox": [
           {
            "marker": {
             "colorbar": {
              "outlinewidth": 0,
              "ticks": ""
             }
            },
            "type": "scattermapbox"
           }
          ],
          "scatterpolar": [
           {
            "marker": {
             "colorbar": {
              "outlinewidth": 0,
              "ticks": ""
             }
            },
            "type": "scatterpolar"
           }
          ],
          "scatterpolargl": [
           {
            "marker": {
             "colorbar": {
              "outlinewidth": 0,
              "ticks": ""
             }
            },
            "type": "scatterpolargl"
           }
          ],
          "scatterternary": [
           {
            "marker": {
             "colorbar": {
              "outlinewidth": 0,
              "ticks": ""
             }
            },
            "type": "scatterternary"
           }
          ],
          "surface": [
           {
            "colorbar": {
             "outlinewidth": 0,
             "ticks": ""
            },
            "colorscale": [
             [
              0,
              "#0d0887"
             ],
             [
              0.1111111111111111,
              "#46039f"
             ],
             [
              0.2222222222222222,
              "#7201a8"
             ],
             [
              0.3333333333333333,
              "#9c179e"
             ],
             [
              0.4444444444444444,
              "#bd3786"
             ],
             [
              0.5555555555555556,
              "#d8576b"
             ],
             [
              0.6666666666666666,
              "#ed7953"
             ],
             [
              0.7777777777777778,
              "#fb9f3a"
             ],
             [
              0.8888888888888888,
              "#fdca26"
             ],
             [
              1,
              "#f0f921"
             ]
            ],
            "type": "surface"
           }
          ],
          "table": [
           {
            "cells": {
             "fill": {
              "color": "#EBF0F8"
             },
             "line": {
              "color": "white"
             }
            },
            "header": {
             "fill": {
              "color": "#C8D4E3"
             },
             "line": {
              "color": "white"
             }
            },
            "type": "table"
           }
          ]
         },
         "layout": {
          "annotationdefaults": {
           "arrowcolor": "#2a3f5f",
           "arrowhead": 0,
           "arrowwidth": 1
          },
          "autotypenumbers": "strict",
          "coloraxis": {
           "colorbar": {
            "outlinewidth": 0,
            "ticks": ""
           }
          },
          "colorscale": {
           "diverging": [
            [
             0,
             "#8e0152"
            ],
            [
             0.1,
             "#c51b7d"
            ],
            [
             0.2,
             "#de77ae"
            ],
            [
             0.3,
             "#f1b6da"
            ],
            [
             0.4,
             "#fde0ef"
            ],
            [
             0.5,
             "#f7f7f7"
            ],
            [
             0.6,
             "#e6f5d0"
            ],
            [
             0.7,
             "#b8e186"
            ],
            [
             0.8,
             "#7fbc41"
            ],
            [
             0.9,
             "#4d9221"
            ],
            [
             1,
             "#276419"
            ]
           ],
           "sequential": [
            [
             0,
             "#0d0887"
            ],
            [
             0.1111111111111111,
             "#46039f"
            ],
            [
             0.2222222222222222,
             "#7201a8"
            ],
            [
             0.3333333333333333,
             "#9c179e"
            ],
            [
             0.4444444444444444,
             "#bd3786"
            ],
            [
             0.5555555555555556,
             "#d8576b"
            ],
            [
             0.6666666666666666,
             "#ed7953"
            ],
            [
             0.7777777777777778,
             "#fb9f3a"
            ],
            [
             0.8888888888888888,
             "#fdca26"
            ],
            [
             1,
             "#f0f921"
            ]
           ],
           "sequentialminus": [
            [
             0,
             "#0d0887"
            ],
            [
             0.1111111111111111,
             "#46039f"
            ],
            [
             0.2222222222222222,
             "#7201a8"
            ],
            [
             0.3333333333333333,
             "#9c179e"
            ],
            [
             0.4444444444444444,
             "#bd3786"
            ],
            [
             0.5555555555555556,
             "#d8576b"
            ],
            [
             0.6666666666666666,
             "#ed7953"
            ],
            [
             0.7777777777777778,
             "#fb9f3a"
            ],
            [
             0.8888888888888888,
             "#fdca26"
            ],
            [
             1,
             "#f0f921"
            ]
           ]
          },
          "colorway": [
           "#636efa",
           "#EF553B",
           "#00cc96",
           "#ab63fa",
           "#FFA15A",
           "#19d3f3",
           "#FF6692",
           "#B6E880",
           "#FF97FF",
           "#FECB52"
          ],
          "font": {
           "color": "#2a3f5f"
          },
          "geo": {
           "bgcolor": "white",
           "lakecolor": "white",
           "landcolor": "white",
           "showlakes": true,
           "showland": true,
           "subunitcolor": "#C8D4E3"
          },
          "hoverlabel": {
           "align": "left"
          },
          "hovermode": "closest",
          "mapbox": {
           "style": "light"
          },
          "paper_bgcolor": "white",
          "plot_bgcolor": "white",
          "polar": {
           "angularaxis": {
            "gridcolor": "#EBF0F8",
            "linecolor": "#EBF0F8",
            "ticks": ""
           },
           "bgcolor": "white",
           "radialaxis": {
            "gridcolor": "#EBF0F8",
            "linecolor": "#EBF0F8",
            "ticks": ""
           }
          },
          "scene": {
           "xaxis": {
            "backgroundcolor": "white",
            "gridcolor": "#DFE8F3",
            "gridwidth": 2,
            "linecolor": "#EBF0F8",
            "showbackground": true,
            "ticks": "",
            "zerolinecolor": "#EBF0F8"
           },
           "yaxis": {
            "backgroundcolor": "white",
            "gridcolor": "#DFE8F3",
            "gridwidth": 2,
            "linecolor": "#EBF0F8",
            "showbackground": true,
            "ticks": "",
            "zerolinecolor": "#EBF0F8"
           },
           "zaxis": {
            "backgroundcolor": "white",
            "gridcolor": "#DFE8F3",
            "gridwidth": 2,
            "linecolor": "#EBF0F8",
            "showbackground": true,
            "ticks": "",
            "zerolinecolor": "#EBF0F8"
           }
          },
          "shapedefaults": {
           "line": {
            "color": "#2a3f5f"
           }
          },
          "ternary": {
           "aaxis": {
            "gridcolor": "#DFE8F3",
            "linecolor": "#A2B1C6",
            "ticks": ""
           },
           "baxis": {
            "gridcolor": "#DFE8F3",
            "linecolor": "#A2B1C6",
            "ticks": ""
           },
           "bgcolor": "white",
           "caxis": {
            "gridcolor": "#DFE8F3",
            "linecolor": "#A2B1C6",
            "ticks": ""
           }
          },
          "title": {
           "x": 0.05
          },
          "xaxis": {
           "automargin": true,
           "gridcolor": "#EBF0F8",
           "linecolor": "#EBF0F8",
           "ticks": "",
           "title": {
            "standoff": 15
           },
           "zerolinecolor": "#EBF0F8",
           "zerolinewidth": 2
          },
          "yaxis": {
           "automargin": true,
           "gridcolor": "#EBF0F8",
           "linecolor": "#EBF0F8",
           "ticks": "",
           "title": {
            "standoff": 15
           },
           "zerolinecolor": "#EBF0F8",
           "zerolinewidth": 2
          }
         }
        },
        "title": {
         "font": {
          "color": "Black",
          "size": 22
         },
         "text": "Topic Word Scores",
         "x": 0.5,
         "xanchor": "center",
         "yanchor": "top"
        },
        "width": 1000,
        "xaxis": {
         "anchor": "y",
         "domain": [
          0,
          0.175
         ],
         "showgrid": true
        },
        "xaxis2": {
         "anchor": "y2",
         "domain": [
          0.275,
          0.45
         ],
         "showgrid": true
        },
        "xaxis3": {
         "anchor": "y3",
         "domain": [
          0.55,
          0.7250000000000001
         ],
         "showgrid": true
        },
        "xaxis4": {
         "anchor": "y4",
         "domain": [
          0.825,
          1
         ],
         "showgrid": true
        },
        "xaxis5": {
         "anchor": "y5",
         "domain": [
          0,
          0.175
         ],
         "showgrid": true
        },
        "xaxis6": {
         "anchor": "y6",
         "domain": [
          0.275,
          0.45
         ],
         "showgrid": true
        },
        "xaxis7": {
         "anchor": "y7",
         "domain": [
          0.55,
          0.7250000000000001
         ],
         "showgrid": true
        },
        "xaxis8": {
         "anchor": "y8",
         "domain": [
          0.825,
          1
         ],
         "showgrid": true
        },
        "yaxis": {
         "anchor": "x",
         "domain": [
          0.6000000000000001,
          1
         ],
         "showgrid": true
        },
        "yaxis2": {
         "anchor": "x2",
         "domain": [
          0.6000000000000001,
          1
         ],
         "showgrid": true
        },
        "yaxis3": {
         "anchor": "x3",
         "domain": [
          0.6000000000000001,
          1
         ],
         "showgrid": true
        },
        "yaxis4": {
         "anchor": "x4",
         "domain": [
          0.6000000000000001,
          1
         ],
         "showgrid": true
        },
        "yaxis5": {
         "anchor": "x5",
         "domain": [
          0,
          0.4
         ],
         "showgrid": true
        },
        "yaxis6": {
         "anchor": "x6",
         "domain": [
          0,
          0.4
         ],
         "showgrid": true
        },
        "yaxis7": {
         "anchor": "x7",
         "domain": [
          0,
          0.4
         ],
         "showgrid": true
        },
        "yaxis8": {
         "anchor": "x8",
         "domain": [
          0,
          0.4
         ],
         "showgrid": true
        }
       }
      },
      "text/html": [
       "<div>                        <script type=\"text/javascript\">window.PlotlyConfig = {MathJaxConfig: 'local'};</script>\n",
       "        <script charset=\"utf-8\" src=\"https://cdn.plot.ly/plotly-3.0.0.min.js\"></script>                <div id=\"57afcd5e-022a-4e42-99fb-898e45c8a49c\" class=\"plotly-graph-div\" style=\"height:500px; width:1000px;\"></div>            <script type=\"text/javascript\">                window.PLOTLYENV=window.PLOTLYENV || {};                                if (document.getElementById(\"57afcd5e-022a-4e42-99fb-898e45c8a49c\")) {                    Plotly.newPlot(                        \"57afcd5e-022a-4e42-99fb-898e45c8a49c\",                        [{\"marker\":{\"color\":\"#D55E00\"},\"orientation\":\"h\",\"x\":[0.0531776180855953,0.05977783508879105,0.06239145874965178,0.06475841855227066,0.07708417236585234],\"y\":[\"accessories  \",\"online  \",\"fashion  \",\"shoes  \",\"clothing  \"],\"type\":\"bar\",\"xaxis\":\"x\",\"yaxis\":\"y\"},{\"marker\":{\"color\":\"#0072B2\"},\"orientation\":\"h\",\"x\":[0.08442161171580391,0.09716799447730708,0.10276516679201977,0.10725808684382353,0.12560361393815156],\"y\":[\"retail sale  \",\"sale  \",\"engaged  \",\"engaged retail  \",\"retail  \"],\"type\":\"bar\",\"xaxis\":\"x2\",\"yaxis\":\"y2\"},{\"marker\":{\"color\":\"#CC79A7\"},\"orientation\":\"h\",\"x\":[0.06731109435319337,0.06731109435319337,0.07322329270447171,0.14153108018381214,0.19419813962742893],\"y\":[\"sale jewelry  \",\"jewelry watches  \",\"watchmaking  \",\"watches  \",\"jewelry  \"],\"type\":\"bar\",\"xaxis\":\"x3\",\"yaxis\":\"y3\"},{\"marker\":{\"color\":\"#E69F00\"},\"orientation\":\"h\",\"x\":[0.07330756456605882,0.08183931080084869,0.08892412288274212,0.11260470961200415,0.11565297901220035],\"y\":[\"online store  \",\"clothes  \",\"online  \",\"bolaget  \",\"store  \"],\"type\":\"bar\",\"xaxis\":\"x4\",\"yaxis\":\"y4\"},{\"marker\":{\"color\":\"#56B4E9\"},\"orientation\":\"h\",\"x\":[0.14093825448129915,0.1450204853259806,0.16680427008392296,0.1949041594410056,0.2136499603204199],\"y\":[\"stores  \",\"operation management  \",\"management  \",\"engaged operation  \",\"operation  \"],\"type\":\"bar\",\"xaxis\":\"x5\",\"yaxis\":\"y5\"},{\"marker\":{\"color\":\"#009E73\"},\"orientation\":\"h\",\"x\":[0.14284780041013265,0.14284780041013265,0.14284780041013265,0.1481272808855306,0.17865128371861075],\"y\":[\"new clothing  \",\"general line  \",\"line new  \",\"store engaged  \",\"operates  \"],\"type\":\"bar\",\"xaxis\":\"x6\",\"yaxis\":\"y6\"},{\"marker\":{\"color\":\"#F0E442\"},\"orientation\":\"h\",\"x\":[0.09312296365902338,0.09594483278883775,0.09821206142101062,0.10307309861498386,0.10307309861498386],\"y\":[\"involved  \",\"involved retail  \",\"chain  \",\"stores involved  \",\"chain shoe  \"],\"type\":\"bar\",\"xaxis\":\"x7\",\"yaxis\":\"y7\"}],                        {\"template\":{\"data\":{\"barpolar\":[{\"marker\":{\"line\":{\"color\":\"white\",\"width\":0.5},\"pattern\":{\"fillmode\":\"overlay\",\"size\":10,\"solidity\":0.2}},\"type\":\"barpolar\"}],\"bar\":[{\"error_x\":{\"color\":\"#2a3f5f\"},\"error_y\":{\"color\":\"#2a3f5f\"},\"marker\":{\"line\":{\"color\":\"white\",\"width\":0.5},\"pattern\":{\"fillmode\":\"overlay\",\"size\":10,\"solidity\":0.2}},\"type\":\"bar\"}],\"carpet\":[{\"aaxis\":{\"endlinecolor\":\"#2a3f5f\",\"gridcolor\":\"#C8D4E3\",\"linecolor\":\"#C8D4E3\",\"minorgridcolor\":\"#C8D4E3\",\"startlinecolor\":\"#2a3f5f\"},\"baxis\":{\"endlinecolor\":\"#2a3f5f\",\"gridcolor\":\"#C8D4E3\",\"linecolor\":\"#C8D4E3\",\"minorgridcolor\":\"#C8D4E3\",\"startlinecolor\":\"#2a3f5f\"},\"type\":\"carpet\"}],\"choropleth\":[{\"colorbar\":{\"outlinewidth\":0,\"ticks\":\"\"},\"type\":\"choropleth\"}],\"contourcarpet\":[{\"colorbar\":{\"outlinewidth\":0,\"ticks\":\"\"},\"type\":\"contourcarpet\"}],\"contour\":[{\"colorbar\":{\"outlinewidth\":0,\"ticks\":\"\"},\"colorscale\":[[0.0,\"#0d0887\"],[0.1111111111111111,\"#46039f\"],[0.2222222222222222,\"#7201a8\"],[0.3333333333333333,\"#9c179e\"],[0.4444444444444444,\"#bd3786\"],[0.5555555555555556,\"#d8576b\"],[0.6666666666666666,\"#ed7953\"],[0.7777777777777778,\"#fb9f3a\"],[0.8888888888888888,\"#fdca26\"],[1.0,\"#f0f921\"]],\"type\":\"contour\"}],\"heatmap\":[{\"colorbar\":{\"outlinewidth\":0,\"ticks\":\"\"},\"colorscale\":[[0.0,\"#0d0887\"],[0.1111111111111111,\"#46039f\"],[0.2222222222222222,\"#7201a8\"],[0.3333333333333333,\"#9c179e\"],[0.4444444444444444,\"#bd3786\"],[0.5555555555555556,\"#d8576b\"],[0.6666666666666666,\"#ed7953\"],[0.7777777777777778,\"#fb9f3a\"],[0.8888888888888888,\"#fdca26\"],[1.0,\"#f0f921\"]],\"type\":\"heatmap\"}],\"histogram2dcontour\":[{\"colorbar\":{\"outlinewidth\":0,\"ticks\":\"\"},\"colorscale\":[[0.0,\"#0d0887\"],[0.1111111111111111,\"#46039f\"],[0.2222222222222222,\"#7201a8\"],[0.3333333333333333,\"#9c179e\"],[0.4444444444444444,\"#bd3786\"],[0.5555555555555556,\"#d8576b\"],[0.6666666666666666,\"#ed7953\"],[0.7777777777777778,\"#fb9f3a\"],[0.8888888888888888,\"#fdca26\"],[1.0,\"#f0f921\"]],\"type\":\"histogram2dcontour\"}],\"histogram2d\":[{\"colorbar\":{\"outlinewidth\":0,\"ticks\":\"\"},\"colorscale\":[[0.0,\"#0d0887\"],[0.1111111111111111,\"#46039f\"],[0.2222222222222222,\"#7201a8\"],[0.3333333333333333,\"#9c179e\"],[0.4444444444444444,\"#bd3786\"],[0.5555555555555556,\"#d8576b\"],[0.6666666666666666,\"#ed7953\"],[0.7777777777777778,\"#fb9f3a\"],[0.8888888888888888,\"#fdca26\"],[1.0,\"#f0f921\"]],\"type\":\"histogram2d\"}],\"histogram\":[{\"marker\":{\"pattern\":{\"fillmode\":\"overlay\",\"size\":10,\"solidity\":0.2}},\"type\":\"histogram\"}],\"mesh3d\":[{\"colorbar\":{\"outlinewidth\":0,\"ticks\":\"\"},\"type\":\"mesh3d\"}],\"parcoords\":[{\"line\":{\"colorbar\":{\"outlinewidth\":0,\"ticks\":\"\"}},\"type\":\"parcoords\"}],\"pie\":[{\"automargin\":true,\"type\":\"pie\"}],\"scatter3d\":[{\"line\":{\"colorbar\":{\"outlinewidth\":0,\"ticks\":\"\"}},\"marker\":{\"colorbar\":{\"outlinewidth\":0,\"ticks\":\"\"}},\"type\":\"scatter3d\"}],\"scattercarpet\":[{\"marker\":{\"colorbar\":{\"outlinewidth\":0,\"ticks\":\"\"}},\"type\":\"scattercarpet\"}],\"scattergeo\":[{\"marker\":{\"colorbar\":{\"outlinewidth\":0,\"ticks\":\"\"}},\"type\":\"scattergeo\"}],\"scattergl\":[{\"marker\":{\"colorbar\":{\"outlinewidth\":0,\"ticks\":\"\"}},\"type\":\"scattergl\"}],\"scattermapbox\":[{\"marker\":{\"colorbar\":{\"outlinewidth\":0,\"ticks\":\"\"}},\"type\":\"scattermapbox\"}],\"scattermap\":[{\"marker\":{\"colorbar\":{\"outlinewidth\":0,\"ticks\":\"\"}},\"type\":\"scattermap\"}],\"scatterpolargl\":[{\"marker\":{\"colorbar\":{\"outlinewidth\":0,\"ticks\":\"\"}},\"type\":\"scatterpolargl\"}],\"scatterpolar\":[{\"marker\":{\"colorbar\":{\"outlinewidth\":0,\"ticks\":\"\"}},\"type\":\"scatterpolar\"}],\"scatter\":[{\"fillpattern\":{\"fillmode\":\"overlay\",\"size\":10,\"solidity\":0.2},\"type\":\"scatter\"}],\"scatterternary\":[{\"marker\":{\"colorbar\":{\"outlinewidth\":0,\"ticks\":\"\"}},\"type\":\"scatterternary\"}],\"surface\":[{\"colorbar\":{\"outlinewidth\":0,\"ticks\":\"\"},\"colorscale\":[[0.0,\"#0d0887\"],[0.1111111111111111,\"#46039f\"],[0.2222222222222222,\"#7201a8\"],[0.3333333333333333,\"#9c179e\"],[0.4444444444444444,\"#bd3786\"],[0.5555555555555556,\"#d8576b\"],[0.6666666666666666,\"#ed7953\"],[0.7777777777777778,\"#fb9f3a\"],[0.8888888888888888,\"#fdca26\"],[1.0,\"#f0f921\"]],\"type\":\"surface\"}],\"table\":[{\"cells\":{\"fill\":{\"color\":\"#EBF0F8\"},\"line\":{\"color\":\"white\"}},\"header\":{\"fill\":{\"color\":\"#C8D4E3\"},\"line\":{\"color\":\"white\"}},\"type\":\"table\"}]},\"layout\":{\"annotationdefaults\":{\"arrowcolor\":\"#2a3f5f\",\"arrowhead\":0,\"arrowwidth\":1},\"autotypenumbers\":\"strict\",\"coloraxis\":{\"colorbar\":{\"outlinewidth\":0,\"ticks\":\"\"}},\"colorscale\":{\"diverging\":[[0,\"#8e0152\"],[0.1,\"#c51b7d\"],[0.2,\"#de77ae\"],[0.3,\"#f1b6da\"],[0.4,\"#fde0ef\"],[0.5,\"#f7f7f7\"],[0.6,\"#e6f5d0\"],[0.7,\"#b8e186\"],[0.8,\"#7fbc41\"],[0.9,\"#4d9221\"],[1,\"#276419\"]],\"sequential\":[[0.0,\"#0d0887\"],[0.1111111111111111,\"#46039f\"],[0.2222222222222222,\"#7201a8\"],[0.3333333333333333,\"#9c179e\"],[0.4444444444444444,\"#bd3786\"],[0.5555555555555556,\"#d8576b\"],[0.6666666666666666,\"#ed7953\"],[0.7777777777777778,\"#fb9f3a\"],[0.8888888888888888,\"#fdca26\"],[1.0,\"#f0f921\"]],\"sequentialminus\":[[0.0,\"#0d0887\"],[0.1111111111111111,\"#46039f\"],[0.2222222222222222,\"#7201a8\"],[0.3333333333333333,\"#9c179e\"],[0.4444444444444444,\"#bd3786\"],[0.5555555555555556,\"#d8576b\"],[0.6666666666666666,\"#ed7953\"],[0.7777777777777778,\"#fb9f3a\"],[0.8888888888888888,\"#fdca26\"],[1.0,\"#f0f921\"]]},\"colorway\":[\"#636efa\",\"#EF553B\",\"#00cc96\",\"#ab63fa\",\"#FFA15A\",\"#19d3f3\",\"#FF6692\",\"#B6E880\",\"#FF97FF\",\"#FECB52\"],\"font\":{\"color\":\"#2a3f5f\"},\"geo\":{\"bgcolor\":\"white\",\"lakecolor\":\"white\",\"landcolor\":\"white\",\"showlakes\":true,\"showland\":true,\"subunitcolor\":\"#C8D4E3\"},\"hoverlabel\":{\"align\":\"left\"},\"hovermode\":\"closest\",\"mapbox\":{\"style\":\"light\"},\"paper_bgcolor\":\"white\",\"plot_bgcolor\":\"white\",\"polar\":{\"angularaxis\":{\"gridcolor\":\"#EBF0F8\",\"linecolor\":\"#EBF0F8\",\"ticks\":\"\"},\"bgcolor\":\"white\",\"radialaxis\":{\"gridcolor\":\"#EBF0F8\",\"linecolor\":\"#EBF0F8\",\"ticks\":\"\"}},\"scene\":{\"xaxis\":{\"backgroundcolor\":\"white\",\"gridcolor\":\"#DFE8F3\",\"gridwidth\":2,\"linecolor\":\"#EBF0F8\",\"showbackground\":true,\"ticks\":\"\",\"zerolinecolor\":\"#EBF0F8\"},\"yaxis\":{\"backgroundcolor\":\"white\",\"gridcolor\":\"#DFE8F3\",\"gridwidth\":2,\"linecolor\":\"#EBF0F8\",\"showbackground\":true,\"ticks\":\"\",\"zerolinecolor\":\"#EBF0F8\"},\"zaxis\":{\"backgroundcolor\":\"white\",\"gridcolor\":\"#DFE8F3\",\"gridwidth\":2,\"linecolor\":\"#EBF0F8\",\"showbackground\":true,\"ticks\":\"\",\"zerolinecolor\":\"#EBF0F8\"}},\"shapedefaults\":{\"line\":{\"color\":\"#2a3f5f\"}},\"ternary\":{\"aaxis\":{\"gridcolor\":\"#DFE8F3\",\"linecolor\":\"#A2B1C6\",\"ticks\":\"\"},\"baxis\":{\"gridcolor\":\"#DFE8F3\",\"linecolor\":\"#A2B1C6\",\"ticks\":\"\"},\"bgcolor\":\"white\",\"caxis\":{\"gridcolor\":\"#DFE8F3\",\"linecolor\":\"#A2B1C6\",\"ticks\":\"\"}},\"title\":{\"x\":0.05},\"xaxis\":{\"automargin\":true,\"gridcolor\":\"#EBF0F8\",\"linecolor\":\"#EBF0F8\",\"ticks\":\"\",\"title\":{\"standoff\":15},\"zerolinecolor\":\"#EBF0F8\",\"zerolinewidth\":2},\"yaxis\":{\"automargin\":true,\"gridcolor\":\"#EBF0F8\",\"linecolor\":\"#EBF0F8\",\"ticks\":\"\",\"title\":{\"standoff\":15},\"zerolinecolor\":\"#EBF0F8\",\"zerolinewidth\":2}}},\"xaxis\":{\"anchor\":\"y\",\"domain\":[0.0,0.175],\"showgrid\":true},\"yaxis\":{\"anchor\":\"x\",\"domain\":[0.6000000000000001,1.0],\"showgrid\":true},\"xaxis2\":{\"anchor\":\"y2\",\"domain\":[0.275,0.45],\"showgrid\":true},\"yaxis2\":{\"anchor\":\"x2\",\"domain\":[0.6000000000000001,1.0],\"showgrid\":true},\"xaxis3\":{\"anchor\":\"y3\",\"domain\":[0.55,0.7250000000000001],\"showgrid\":true},\"yaxis3\":{\"anchor\":\"x3\",\"domain\":[0.6000000000000001,1.0],\"showgrid\":true},\"xaxis4\":{\"anchor\":\"y4\",\"domain\":[0.825,1.0],\"showgrid\":true},\"yaxis4\":{\"anchor\":\"x4\",\"domain\":[0.6000000000000001,1.0],\"showgrid\":true},\"xaxis5\":{\"anchor\":\"y5\",\"domain\":[0.0,0.175],\"showgrid\":true},\"yaxis5\":{\"anchor\":\"x5\",\"domain\":[0.0,0.4],\"showgrid\":true},\"xaxis6\":{\"anchor\":\"y6\",\"domain\":[0.275,0.45],\"showgrid\":true},\"yaxis6\":{\"anchor\":\"x6\",\"domain\":[0.0,0.4],\"showgrid\":true},\"xaxis7\":{\"anchor\":\"y7\",\"domain\":[0.55,0.7250000000000001],\"showgrid\":true},\"yaxis7\":{\"anchor\":\"x7\",\"domain\":[0.0,0.4],\"showgrid\":true},\"xaxis8\":{\"anchor\":\"y8\",\"domain\":[0.825,1.0],\"showgrid\":true},\"yaxis8\":{\"anchor\":\"x8\",\"domain\":[0.0,0.4],\"showgrid\":true},\"annotations\":[{\"font\":{\"size\":16},\"showarrow\":false,\"text\":\"Topic 0\",\"x\":0.0875,\"xanchor\":\"center\",\"xref\":\"paper\",\"y\":1.0,\"yanchor\":\"bottom\",\"yref\":\"paper\"},{\"font\":{\"size\":16},\"showarrow\":false,\"text\":\"Topic 1\",\"x\":0.36250000000000004,\"xanchor\":\"center\",\"xref\":\"paper\",\"y\":1.0,\"yanchor\":\"bottom\",\"yref\":\"paper\"},{\"font\":{\"size\":16},\"showarrow\":false,\"text\":\"Topic 2\",\"x\":0.6375000000000001,\"xanchor\":\"center\",\"xref\":\"paper\",\"y\":1.0,\"yanchor\":\"bottom\",\"yref\":\"paper\"},{\"font\":{\"size\":16},\"showarrow\":false,\"text\":\"Topic 3\",\"x\":0.9125,\"xanchor\":\"center\",\"xref\":\"paper\",\"y\":1.0,\"yanchor\":\"bottom\",\"yref\":\"paper\"},{\"font\":{\"size\":16},\"showarrow\":false,\"text\":\"Topic 4\",\"x\":0.0875,\"xanchor\":\"center\",\"xref\":\"paper\",\"y\":0.4,\"yanchor\":\"bottom\",\"yref\":\"paper\"},{\"font\":{\"size\":16},\"showarrow\":false,\"text\":\"Topic 5\",\"x\":0.36250000000000004,\"xanchor\":\"center\",\"xref\":\"paper\",\"y\":0.4,\"yanchor\":\"bottom\",\"yref\":\"paper\"},{\"font\":{\"size\":16},\"showarrow\":false,\"text\":\"Topic 6\",\"x\":0.6375000000000001,\"xanchor\":\"center\",\"xref\":\"paper\",\"y\":0.4,\"yanchor\":\"bottom\",\"yref\":\"paper\"}],\"title\":{\"font\":{\"size\":22,\"color\":\"Black\"},\"text\":\"Topic Word Scores\",\"x\":0.5,\"xanchor\":\"center\",\"yanchor\":\"top\"},\"hoverlabel\":{\"font\":{\"size\":16,\"family\":\"Rockwell\"},\"bgcolor\":\"white\"},\"showlegend\":false,\"width\":1000,\"height\":500},                        {\"responsive\": true}                    )                };            </script>        </div>"
      ],
      "text/plain": [
       "Figure({\n",
       "    'data': [{'marker': {'color': '#D55E00'},\n",
       "              'orientation': 'h',\n",
       "              'type': 'bar',\n",
       "              'x': [0.0531776180855953, 0.05977783508879105, 0.06239145874965178,\n",
       "                    0.06475841855227066, 0.07708417236585234],\n",
       "              'xaxis': 'x',\n",
       "              'y': [accessories  , online  , fashion  , shoes  , clothing  ],\n",
       "              'yaxis': 'y'},\n",
       "             {'marker': {'color': '#0072B2'},\n",
       "              'orientation': 'h',\n",
       "              'type': 'bar',\n",
       "              'x': [0.08442161171580391, 0.09716799447730708, 0.10276516679201977,\n",
       "                    0.10725808684382353, 0.12560361393815156],\n",
       "              'xaxis': 'x2',\n",
       "              'y': [retail sale  , sale  , engaged  , engaged retail  , retail  ],\n",
       "              'yaxis': 'y2'},\n",
       "             {'marker': {'color': '#CC79A7'},\n",
       "              'orientation': 'h',\n",
       "              'type': 'bar',\n",
       "              'x': [0.06731109435319337, 0.06731109435319337, 0.07322329270447171,\n",
       "                    0.14153108018381214, 0.19419813962742893],\n",
       "              'xaxis': 'x3',\n",
       "              'y': [sale jewelry  , jewelry watches  , watchmaking  , watches  ,\n",
       "                    jewelry  ],\n",
       "              'yaxis': 'y3'},\n",
       "             {'marker': {'color': '#E69F00'},\n",
       "              'orientation': 'h',\n",
       "              'type': 'bar',\n",
       "              'x': [0.07330756456605882, 0.08183931080084869, 0.08892412288274212,\n",
       "                    0.11260470961200415, 0.11565297901220035],\n",
       "              'xaxis': 'x4',\n",
       "              'y': [online store  , clothes  , online  , bolaget  , store  ],\n",
       "              'yaxis': 'y4'},\n",
       "             {'marker': {'color': '#56B4E9'},\n",
       "              'orientation': 'h',\n",
       "              'type': 'bar',\n",
       "              'x': [0.14093825448129915, 0.1450204853259806, 0.16680427008392296,\n",
       "                    0.1949041594410056, 0.2136499603204199],\n",
       "              'xaxis': 'x5',\n",
       "              'y': [stores  , operation management  , management  , engaged\n",
       "                    operation  , operation  ],\n",
       "              'yaxis': 'y5'},\n",
       "             {'marker': {'color': '#009E73'},\n",
       "              'orientation': 'h',\n",
       "              'type': 'bar',\n",
       "              'x': [0.14284780041013265, 0.14284780041013265, 0.14284780041013265,\n",
       "                    0.1481272808855306, 0.17865128371861075],\n",
       "              'xaxis': 'x6',\n",
       "              'y': [new clothing  , general line  , line new  , store engaged  ,\n",
       "                    operates  ],\n",
       "              'yaxis': 'y6'},\n",
       "             {'marker': {'color': '#F0E442'},\n",
       "              'orientation': 'h',\n",
       "              'type': 'bar',\n",
       "              'x': [0.09312296365902338, 0.09594483278883775, 0.09821206142101062,\n",
       "                    0.10307309861498386, 0.10307309861498386],\n",
       "              'xaxis': 'x7',\n",
       "              'y': [involved  , involved retail  , chain  , stores involved  ,\n",
       "                    chain shoe  ],\n",
       "              'yaxis': 'y7'}],\n",
       "    'layout': {'annotations': [{'font': {'size': 16},\n",
       "                                'showarrow': False,\n",
       "                                'text': 'Topic 0',\n",
       "                                'x': 0.0875,\n",
       "                                'xanchor': 'center',\n",
       "                                'xref': 'paper',\n",
       "                                'y': 1.0,\n",
       "                                'yanchor': 'bottom',\n",
       "                                'yref': 'paper'},\n",
       "                               {'font': {'size': 16},\n",
       "                                'showarrow': False,\n",
       "                                'text': 'Topic 1',\n",
       "                                'x': 0.36250000000000004,\n",
       "                                'xanchor': 'center',\n",
       "                                'xref': 'paper',\n",
       "                                'y': 1.0,\n",
       "                                'yanchor': 'bottom',\n",
       "                                'yref': 'paper'},\n",
       "                               {'font': {'size': 16},\n",
       "                                'showarrow': False,\n",
       "                                'text': 'Topic 2',\n",
       "                                'x': 0.6375000000000001,\n",
       "                                'xanchor': 'center',\n",
       "                                'xref': 'paper',\n",
       "                                'y': 1.0,\n",
       "                                'yanchor': 'bottom',\n",
       "                                'yref': 'paper'},\n",
       "                               {'font': {'size': 16},\n",
       "                                'showarrow': False,\n",
       "                                'text': 'Topic 3',\n",
       "                                'x': 0.9125,\n",
       "                                'xanchor': 'center',\n",
       "                                'xref': 'paper',\n",
       "                                'y': 1.0,\n",
       "                                'yanchor': 'bottom',\n",
       "                                'yref': 'paper'},\n",
       "                               {'font': {'size': 16},\n",
       "                                'showarrow': False,\n",
       "                                'text': 'Topic 4',\n",
       "                                'x': 0.0875,\n",
       "                                'xanchor': 'center',\n",
       "                                'xref': 'paper',\n",
       "                                'y': 0.4,\n",
       "                                'yanchor': 'bottom',\n",
       "                                'yref': 'paper'},\n",
       "                               {'font': {'size': 16},\n",
       "                                'showarrow': False,\n",
       "                                'text': 'Topic 5',\n",
       "                                'x': 0.36250000000000004,\n",
       "                                'xanchor': 'center',\n",
       "                                'xref': 'paper',\n",
       "                                'y': 0.4,\n",
       "                                'yanchor': 'bottom',\n",
       "                                'yref': 'paper'},\n",
       "                               {'font': {'size': 16},\n",
       "                                'showarrow': False,\n",
       "                                'text': 'Topic 6',\n",
       "                                'x': 0.6375000000000001,\n",
       "                                'xanchor': 'center',\n",
       "                                'xref': 'paper',\n",
       "                                'y': 0.4,\n",
       "                                'yanchor': 'bottom',\n",
       "                                'yref': 'paper'}],\n",
       "               'height': 500,\n",
       "               'hoverlabel': {'bgcolor': 'white', 'font': {'family': 'Rockwell', 'size': 16}},\n",
       "               'showlegend': False,\n",
       "               'template': '...',\n",
       "               'title': {'font': {'color': 'Black', 'size': 22},\n",
       "                         'text': 'Topic Word Scores',\n",
       "                         'x': 0.5,\n",
       "                         'xanchor': 'center',\n",
       "                         'yanchor': 'top'},\n",
       "               'width': 1000,\n",
       "               'xaxis': {'anchor': 'y', 'domain': [0.0, 0.175], 'showgrid': True},\n",
       "               'xaxis2': {'anchor': 'y2', 'domain': [0.275, 0.45], 'showgrid': True},\n",
       "               'xaxis3': {'anchor': 'y3', 'domain': [0.55, 0.7250000000000001], 'showgrid': True},\n",
       "               'xaxis4': {'anchor': 'y4', 'domain': [0.825, 1.0], 'showgrid': True},\n",
       "               'xaxis5': {'anchor': 'y5', 'domain': [0.0, 0.175], 'showgrid': True},\n",
       "               'xaxis6': {'anchor': 'y6', 'domain': [0.275, 0.45], 'showgrid': True},\n",
       "               'xaxis7': {'anchor': 'y7', 'domain': [0.55, 0.7250000000000001], 'showgrid': True},\n",
       "               'xaxis8': {'anchor': 'y8', 'domain': [0.825, 1.0], 'showgrid': True},\n",
       "               'yaxis': {'anchor': 'x', 'domain': [0.6000000000000001, 1.0], 'showgrid': True},\n",
       "               'yaxis2': {'anchor': 'x2', 'domain': [0.6000000000000001, 1.0], 'showgrid': True},\n",
       "               'yaxis3': {'anchor': 'x3', 'domain': [0.6000000000000001, 1.0], 'showgrid': True},\n",
       "               'yaxis4': {'anchor': 'x4', 'domain': [0.6000000000000001, 1.0], 'showgrid': True},\n",
       "               'yaxis5': {'anchor': 'x5', 'domain': [0.0, 0.4], 'showgrid': True},\n",
       "               'yaxis6': {'anchor': 'x6', 'domain': [0.0, 0.4], 'showgrid': True},\n",
       "               'yaxis7': {'anchor': 'x7', 'domain': [0.0, 0.4], 'showgrid': True},\n",
       "               'yaxis8': {'anchor': 'x8', 'domain': [0.0, 0.4], 'showgrid': True}}\n",
       "})"
      ]
     },
     "execution_count": 45,
     "metadata": {},
     "output_type": "execute_result"
    }
   ],
   "source": [
    "topic_model.visualize_barchart(top_n_topics=10)"
   ]
  },
  {
   "cell_type": "code",
   "execution_count": 46,
   "metadata": {},
   "outputs": [
    {
     "ename": "ValueError",
     "evalue": "Mime type rendering requires nbformat>=4.2.0 but it is not installed",
     "output_type": "error",
     "traceback": [
      "\u001b[1;31m---------------------------------------------------------------------------\u001b[0m",
      "\u001b[1;31mValueError\u001b[0m                                Traceback (most recent call last)",
      "File \u001b[1;32mc:\\Users\\dorab\\OneDrive - Ecole Polytechnique\\Documents\\DSB - HECxX\\Year 2\\Data and AI Regulation\\Data_regulation_project\\.env\\Lib\\site-packages\\IPython\\core\\formatters.py:984\u001b[0m, in \u001b[0;36mIPythonDisplayFormatter.__call__\u001b[1;34m(self, obj)\u001b[0m\n\u001b[0;32m    982\u001b[0m method \u001b[38;5;241m=\u001b[39m get_real_method(obj, \u001b[38;5;28mself\u001b[39m\u001b[38;5;241m.\u001b[39mprint_method)\n\u001b[0;32m    983\u001b[0m \u001b[38;5;28;01mif\u001b[39;00m method \u001b[38;5;129;01mis\u001b[39;00m \u001b[38;5;129;01mnot\u001b[39;00m \u001b[38;5;28;01mNone\u001b[39;00m:\n\u001b[1;32m--> 984\u001b[0m     \u001b[43mmethod\u001b[49m\u001b[43m(\u001b[49m\u001b[43m)\u001b[49m\n\u001b[0;32m    985\u001b[0m     \u001b[38;5;28;01mreturn\u001b[39;00m \u001b[38;5;28;01mTrue\u001b[39;00m\n",
      "File \u001b[1;32mc:\\Users\\dorab\\OneDrive - Ecole Polytechnique\\Documents\\DSB - HECxX\\Year 2\\Data and AI Regulation\\Data_regulation_project\\.env\\Lib\\site-packages\\plotly\\basedatatypes.py:833\u001b[0m, in \u001b[0;36mBaseFigure._ipython_display_\u001b[1;34m(self)\u001b[0m\n\u001b[0;32m    830\u001b[0m \u001b[38;5;28;01mimport\u001b[39;00m\u001b[38;5;250m \u001b[39m\u001b[38;5;21;01mplotly\u001b[39;00m\u001b[38;5;21;01m.\u001b[39;00m\u001b[38;5;21;01mio\u001b[39;00m\u001b[38;5;250m \u001b[39m\u001b[38;5;28;01mas\u001b[39;00m\u001b[38;5;250m \u001b[39m\u001b[38;5;21;01mpio\u001b[39;00m\n\u001b[0;32m    832\u001b[0m \u001b[38;5;28;01mif\u001b[39;00m pio\u001b[38;5;241m.\u001b[39mrenderers\u001b[38;5;241m.\u001b[39mrender_on_display \u001b[38;5;129;01mand\u001b[39;00m pio\u001b[38;5;241m.\u001b[39mrenderers\u001b[38;5;241m.\u001b[39mdefault:\n\u001b[1;32m--> 833\u001b[0m     \u001b[43mpio\u001b[49m\u001b[38;5;241;43m.\u001b[39;49m\u001b[43mshow\u001b[49m\u001b[43m(\u001b[49m\u001b[38;5;28;43mself\u001b[39;49m\u001b[43m)\u001b[49m\n\u001b[0;32m    834\u001b[0m \u001b[38;5;28;01melse\u001b[39;00m:\n\u001b[0;32m    835\u001b[0m     \u001b[38;5;28mprint\u001b[39m(\u001b[38;5;28mrepr\u001b[39m(\u001b[38;5;28mself\u001b[39m))\n",
      "File \u001b[1;32mc:\\Users\\dorab\\OneDrive - Ecole Polytechnique\\Documents\\DSB - HECxX\\Year 2\\Data and AI Regulation\\Data_regulation_project\\.env\\Lib\\site-packages\\plotly\\io\\_renderers.py:425\u001b[0m, in \u001b[0;36mshow\u001b[1;34m(fig, renderer, validate, **kwargs)\u001b[0m\n\u001b[0;32m    420\u001b[0m     \u001b[38;5;28;01mraise\u001b[39;00m \u001b[38;5;167;01mValueError\u001b[39;00m(\n\u001b[0;32m    421\u001b[0m         \u001b[38;5;124m\"\u001b[39m\u001b[38;5;124mMime type rendering requires ipython but it is not installed\u001b[39m\u001b[38;5;124m\"\u001b[39m\n\u001b[0;32m    422\u001b[0m     )\n\u001b[0;32m    424\u001b[0m \u001b[38;5;28;01mif\u001b[39;00m \u001b[38;5;129;01mnot\u001b[39;00m nbformat \u001b[38;5;129;01mor\u001b[39;00m Version(nbformat\u001b[38;5;241m.\u001b[39m__version__) \u001b[38;5;241m<\u001b[39m Version(\u001b[38;5;124m\"\u001b[39m\u001b[38;5;124m4.2.0\u001b[39m\u001b[38;5;124m\"\u001b[39m):\n\u001b[1;32m--> 425\u001b[0m     \u001b[38;5;28;01mraise\u001b[39;00m \u001b[38;5;167;01mValueError\u001b[39;00m(\n\u001b[0;32m    426\u001b[0m         \u001b[38;5;124m\"\u001b[39m\u001b[38;5;124mMime type rendering requires nbformat>=4.2.0 but it is not installed\u001b[39m\u001b[38;5;124m\"\u001b[39m\n\u001b[0;32m    427\u001b[0m     )\n\u001b[0;32m    429\u001b[0m display_jupyter_version_warnings()\n\u001b[0;32m    431\u001b[0m ipython_display\u001b[38;5;241m.\u001b[39mdisplay(bundle, raw\u001b[38;5;241m=\u001b[39m\u001b[38;5;28;01mTrue\u001b[39;00m)\n",
      "\u001b[1;31mValueError\u001b[0m: Mime type rendering requires nbformat>=4.2.0 but it is not installed"
     ]
    },
    {
     "data": {
      "application/vnd.plotly.v1+json": {
       "config": {
        "plotlyServerURL": "https://plot.ly"
       },
       "data": [
        {
         "coloraxis": "coloraxis",
         "hovertemplate": "x: %{x}<br>y: %{y}<br>Similarity Score: %{z}<extra></extra>",
         "name": "0",
         "type": "heatmap",
         "x": [
          "0_clothing_shoes_fashion",
          "1_retail_engaged retail_eng...",
          "2_jewelry_watches_watchmaking",
          "3_store_bolaget_online",
          "4_operation_engaged operati...",
          "5_operates_store engaged_li...",
          "6_chain shoe_stores involve..."
         ],
         "xaxis": "x",
         "y": [
          "0_clothing_shoes_fashion",
          "1_retail_engaged retail_eng...",
          "2_jewelry_watches_watchmaking",
          "3_store_bolaget_online",
          "4_operation_engaged operati...",
          "5_operates_store engaged_li...",
          "6_chain shoe_stores involve..."
         ],
         "yaxis": "y",
         "z": {
          "bdata": "AwCAP1wfVT/j2lQ/F/5MP09yQT+7ZUw/psVZP1wfVT8BAIA/bqBOP8TEQz/NTWI/KC1fPzJVXj/j2lQ/bqBOPwAAgD/gWUM/Qro8P3icNT8u0UM/F/5MP8TEQz/gWUM/+/9/P1GrMj/OXkU/KANGP09yQT/NTWI/Qro8P1GrMj/7/38/yvFWPxsMUz+7ZUw/KC1fP3icNT/OXkU/yvFWP/z/fz/OL1M/psVZPzJVXj8u0UM/KANGPxsMUz/OL1M/AACAPw==",
          "dtype": "f4",
          "shape": "7, 7"
         }
        }
       ],
       "layout": {
        "coloraxis": {
         "colorbar": {
          "title": {
           "text": "Similarity Score"
          }
         },
         "colorscale": [
          [
           0,
           "rgb(247,252,240)"
          ],
          [
           0.125,
           "rgb(224,243,219)"
          ],
          [
           0.25,
           "rgb(204,235,197)"
          ],
          [
           0.375,
           "rgb(168,221,181)"
          ],
          [
           0.5,
           "rgb(123,204,196)"
          ],
          [
           0.625,
           "rgb(78,179,211)"
          ],
          [
           0.75,
           "rgb(43,140,190)"
          ],
          [
           0.875,
           "rgb(8,104,172)"
          ],
          [
           1,
           "rgb(8,64,129)"
          ]
         ]
        },
        "height": 800,
        "hoverlabel": {
         "bgcolor": "white",
         "font": {
          "family": "Rockwell",
          "size": 16
         }
        },
        "legend": {
         "title": {
          "text": "Trend"
         }
        },
        "margin": {
         "t": 60
        },
        "showlegend": true,
        "template": {
         "data": {
          "bar": [
           {
            "error_x": {
             "color": "#2a3f5f"
            },
            "error_y": {
             "color": "#2a3f5f"
            },
            "marker": {
             "line": {
              "color": "#E5ECF6",
              "width": 0.5
             },
             "pattern": {
              "fillmode": "overlay",
              "size": 10,
              "solidity": 0.2
             }
            },
            "type": "bar"
           }
          ],
          "barpolar": [
           {
            "marker": {
             "line": {
              "color": "#E5ECF6",
              "width": 0.5
             },
             "pattern": {
              "fillmode": "overlay",
              "size": 10,
              "solidity": 0.2
             }
            },
            "type": "barpolar"
           }
          ],
          "carpet": [
           {
            "aaxis": {
             "endlinecolor": "#2a3f5f",
             "gridcolor": "white",
             "linecolor": "white",
             "minorgridcolor": "white",
             "startlinecolor": "#2a3f5f"
            },
            "baxis": {
             "endlinecolor": "#2a3f5f",
             "gridcolor": "white",
             "linecolor": "white",
             "minorgridcolor": "white",
             "startlinecolor": "#2a3f5f"
            },
            "type": "carpet"
           }
          ],
          "choropleth": [
           {
            "colorbar": {
             "outlinewidth": 0,
             "ticks": ""
            },
            "type": "choropleth"
           }
          ],
          "contour": [
           {
            "colorbar": {
             "outlinewidth": 0,
             "ticks": ""
            },
            "colorscale": [
             [
              0,
              "#0d0887"
             ],
             [
              0.1111111111111111,
              "#46039f"
             ],
             [
              0.2222222222222222,
              "#7201a8"
             ],
             [
              0.3333333333333333,
              "#9c179e"
             ],
             [
              0.4444444444444444,
              "#bd3786"
             ],
             [
              0.5555555555555556,
              "#d8576b"
             ],
             [
              0.6666666666666666,
              "#ed7953"
             ],
             [
              0.7777777777777778,
              "#fb9f3a"
             ],
             [
              0.8888888888888888,
              "#fdca26"
             ],
             [
              1,
              "#f0f921"
             ]
            ],
            "type": "contour"
           }
          ],
          "contourcarpet": [
           {
            "colorbar": {
             "outlinewidth": 0,
             "ticks": ""
            },
            "type": "contourcarpet"
           }
          ],
          "heatmap": [
           {
            "colorbar": {
             "outlinewidth": 0,
             "ticks": ""
            },
            "colorscale": [
             [
              0,
              "#0d0887"
             ],
             [
              0.1111111111111111,
              "#46039f"
             ],
             [
              0.2222222222222222,
              "#7201a8"
             ],
             [
              0.3333333333333333,
              "#9c179e"
             ],
             [
              0.4444444444444444,
              "#bd3786"
             ],
             [
              0.5555555555555556,
              "#d8576b"
             ],
             [
              0.6666666666666666,
              "#ed7953"
             ],
             [
              0.7777777777777778,
              "#fb9f3a"
             ],
             [
              0.8888888888888888,
              "#fdca26"
             ],
             [
              1,
              "#f0f921"
             ]
            ],
            "type": "heatmap"
           }
          ],
          "histogram": [
           {
            "marker": {
             "pattern": {
              "fillmode": "overlay",
              "size": 10,
              "solidity": 0.2
             }
            },
            "type": "histogram"
           }
          ],
          "histogram2d": [
           {
            "colorbar": {
             "outlinewidth": 0,
             "ticks": ""
            },
            "colorscale": [
             [
              0,
              "#0d0887"
             ],
             [
              0.1111111111111111,
              "#46039f"
             ],
             [
              0.2222222222222222,
              "#7201a8"
             ],
             [
              0.3333333333333333,
              "#9c179e"
             ],
             [
              0.4444444444444444,
              "#bd3786"
             ],
             [
              0.5555555555555556,
              "#d8576b"
             ],
             [
              0.6666666666666666,
              "#ed7953"
             ],
             [
              0.7777777777777778,
              "#fb9f3a"
             ],
             [
              0.8888888888888888,
              "#fdca26"
             ],
             [
              1,
              "#f0f921"
             ]
            ],
            "type": "histogram2d"
           }
          ],
          "histogram2dcontour": [
           {
            "colorbar": {
             "outlinewidth": 0,
             "ticks": ""
            },
            "colorscale": [
             [
              0,
              "#0d0887"
             ],
             [
              0.1111111111111111,
              "#46039f"
             ],
             [
              0.2222222222222222,
              "#7201a8"
             ],
             [
              0.3333333333333333,
              "#9c179e"
             ],
             [
              0.4444444444444444,
              "#bd3786"
             ],
             [
              0.5555555555555556,
              "#d8576b"
             ],
             [
              0.6666666666666666,
              "#ed7953"
             ],
             [
              0.7777777777777778,
              "#fb9f3a"
             ],
             [
              0.8888888888888888,
              "#fdca26"
             ],
             [
              1,
              "#f0f921"
             ]
            ],
            "type": "histogram2dcontour"
           }
          ],
          "mesh3d": [
           {
            "colorbar": {
             "outlinewidth": 0,
             "ticks": ""
            },
            "type": "mesh3d"
           }
          ],
          "parcoords": [
           {
            "line": {
             "colorbar": {
              "outlinewidth": 0,
              "ticks": ""
             }
            },
            "type": "parcoords"
           }
          ],
          "pie": [
           {
            "automargin": true,
            "type": "pie"
           }
          ],
          "scatter": [
           {
            "fillpattern": {
             "fillmode": "overlay",
             "size": 10,
             "solidity": 0.2
            },
            "type": "scatter"
           }
          ],
          "scatter3d": [
           {
            "line": {
             "colorbar": {
              "outlinewidth": 0,
              "ticks": ""
             }
            },
            "marker": {
             "colorbar": {
              "outlinewidth": 0,
              "ticks": ""
             }
            },
            "type": "scatter3d"
           }
          ],
          "scattercarpet": [
           {
            "marker": {
             "colorbar": {
              "outlinewidth": 0,
              "ticks": ""
             }
            },
            "type": "scattercarpet"
           }
          ],
          "scattergeo": [
           {
            "marker": {
             "colorbar": {
              "outlinewidth": 0,
              "ticks": ""
             }
            },
            "type": "scattergeo"
           }
          ],
          "scattergl": [
           {
            "marker": {
             "colorbar": {
              "outlinewidth": 0,
              "ticks": ""
             }
            },
            "type": "scattergl"
           }
          ],
          "scattermap": [
           {
            "marker": {
             "colorbar": {
              "outlinewidth": 0,
              "ticks": ""
             }
            },
            "type": "scattermap"
           }
          ],
          "scattermapbox": [
           {
            "marker": {
             "colorbar": {
              "outlinewidth": 0,
              "ticks": ""
             }
            },
            "type": "scattermapbox"
           }
          ],
          "scatterpolar": [
           {
            "marker": {
             "colorbar": {
              "outlinewidth": 0,
              "ticks": ""
             }
            },
            "type": "scatterpolar"
           }
          ],
          "scatterpolargl": [
           {
            "marker": {
             "colorbar": {
              "outlinewidth": 0,
              "ticks": ""
             }
            },
            "type": "scatterpolargl"
           }
          ],
          "scatterternary": [
           {
            "marker": {
             "colorbar": {
              "outlinewidth": 0,
              "ticks": ""
             }
            },
            "type": "scatterternary"
           }
          ],
          "surface": [
           {
            "colorbar": {
             "outlinewidth": 0,
             "ticks": ""
            },
            "colorscale": [
             [
              0,
              "#0d0887"
             ],
             [
              0.1111111111111111,
              "#46039f"
             ],
             [
              0.2222222222222222,
              "#7201a8"
             ],
             [
              0.3333333333333333,
              "#9c179e"
             ],
             [
              0.4444444444444444,
              "#bd3786"
             ],
             [
              0.5555555555555556,
              "#d8576b"
             ],
             [
              0.6666666666666666,
              "#ed7953"
             ],
             [
              0.7777777777777778,
              "#fb9f3a"
             ],
             [
              0.8888888888888888,
              "#fdca26"
             ],
             [
              1,
              "#f0f921"
             ]
            ],
            "type": "surface"
           }
          ],
          "table": [
           {
            "cells": {
             "fill": {
              "color": "#EBF0F8"
             },
             "line": {
              "color": "white"
             }
            },
            "header": {
             "fill": {
              "color": "#C8D4E3"
             },
             "line": {
              "color": "white"
             }
            },
            "type": "table"
           }
          ]
         },
         "layout": {
          "annotationdefaults": {
           "arrowcolor": "#2a3f5f",
           "arrowhead": 0,
           "arrowwidth": 1
          },
          "autotypenumbers": "strict",
          "coloraxis": {
           "colorbar": {
            "outlinewidth": 0,
            "ticks": ""
           }
          },
          "colorscale": {
           "diverging": [
            [
             0,
             "#8e0152"
            ],
            [
             0.1,
             "#c51b7d"
            ],
            [
             0.2,
             "#de77ae"
            ],
            [
             0.3,
             "#f1b6da"
            ],
            [
             0.4,
             "#fde0ef"
            ],
            [
             0.5,
             "#f7f7f7"
            ],
            [
             0.6,
             "#e6f5d0"
            ],
            [
             0.7,
             "#b8e186"
            ],
            [
             0.8,
             "#7fbc41"
            ],
            [
             0.9,
             "#4d9221"
            ],
            [
             1,
             "#276419"
            ]
           ],
           "sequential": [
            [
             0,
             "#0d0887"
            ],
            [
             0.1111111111111111,
             "#46039f"
            ],
            [
             0.2222222222222222,
             "#7201a8"
            ],
            [
             0.3333333333333333,
             "#9c179e"
            ],
            [
             0.4444444444444444,
             "#bd3786"
            ],
            [
             0.5555555555555556,
             "#d8576b"
            ],
            [
             0.6666666666666666,
             "#ed7953"
            ],
            [
             0.7777777777777778,
             "#fb9f3a"
            ],
            [
             0.8888888888888888,
             "#fdca26"
            ],
            [
             1,
             "#f0f921"
            ]
           ],
           "sequentialminus": [
            [
             0,
             "#0d0887"
            ],
            [
             0.1111111111111111,
             "#46039f"
            ],
            [
             0.2222222222222222,
             "#7201a8"
            ],
            [
             0.3333333333333333,
             "#9c179e"
            ],
            [
             0.4444444444444444,
             "#bd3786"
            ],
            [
             0.5555555555555556,
             "#d8576b"
            ],
            [
             0.6666666666666666,
             "#ed7953"
            ],
            [
             0.7777777777777778,
             "#fb9f3a"
            ],
            [
             0.8888888888888888,
             "#fdca26"
            ],
            [
             1,
             "#f0f921"
            ]
           ]
          },
          "colorway": [
           "#636efa",
           "#EF553B",
           "#00cc96",
           "#ab63fa",
           "#FFA15A",
           "#19d3f3",
           "#FF6692",
           "#B6E880",
           "#FF97FF",
           "#FECB52"
          ],
          "font": {
           "color": "#2a3f5f"
          },
          "geo": {
           "bgcolor": "white",
           "lakecolor": "white",
           "landcolor": "#E5ECF6",
           "showlakes": true,
           "showland": true,
           "subunitcolor": "white"
          },
          "hoverlabel": {
           "align": "left"
          },
          "hovermode": "closest",
          "mapbox": {
           "style": "light"
          },
          "paper_bgcolor": "white",
          "plot_bgcolor": "#E5ECF6",
          "polar": {
           "angularaxis": {
            "gridcolor": "white",
            "linecolor": "white",
            "ticks": ""
           },
           "bgcolor": "#E5ECF6",
           "radialaxis": {
            "gridcolor": "white",
            "linecolor": "white",
            "ticks": ""
           }
          },
          "scene": {
           "xaxis": {
            "backgroundcolor": "#E5ECF6",
            "gridcolor": "white",
            "gridwidth": 2,
            "linecolor": "white",
            "showbackground": true,
            "ticks": "",
            "zerolinecolor": "white"
           },
           "yaxis": {
            "backgroundcolor": "#E5ECF6",
            "gridcolor": "white",
            "gridwidth": 2,
            "linecolor": "white",
            "showbackground": true,
            "ticks": "",
            "zerolinecolor": "white"
           },
           "zaxis": {
            "backgroundcolor": "#E5ECF6",
            "gridcolor": "white",
            "gridwidth": 2,
            "linecolor": "white",
            "showbackground": true,
            "ticks": "",
            "zerolinecolor": "white"
           }
          },
          "shapedefaults": {
           "line": {
            "color": "#2a3f5f"
           }
          },
          "ternary": {
           "aaxis": {
            "gridcolor": "white",
            "linecolor": "white",
            "ticks": ""
           },
           "baxis": {
            "gridcolor": "white",
            "linecolor": "white",
            "ticks": ""
           },
           "bgcolor": "#E5ECF6",
           "caxis": {
            "gridcolor": "white",
            "linecolor": "white",
            "ticks": ""
           }
          },
          "title": {
           "x": 0.05
          },
          "xaxis": {
           "automargin": true,
           "gridcolor": "white",
           "linecolor": "white",
           "ticks": "",
           "title": {
            "standoff": 15
           },
           "zerolinecolor": "white",
           "zerolinewidth": 2
          },
          "yaxis": {
           "automargin": true,
           "gridcolor": "white",
           "linecolor": "white",
           "ticks": "",
           "title": {
            "standoff": 15
           },
           "zerolinecolor": "white",
           "zerolinewidth": 2
          }
         }
        },
        "title": {
         "font": {
          "color": "Black",
          "size": 22
         },
         "text": "<b>Similarity Matrix</b>",
         "x": 0.55,
         "xanchor": "center",
         "y": 0.95,
         "yanchor": "top"
        },
        "width": 800,
        "xaxis": {
         "anchor": "y",
         "constrain": "domain",
         "domain": [
          0,
          1
         ],
         "scaleanchor": "y"
        },
        "yaxis": {
         "anchor": "x",
         "autorange": "reversed",
         "constrain": "domain",
         "domain": [
          0,
          1
         ]
        }
       }
      },
      "text/html": [
       "<div>                        <script type=\"text/javascript\">window.PlotlyConfig = {MathJaxConfig: 'local'};</script>\n",
       "        <script charset=\"utf-8\" src=\"https://cdn.plot.ly/plotly-3.0.0.min.js\"></script>                <div id=\"9538a688-0af4-498c-a9b9-394f79c0db07\" class=\"plotly-graph-div\" style=\"height:800px; width:800px;\"></div>            <script type=\"text/javascript\">                window.PLOTLYENV=window.PLOTLYENV || {};                                if (document.getElementById(\"9538a688-0af4-498c-a9b9-394f79c0db07\")) {                    Plotly.newPlot(                        \"9538a688-0af4-498c-a9b9-394f79c0db07\",                        [{\"coloraxis\":\"coloraxis\",\"name\":\"0\",\"x\":[\"0_clothing_shoes_fashion\",\"1_retail_engaged retail_eng...\",\"2_jewelry_watches_watchmaking\",\"3_store_bolaget_online\",\"4_operation_engaged operati...\",\"5_operates_store engaged_li...\",\"6_chain shoe_stores involve...\"],\"y\":[\"0_clothing_shoes_fashion\",\"1_retail_engaged retail_eng...\",\"2_jewelry_watches_watchmaking\",\"3_store_bolaget_online\",\"4_operation_engaged operati...\",\"5_operates_store engaged_li...\",\"6_chain shoe_stores involve...\"],\"z\":{\"dtype\":\"f4\",\"bdata\":\"AwCAP1wfVT\\u002fj2lQ\\u002fF\\u002f5MP09yQT+7ZUw\\u002fpsVZP1wfVT8BAIA\\u002fbqBOP8TEQz\\u002fNTWI\\u002fKC1fPzJVXj\\u002fj2lQ\\u002fbqBOPwAAgD\\u002fgWUM\\u002fQro8P3icNT8u0UM\\u002fF\\u002f5MP8TEQz\\u002fgWUM\\u002f+\\u002f9\\u002fP1GrMj\\u002fOXkU\\u002fKANGP09yQT\\u002fNTWI\\u002fQro8P1GrMj\\u002f7\\u002f38\\u002fyvFWPxsMUz+7ZUw\\u002fKC1fP3icNT\\u002fOXkU\\u002fyvFWP\\u002fz\\u002ffz\\u002fOL1M\\u002fpsVZPzJVXj8u0UM\\u002fKANGPxsMUz\\u002fOL1M\\u002fAACAPw==\",\"shape\":\"7, 7\"},\"type\":\"heatmap\",\"xaxis\":\"x\",\"yaxis\":\"y\",\"hovertemplate\":\"x: %{x}\\u003cbr\\u003ey: %{y}\\u003cbr\\u003eSimilarity Score: %{z}\\u003cextra\\u003e\\u003c\\u002fextra\\u003e\"}],                        {\"template\":{\"data\":{\"histogram2dcontour\":[{\"type\":\"histogram2dcontour\",\"colorbar\":{\"outlinewidth\":0,\"ticks\":\"\"},\"colorscale\":[[0.0,\"#0d0887\"],[0.1111111111111111,\"#46039f\"],[0.2222222222222222,\"#7201a8\"],[0.3333333333333333,\"#9c179e\"],[0.4444444444444444,\"#bd3786\"],[0.5555555555555556,\"#d8576b\"],[0.6666666666666666,\"#ed7953\"],[0.7777777777777778,\"#fb9f3a\"],[0.8888888888888888,\"#fdca26\"],[1.0,\"#f0f921\"]]}],\"choropleth\":[{\"type\":\"choropleth\",\"colorbar\":{\"outlinewidth\":0,\"ticks\":\"\"}}],\"histogram2d\":[{\"type\":\"histogram2d\",\"colorbar\":{\"outlinewidth\":0,\"ticks\":\"\"},\"colorscale\":[[0.0,\"#0d0887\"],[0.1111111111111111,\"#46039f\"],[0.2222222222222222,\"#7201a8\"],[0.3333333333333333,\"#9c179e\"],[0.4444444444444444,\"#bd3786\"],[0.5555555555555556,\"#d8576b\"],[0.6666666666666666,\"#ed7953\"],[0.7777777777777778,\"#fb9f3a\"],[0.8888888888888888,\"#fdca26\"],[1.0,\"#f0f921\"]]}],\"heatmap\":[{\"type\":\"heatmap\",\"colorbar\":{\"outlinewidth\":0,\"ticks\":\"\"},\"colorscale\":[[0.0,\"#0d0887\"],[0.1111111111111111,\"#46039f\"],[0.2222222222222222,\"#7201a8\"],[0.3333333333333333,\"#9c179e\"],[0.4444444444444444,\"#bd3786\"],[0.5555555555555556,\"#d8576b\"],[0.6666666666666666,\"#ed7953\"],[0.7777777777777778,\"#fb9f3a\"],[0.8888888888888888,\"#fdca26\"],[1.0,\"#f0f921\"]]}],\"contourcarpet\":[{\"type\":\"contourcarpet\",\"colorbar\":{\"outlinewidth\":0,\"ticks\":\"\"}}],\"contour\":[{\"type\":\"contour\",\"colorbar\":{\"outlinewidth\":0,\"ticks\":\"\"},\"colorscale\":[[0.0,\"#0d0887\"],[0.1111111111111111,\"#46039f\"],[0.2222222222222222,\"#7201a8\"],[0.3333333333333333,\"#9c179e\"],[0.4444444444444444,\"#bd3786\"],[0.5555555555555556,\"#d8576b\"],[0.6666666666666666,\"#ed7953\"],[0.7777777777777778,\"#fb9f3a\"],[0.8888888888888888,\"#fdca26\"],[1.0,\"#f0f921\"]]}],\"surface\":[{\"type\":\"surface\",\"colorbar\":{\"outlinewidth\":0,\"ticks\":\"\"},\"colorscale\":[[0.0,\"#0d0887\"],[0.1111111111111111,\"#46039f\"],[0.2222222222222222,\"#7201a8\"],[0.3333333333333333,\"#9c179e\"],[0.4444444444444444,\"#bd3786\"],[0.5555555555555556,\"#d8576b\"],[0.6666666666666666,\"#ed7953\"],[0.7777777777777778,\"#fb9f3a\"],[0.8888888888888888,\"#fdca26\"],[1.0,\"#f0f921\"]]}],\"mesh3d\":[{\"type\":\"mesh3d\",\"colorbar\":{\"outlinewidth\":0,\"ticks\":\"\"}}],\"scatter\":[{\"fillpattern\":{\"fillmode\":\"overlay\",\"size\":10,\"solidity\":0.2},\"type\":\"scatter\"}],\"parcoords\":[{\"type\":\"parcoords\",\"line\":{\"colorbar\":{\"outlinewidth\":0,\"ticks\":\"\"}}}],\"scatterpolargl\":[{\"type\":\"scatterpolargl\",\"marker\":{\"colorbar\":{\"outlinewidth\":0,\"ticks\":\"\"}}}],\"bar\":[{\"error_x\":{\"color\":\"#2a3f5f\"},\"error_y\":{\"color\":\"#2a3f5f\"},\"marker\":{\"line\":{\"color\":\"#E5ECF6\",\"width\":0.5},\"pattern\":{\"fillmode\":\"overlay\",\"size\":10,\"solidity\":0.2}},\"type\":\"bar\"}],\"scattergeo\":[{\"type\":\"scattergeo\",\"marker\":{\"colorbar\":{\"outlinewidth\":0,\"ticks\":\"\"}}}],\"scatterpolar\":[{\"type\":\"scatterpolar\",\"marker\":{\"colorbar\":{\"outlinewidth\":0,\"ticks\":\"\"}}}],\"histogram\":[{\"marker\":{\"pattern\":{\"fillmode\":\"overlay\",\"size\":10,\"solidity\":0.2}},\"type\":\"histogram\"}],\"scattergl\":[{\"type\":\"scattergl\",\"marker\":{\"colorbar\":{\"outlinewidth\":0,\"ticks\":\"\"}}}],\"scatter3d\":[{\"type\":\"scatter3d\",\"line\":{\"colorbar\":{\"outlinewidth\":0,\"ticks\":\"\"}},\"marker\":{\"colorbar\":{\"outlinewidth\":0,\"ticks\":\"\"}}}],\"scattermap\":[{\"type\":\"scattermap\",\"marker\":{\"colorbar\":{\"outlinewidth\":0,\"ticks\":\"\"}}}],\"scattermapbox\":[{\"type\":\"scattermapbox\",\"marker\":{\"colorbar\":{\"outlinewidth\":0,\"ticks\":\"\"}}}],\"scatterternary\":[{\"type\":\"scatterternary\",\"marker\":{\"colorbar\":{\"outlinewidth\":0,\"ticks\":\"\"}}}],\"scattercarpet\":[{\"type\":\"scattercarpet\",\"marker\":{\"colorbar\":{\"outlinewidth\":0,\"ticks\":\"\"}}}],\"carpet\":[{\"aaxis\":{\"endlinecolor\":\"#2a3f5f\",\"gridcolor\":\"white\",\"linecolor\":\"white\",\"minorgridcolor\":\"white\",\"startlinecolor\":\"#2a3f5f\"},\"baxis\":{\"endlinecolor\":\"#2a3f5f\",\"gridcolor\":\"white\",\"linecolor\":\"white\",\"minorgridcolor\":\"white\",\"startlinecolor\":\"#2a3f5f\"},\"type\":\"carpet\"}],\"table\":[{\"cells\":{\"fill\":{\"color\":\"#EBF0F8\"},\"line\":{\"color\":\"white\"}},\"header\":{\"fill\":{\"color\":\"#C8D4E3\"},\"line\":{\"color\":\"white\"}},\"type\":\"table\"}],\"barpolar\":[{\"marker\":{\"line\":{\"color\":\"#E5ECF6\",\"width\":0.5},\"pattern\":{\"fillmode\":\"overlay\",\"size\":10,\"solidity\":0.2}},\"type\":\"barpolar\"}],\"pie\":[{\"automargin\":true,\"type\":\"pie\"}]},\"layout\":{\"autotypenumbers\":\"strict\",\"colorway\":[\"#636efa\",\"#EF553B\",\"#00cc96\",\"#ab63fa\",\"#FFA15A\",\"#19d3f3\",\"#FF6692\",\"#B6E880\",\"#FF97FF\",\"#FECB52\"],\"font\":{\"color\":\"#2a3f5f\"},\"hovermode\":\"closest\",\"hoverlabel\":{\"align\":\"left\"},\"paper_bgcolor\":\"white\",\"plot_bgcolor\":\"#E5ECF6\",\"polar\":{\"bgcolor\":\"#E5ECF6\",\"angularaxis\":{\"gridcolor\":\"white\",\"linecolor\":\"white\",\"ticks\":\"\"},\"radialaxis\":{\"gridcolor\":\"white\",\"linecolor\":\"white\",\"ticks\":\"\"}},\"ternary\":{\"bgcolor\":\"#E5ECF6\",\"aaxis\":{\"gridcolor\":\"white\",\"linecolor\":\"white\",\"ticks\":\"\"},\"baxis\":{\"gridcolor\":\"white\",\"linecolor\":\"white\",\"ticks\":\"\"},\"caxis\":{\"gridcolor\":\"white\",\"linecolor\":\"white\",\"ticks\":\"\"}},\"coloraxis\":{\"colorbar\":{\"outlinewidth\":0,\"ticks\":\"\"}},\"colorscale\":{\"sequential\":[[0.0,\"#0d0887\"],[0.1111111111111111,\"#46039f\"],[0.2222222222222222,\"#7201a8\"],[0.3333333333333333,\"#9c179e\"],[0.4444444444444444,\"#bd3786\"],[0.5555555555555556,\"#d8576b\"],[0.6666666666666666,\"#ed7953\"],[0.7777777777777778,\"#fb9f3a\"],[0.8888888888888888,\"#fdca26\"],[1.0,\"#f0f921\"]],\"sequentialminus\":[[0.0,\"#0d0887\"],[0.1111111111111111,\"#46039f\"],[0.2222222222222222,\"#7201a8\"],[0.3333333333333333,\"#9c179e\"],[0.4444444444444444,\"#bd3786\"],[0.5555555555555556,\"#d8576b\"],[0.6666666666666666,\"#ed7953\"],[0.7777777777777778,\"#fb9f3a\"],[0.8888888888888888,\"#fdca26\"],[1.0,\"#f0f921\"]],\"diverging\":[[0,\"#8e0152\"],[0.1,\"#c51b7d\"],[0.2,\"#de77ae\"],[0.3,\"#f1b6da\"],[0.4,\"#fde0ef\"],[0.5,\"#f7f7f7\"],[0.6,\"#e6f5d0\"],[0.7,\"#b8e186\"],[0.8,\"#7fbc41\"],[0.9,\"#4d9221\"],[1,\"#276419\"]]},\"xaxis\":{\"gridcolor\":\"white\",\"linecolor\":\"white\",\"ticks\":\"\",\"title\":{\"standoff\":15},\"zerolinecolor\":\"white\",\"automargin\":true,\"zerolinewidth\":2},\"yaxis\":{\"gridcolor\":\"white\",\"linecolor\":\"white\",\"ticks\":\"\",\"title\":{\"standoff\":15},\"zerolinecolor\":\"white\",\"automargin\":true,\"zerolinewidth\":2},\"scene\":{\"xaxis\":{\"backgroundcolor\":\"#E5ECF6\",\"gridcolor\":\"white\",\"linecolor\":\"white\",\"showbackground\":true,\"ticks\":\"\",\"zerolinecolor\":\"white\",\"gridwidth\":2},\"yaxis\":{\"backgroundcolor\":\"#E5ECF6\",\"gridcolor\":\"white\",\"linecolor\":\"white\",\"showbackground\":true,\"ticks\":\"\",\"zerolinecolor\":\"white\",\"gridwidth\":2},\"zaxis\":{\"backgroundcolor\":\"#E5ECF6\",\"gridcolor\":\"white\",\"linecolor\":\"white\",\"showbackground\":true,\"ticks\":\"\",\"zerolinecolor\":\"white\",\"gridwidth\":2}},\"shapedefaults\":{\"line\":{\"color\":\"#2a3f5f\"}},\"annotationdefaults\":{\"arrowcolor\":\"#2a3f5f\",\"arrowhead\":0,\"arrowwidth\":1},\"geo\":{\"bgcolor\":\"white\",\"landcolor\":\"#E5ECF6\",\"subunitcolor\":\"white\",\"showland\":true,\"showlakes\":true,\"lakecolor\":\"white\"},\"title\":{\"x\":0.05},\"mapbox\":{\"style\":\"light\"}}},\"xaxis\":{\"anchor\":\"y\",\"domain\":[0.0,1.0],\"scaleanchor\":\"y\",\"constrain\":\"domain\"},\"yaxis\":{\"anchor\":\"x\",\"domain\":[0.0,1.0],\"autorange\":\"reversed\",\"constrain\":\"domain\"},\"coloraxis\":{\"colorbar\":{\"title\":{\"text\":\"Similarity Score\"}},\"colorscale\":[[0.0,\"rgb(247,252,240)\"],[0.125,\"rgb(224,243,219)\"],[0.25,\"rgb(204,235,197)\"],[0.375,\"rgb(168,221,181)\"],[0.5,\"rgb(123,204,196)\"],[0.625,\"rgb(78,179,211)\"],[0.75,\"rgb(43,140,190)\"],[0.875,\"rgb(8,104,172)\"],[1.0,\"rgb(8,64,129)\"]]},\"margin\":{\"t\":60},\"title\":{\"font\":{\"size\":22,\"color\":\"Black\"},\"text\":\"\\u003cb\\u003eSimilarity Matrix\\u003c\\u002fb\\u003e\",\"y\":0.95,\"x\":0.55,\"xanchor\":\"center\",\"yanchor\":\"top\"},\"hoverlabel\":{\"font\":{\"size\":16,\"family\":\"Rockwell\"},\"bgcolor\":\"white\"},\"width\":800,\"height\":800,\"showlegend\":true,\"legend\":{\"title\":{\"text\":\"Trend\"}}},                        {\"responsive\": true}                    )                };            </script>        </div>"
      ],
      "text/plain": [
       "Figure({\n",
       "    'data': [{'coloraxis': 'coloraxis',\n",
       "              'hovertemplate': 'x: %{x}<br>y: %{y}<br>Similarity Score: %{z}<extra></extra>',\n",
       "              'name': '0',\n",
       "              'type': 'heatmap',\n",
       "              'x': [0_clothing_shoes_fashion, 1_retail_engaged retail_eng...,\n",
       "                    2_jewelry_watches_watchmaking, 3_store_bolaget_online,\n",
       "                    4_operation_engaged operati..., 5_operates_store engaged_li...,\n",
       "                    6_chain shoe_stores involve...],\n",
       "              'xaxis': 'x',\n",
       "              'y': [0_clothing_shoes_fashion, 1_retail_engaged retail_eng...,\n",
       "                    2_jewelry_watches_watchmaking, 3_store_bolaget_online,\n",
       "                    4_operation_engaged operati..., 5_operates_store engaged_li...,\n",
       "                    6_chain shoe_stores involve...],\n",
       "              'yaxis': 'y',\n",
       "              'z': {'bdata': ('AwCAP1wfVT/j2lQ/F/5MP09yQT+7ZU' ... '8u0UM/KANGPxsMUz/OL1M/AACAPw=='),\n",
       "                    'dtype': 'f4',\n",
       "                    'shape': '7, 7'}}],\n",
       "    'layout': {'coloraxis': {'colorbar': {'title': {'text': 'Similarity Score'}},\n",
       "                             'colorscale': [[0.0, 'rgb(247,252,240)'], [0.125,\n",
       "                                            'rgb(224,243,219)'], [0.25,\n",
       "                                            'rgb(204,235,197)'], [0.375,\n",
       "                                            'rgb(168,221,181)'], [0.5,\n",
       "                                            'rgb(123,204,196)'], [0.625,\n",
       "                                            'rgb(78,179,211)'], [0.75,\n",
       "                                            'rgb(43,140,190)'], [0.875,\n",
       "                                            'rgb(8,104,172)'], [1.0,\n",
       "                                            'rgb(8,64,129)']]},\n",
       "               'height': 800,\n",
       "               'hoverlabel': {'bgcolor': 'white', 'font': {'family': 'Rockwell', 'size': 16}},\n",
       "               'legend': {'title': {'text': 'Trend'}},\n",
       "               'margin': {'t': 60},\n",
       "               'showlegend': True,\n",
       "               'template': '...',\n",
       "               'title': {'font': {'color': 'Black', 'size': 22},\n",
       "                         'text': '<b>Similarity Matrix</b>',\n",
       "                         'x': 0.55,\n",
       "                         'xanchor': 'center',\n",
       "                         'y': 0.95,\n",
       "                         'yanchor': 'top'},\n",
       "               'width': 800,\n",
       "               'xaxis': {'anchor': 'y', 'constrain': 'domain', 'domain': [0.0, 1.0], 'scaleanchor': 'y'},\n",
       "               'yaxis': {'anchor': 'x', 'autorange': 'reversed', 'constrain': 'domain', 'domain': [0.0, 1.0]}}\n",
       "})"
      ]
     },
     "execution_count": 46,
     "metadata": {},
     "output_type": "execute_result"
    }
   ],
   "source": [
    "topic_model.visualize_heatmap()"
   ]
  },
  {
   "cell_type": "code",
   "execution_count": null,
   "metadata": {},
   "outputs": [],
   "source": []
  }
 ],
 "metadata": {
  "kernelspec": {
   "display_name": ".env",
   "language": "python",
   "name": "python3"
  },
  "language_info": {
   "codemirror_mode": {
    "name": "ipython",
    "version": 3
   },
   "file_extension": ".py",
   "mimetype": "text/x-python",
   "name": "python",
   "nbconvert_exporter": "python",
   "pygments_lexer": "ipython3",
   "version": "3.11.5"
  }
 },
 "nbformat": 4,
 "nbformat_minor": 2
}
